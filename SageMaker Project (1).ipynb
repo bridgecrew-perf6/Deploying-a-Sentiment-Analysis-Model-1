{
 "cells": [
  {
   "cell_type": "markdown",
   "metadata": {},
   "source": [
    "# Creating a Sentiment Analysis Web App\n",
    "## Using PyTorch and SageMaker\n",
    "\n",
    "_Deep Learning Nanodegree Program | Deployment_\n",
    "\n",
    "---\n",
    "\n",
    "Now that we have a basic understanding of how SageMaker works we will try to use it to construct a complete project from end to end. Our goal will be to have a simple web page which a user can use to enter a movie review. The web page will then send the review off to our deployed model which will predict the sentiment of the entered review.\n",
    "\n",
    "## Instructions\n",
    "\n",
    "Some template code has already been provided for you, and you will need to implement additional functionality to successfully complete this notebook. You will not need to modify the included code beyond what is requested. Sections that begin with '**TODO**' in the header indicate that you need to complete or implement some portion within them. Instructions will be provided for each section and the specifics of the implementation are marked in the code block with a `# TODO: ...` comment. Please be sure to read the instructions carefully!\n",
    "\n",
    "In addition to implementing code, there will be questions for you to answer which relate to the task and your implementation. Each section where you will answer a question is preceded by a '**Question:**' header. Carefully read each question and provide your answer below the '**Answer:**' header by editing the Markdown cell.\n",
    "\n",
    "> **Note**: Code and Markdown cells can be executed using the **Shift+Enter** keyboard shortcut. In addition, a cell can be edited by typically clicking it (double-click for Markdown cells) or by pressing **Enter** while it is highlighted.\n",
    "\n",
    "## General Outline\n",
    "\n",
    "Recall the general outline for SageMaker projects using a notebook instance.\n",
    "\n",
    "1. Download or otherwise retrieve the data.\n",
    "2. Process / Prepare the data.\n",
    "3. Upload the processed data to S3.\n",
    "4. Train a chosen model.\n",
    "5. Test the trained model (typically using a batch transform job).\n",
    "6. Deploy the trained model.\n",
    "7. Use the deployed model.\n",
    "\n",
    "For this project, you will be following the steps in the general outline with some modifications. \n",
    "\n",
    "First, you will not be testing the model in its own step. You will still be testing the model, however, you will do it by deploying your model and then using the deployed model by sending the test data to it. One of the reasons for doing this is so that you can make sure that your deployed model is working correctly before moving forward.\n",
    "\n",
    "In addition, you will deploy and use your trained model a second time. In the second iteration you will customize the way that your trained model is deployed by including some of your own code. In addition, your newly deployed model will be used in the sentiment analysis web app."
   ]
  },
  {
   "cell_type": "markdown",
   "metadata": {},
   "source": [
    "## Step 1: Downloading the data\n",
    "\n",
    "As in the XGBoost in SageMaker notebook, we will be using the [IMDb dataset](http://ai.stanford.edu/~amaas/data/sentiment/)\n",
    "\n",
    "> Maas, Andrew L., et al. [Learning Word Vectors for Sentiment Analysis](http://ai.stanford.edu/~amaas/data/sentiment/). In _Proceedings of the 49th Annual Meeting of the Association for Computational Linguistics: Human Language Technologies_. Association for Computational Linguistics, 2011."
   ]
  },
  {
   "cell_type": "code",
   "execution_count": 106,
   "metadata": {},
   "outputs": [
    {
     "name": "stdout",
     "output_type": "stream",
     "text": [
      "mkdir: cannot create directory ‘../data’: File exists\n",
      "--2020-09-14 06:26:19--  http://ai.stanford.edu/~amaas/data/sentiment/aclImdb_v1.tar.gz\n",
      "Resolving ai.stanford.edu (ai.stanford.edu)... 171.64.68.10\n",
      "Connecting to ai.stanford.edu (ai.stanford.edu)|171.64.68.10|:80... connected.\n",
      "HTTP request sent, awaiting response... 200 OK\n",
      "Length: 84125825 (80M) [application/x-gzip]\n",
      "Saving to: ‘../data/aclImdb_v1.tar.gz’\n",
      "\n",
      "../data/aclImdb_v1. 100%[===================>]  80.23M  6.33MB/s    in 17s     \n",
      "\n",
      "2020-09-14 06:26:37 (4.73 MB/s) - ‘../data/aclImdb_v1.tar.gz’ saved [84125825/84125825]\n",
      "\n"
     ]
    }
   ],
   "source": [
    "%mkdir ../data\n",
    "!wget -O ../data/aclImdb_v1.tar.gz http://ai.stanford.edu/~amaas/data/sentiment/aclImdb_v1.tar.gz\n",
    "!tar -zxf ../data/aclImdb_v1.tar.gz -C ../data"
   ]
  },
  {
   "cell_type": "markdown",
   "metadata": {},
   "source": [
    "## Step 2: Preparing and Processing the data\n",
    "\n",
    "Also, as in the XGBoost notebook, we will be doing some initial data processing. The first few steps are the same as in the XGBoost example. To begin with, we will read in each of the reviews and combine them into a single input structure. Then, we will split the dataset into a training set and a testing set."
   ]
  },
  {
   "cell_type": "code",
   "execution_count": 107,
   "metadata": {},
   "outputs": [],
   "source": [
    "import os\n",
    "import glob\n",
    "\n",
    "def read_imdb_data(data_dir='../data/aclImdb'):\n",
    "    data = {}\n",
    "    labels = {}\n",
    "    \n",
    "    for data_type in ['train', 'test']:\n",
    "        data[data_type] = {}\n",
    "        labels[data_type] = {}\n",
    "        \n",
    "        for sentiment in ['pos', 'neg']:\n",
    "            data[data_type][sentiment] = []\n",
    "            labels[data_type][sentiment] = []\n",
    "            \n",
    "            path = os.path.join(data_dir, data_type, sentiment, '*.txt')\n",
    "            files = glob.glob(path)\n",
    "            \n",
    "            for f in files:\n",
    "                with open(f) as review:\n",
    "                    data[data_type][sentiment].append(review.read())\n",
    "                    # Here we represent a positive review by '1' and a negative review by '0'\n",
    "                    labels[data_type][sentiment].append(1 if sentiment == 'pos' else 0)\n",
    "                    \n",
    "            assert len(data[data_type][sentiment]) == len(labels[data_type][sentiment]), \\\n",
    "                    \"{}/{} data size does not match labels size\".format(data_type, sentiment)\n",
    "                \n",
    "    return data, labels"
   ]
  },
  {
   "cell_type": "code",
   "execution_count": 108,
   "metadata": {},
   "outputs": [
    {
     "name": "stdout",
     "output_type": "stream",
     "text": [
      "IMDB reviews: train = 12500 pos / 12500 neg, test = 12500 pos / 12500 neg\n"
     ]
    }
   ],
   "source": [
    "data, labels = read_imdb_data()\n",
    "print(\"IMDB reviews: train = {} pos / {} neg, test = {} pos / {} neg\".format(\n",
    "            len(data['train']['pos']), len(data['train']['neg']),\n",
    "            len(data['test']['pos']), len(data['test']['neg'])))"
   ]
  },
  {
   "cell_type": "markdown",
   "metadata": {},
   "source": [
    "Now that we've read the raw training and testing data from the downloaded dataset, we will combine the positive and negative reviews and shuffle the resulting records."
   ]
  },
  {
   "cell_type": "code",
   "execution_count": 109,
   "metadata": {},
   "outputs": [],
   "source": [
    "from sklearn.utils import shuffle\n",
    "\n",
    "def prepare_imdb_data(data, labels):\n",
    "    \"\"\"Prepare training and test sets from IMDb movie reviews.\"\"\"\n",
    "    \n",
    "    #Combine positive and negative reviews and labels\n",
    "    data_train = data['train']['pos'] + data['train']['neg']\n",
    "    data_test = data['test']['pos'] + data['test']['neg']\n",
    "    labels_train = labels['train']['pos'] + labels['train']['neg']\n",
    "    labels_test = labels['test']['pos'] + labels['test']['neg']\n",
    "    \n",
    "    #Shuffle reviews and corresponding labels within training and test sets\n",
    "    data_train, labels_train = shuffle(data_train, labels_train)\n",
    "    data_test, labels_test = shuffle(data_test, labels_test)\n",
    "    \n",
    "    # Return a unified training data, test data, training labels, test labets\n",
    "    return data_train, data_test, labels_train, labels_test"
   ]
  },
  {
   "cell_type": "code",
   "execution_count": 110,
   "metadata": {},
   "outputs": [
    {
     "name": "stdout",
     "output_type": "stream",
     "text": [
      "IMDb reviews (combined): train = 25000, test = 25000\n"
     ]
    }
   ],
   "source": [
    "train_X, test_X, train_y, test_y = prepare_imdb_data(data, labels)\n",
    "print(\"IMDb reviews (combined): train = {}, test = {}\".format(len(train_X), len(test_X)))"
   ]
  },
  {
   "cell_type": "markdown",
   "metadata": {},
   "source": [
    "Now that we have our training and testing sets unified and prepared, we should do a quick check and see an example of the data our model will be trained on. This is generally a good idea as it allows you to see how each of the further processing steps affects the reviews and it also ensures that the data has been loaded correctly."
   ]
  },
  {
   "cell_type": "code",
   "execution_count": 111,
   "metadata": {},
   "outputs": [
    {
     "name": "stdout",
     "output_type": "stream",
     "text": [
      "Well here comes another,well,romantic comedy...but unlike all others movies of this genre,this is by far the best I have seen in a long while..<br /><br />I'll admit,at first I wanted to watch this movie because of Megan Fox,and a little because of Simon Pegg...<br /><br />First of all,if you have watched a decent amount of movies,you will know that Sidney and Alison would be together at the and of the movie,one way or another...but from the beginning to the end of the movie you won't know how...<br /><br />Okay,now this movie is just made for Simon Pegg.I can't see any other actor in the role of Sidney,and I'm sure this would be a very weaker movie if not for Pegg's great performance.<br /><br />There is a number of great gags and jokes in this movie that kept me laughing really hard,courtesy of Simon Pegg's character Sidney...but I think everyone in this movie is good.For example,Kirsten Dunst is really solid in this movie( I usually don't think of her as any more than an average actress,but she was really good in this one ),then there's Jeff Bridges,there's Gillian Anderson,and of course Megan Fox who plays spoiled bitchy star Sophie Maes...great role for her...<br /><br />All in all,while I usually don't agree with ratings her on IMDb,this time I would completely agree with them...<br /><br />Go and see this movie,it is really light-hearted and positive,and I recommend it deeply... My rating 7 out of 10...well 7.5 actually...\n",
      "1\n"
     ]
    }
   ],
   "source": [
    "print(train_X[100])\n",
    "print(train_y[100])"
   ]
  },
  {
   "cell_type": "markdown",
   "metadata": {},
   "source": [
    "The first step in processing the reviews is to make sure that any html tags that appear should be removed. In addition we wish to tokenize our input, that way words such as *entertained* and *entertaining* are considered the same with regard to sentiment analysis."
   ]
  },
  {
   "cell_type": "code",
   "execution_count": 112,
   "metadata": {},
   "outputs": [],
   "source": [
    "import nltk\n",
    "from nltk.corpus import stopwords\n",
    "from nltk.stem.porter import *\n",
    "\n",
    "import re\n",
    "from bs4 import BeautifulSoup\n",
    "\n",
    "def review_to_words(review):\n",
    "    nltk.download(\"stopwords\", quiet=True)\n",
    "    stemmer = PorterStemmer()\n",
    "    \n",
    "    text = BeautifulSoup(review, \"html.parser\").get_text() # Remove HTML tags\n",
    "    text = re.sub(r\"[^a-zA-Z0-9]\", \" \", text.lower()) # Convert to lower case\n",
    "    words = text.split() # Split string into words\n",
    "    words = [w for w in words if w not in stopwords.words(\"english\")] # Remove stopwords\n",
    "    words = [PorterStemmer().stem(w) for w in words] # stem\n",
    "    \n",
    "    return words"
   ]
  },
  {
   "cell_type": "markdown",
   "metadata": {},
   "source": [
    "The `review_to_words` method defined above uses `BeautifulSoup` to remove any html tags that appear and uses the `nltk` package to tokenize the reviews. As a check to ensure we know how everything is working, try applying `review_to_words` to one of the reviews in the training set."
   ]
  },
  {
   "cell_type": "code",
   "execution_count": 113,
   "metadata": {},
   "outputs": [
    {
     "data": {
      "text/plain": [
       "['love',\n",
       " 'show',\n",
       " 'watch',\n",
       " 'rerun',\n",
       " 'everi',\n",
       " 'day',\n",
       " 'even',\n",
       " 'though',\n",
       " 'seen',\n",
       " 'like',\n",
       " '6',\n",
       " 'time',\n",
       " 'two',\n",
       " 'sister',\n",
       " 'holli',\n",
       " 'amanda',\n",
       " 'byne',\n",
       " 'val',\n",
       " 'jenni',\n",
       " 'garth',\n",
       " 'live',\n",
       " 'new',\n",
       " 'york',\n",
       " 'holli',\n",
       " 'goe',\n",
       " 'live',\n",
       " 'val',\n",
       " 'dad',\n",
       " 'transfer',\n",
       " 'japan',\n",
       " 'val',\n",
       " 'perfect',\n",
       " 'life',\n",
       " 'boyfriend',\n",
       " 'perfect',\n",
       " 'apart',\n",
       " 'upper',\n",
       " 'east',\n",
       " 'side',\n",
       " 'show',\n",
       " 'basic',\n",
       " 'show',\n",
       " 'problem',\n",
       " 'vall',\n",
       " 'holli',\n",
       " 'go',\n",
       " 'main',\n",
       " 'problem',\n",
       " 'guy',\n",
       " 'also',\n",
       " 'respons',\n",
       " 'life',\n",
       " 'choic',\n",
       " 'holli',\n",
       " '16',\n",
       " 'total',\n",
       " 'free',\n",
       " 'spirit',\n",
       " 'val',\n",
       " 'complet',\n",
       " 'opposit',\n",
       " 'organ',\n",
       " 'plan',\n",
       " 'anyth',\n",
       " 'kind',\n",
       " 'person',\n",
       " 'charact',\n",
       " 'henri',\n",
       " 'vinc',\n",
       " 'gari',\n",
       " 'lauren',\n",
       " 'tina']"
      ]
     },
     "execution_count": 113,
     "metadata": {},
     "output_type": "execute_result"
    }
   ],
   "source": [
    "# TODO: Apply review_to_words to a review (train_X[100] or any other review)\n",
    "review_to_words(train_X[20])\n"
   ]
  },
  {
   "cell_type": "markdown",
   "metadata": {},
   "source": [
    "**Question:** Above we mentioned that `review_to_words` method removes html formatting and allows us to tokenize the words found in a review, for example, converting *entertained* and *entertaining* into *entertain* so that they are treated as though they are the same word. What else, if anything, does this method do to the input?"
   ]
  },
  {
   "cell_type": "markdown",
   "metadata": {},
   "source": [
    "**Answer:**\n",
    "  remove punctuations,remove html tags like <\\br> <//br>, convert to lowercase"
   ]
  },
  {
   "cell_type": "markdown",
   "metadata": {},
   "source": [
    "The method below applies the `review_to_words` method to each of the reviews in the training and testing datasets. In addition it caches the results. This is because performing this processing step can take a long time. This way if you are unable to complete the notebook in the current session, you can come back without needing to process the data a second time."
   ]
  },
  {
   "cell_type": "code",
   "execution_count": 114,
   "metadata": {},
   "outputs": [],
   "source": [
    "import pickle\n",
    "\n",
    "cache_dir = os.path.join(\"../cache\", \"sentiment_analysis\")  # where to store cache files\n",
    "os.makedirs(cache_dir, exist_ok=True)  # ensure cache directory exists\n",
    "\n",
    "def preprocess_data(data_train, data_test, labels_train, labels_test,\n",
    "                    cache_dir=cache_dir, cache_file=\"preprocessed_data.pkl\"):\n",
    "    \"\"\"Convert each review to words; read from cache if available.\"\"\"\n",
    "\n",
    "    # If cache_file is not None, try to read from it first\n",
    "    cache_data = None\n",
    "    if cache_file is not None:\n",
    "        try:\n",
    "            with open(os.path.join(cache_dir, cache_file), \"rb\") as f:\n",
    "                cache_data = pickle.load(f)\n",
    "            print(\"Read preprocessed data from cache file:\", cache_file)\n",
    "        except:\n",
    "            pass  # unable to read from cache, but that's okay\n",
    "    \n",
    "    # If cache is missing, then do the heavy lifting\n",
    "    if cache_data is None:\n",
    "        # Preprocess training and test data to obtain words for each review\n",
    "        #words_train = list(map(review_to_words, data_train))\n",
    "        #words_test = list(map(review_to_words, data_test))\n",
    "        words_train = [review_to_words(review) for review in data_train]\n",
    "        words_test = [review_to_words(review) for review in data_test]\n",
    "        \n",
    "        # Write to cache file for future runs\n",
    "        if cache_file is not None:\n",
    "            cache_data = dict(words_train=words_train, words_test=words_test,\n",
    "                              labels_train=labels_train, labels_test=labels_test)\n",
    "            with open(os.path.join(cache_dir, cache_file), \"wb\") as f:\n",
    "                pickle.dump(cache_data, f)\n",
    "            print(\"Wrote preprocessed data to cache file:\", cache_file)\n",
    "    else:\n",
    "        # Unpack data loaded from cache file\n",
    "        words_train, words_test, labels_train, labels_test = (cache_data['words_train'],\n",
    "                cache_data['words_test'], cache_data['labels_train'], cache_data['labels_test'])\n",
    "    \n",
    "    return words_train, words_test, labels_train, labels_test"
   ]
  },
  {
   "cell_type": "code",
   "execution_count": 115,
   "metadata": {},
   "outputs": [
    {
     "name": "stdout",
     "output_type": "stream",
     "text": [
      "Read preprocessed data from cache file: preprocessed_data.pkl\n"
     ]
    }
   ],
   "source": [
    "# Preprocess data\n",
    "train_X, test_X, train_y, test_y = preprocess_data(train_X, test_X, train_y, test_y)"
   ]
  },
  {
   "cell_type": "markdown",
   "metadata": {},
   "source": [
    "## Transform the data\n",
    "\n",
    "In the XGBoost notebook we transformed the data from its word representation to a bag-of-words feature representation. For the model we are going to construct in this notebook we will construct a feature representation which is very similar. To start, we will represent each word as an integer. Of course, some of the words that appear in the reviews occur very infrequently and so likely don't contain much information for the purposes of sentiment analysis. The way we will deal with this problem is that we will fix the size of our working vocabulary and we will only include the words that appear most frequently. We will then combine all of the infrequent words into a single category and, in our case, we will label it as `1`.\n",
    "\n",
    "Since we will be using a recurrent neural network, it will be convenient if the length of each review is the same. To do this, we will fix a size for our reviews and then pad short reviews with the category 'no word' (which we will label `0`) and truncate long reviews."
   ]
  },
  {
   "cell_type": "markdown",
   "metadata": {},
   "source": [
    "### (TODO) Create a word dictionary\n",
    "\n",
    "To begin with, we need to construct a way to map words that appear in the reviews to integers. Here we fix the size of our vocabulary (including the 'no word' and 'infrequent' categories) to be `5000` but you may wish to change this to see how it affects the model.\n",
    "\n",
    "> **TODO:** Complete the implementation for the `build_dict()` method below. Note that even though the vocab_size is set to `5000`, we only want to construct a mapping for the most frequently appearing `4998` words. This is because we want to reserve the special labels `0` for 'no word' and `1` for 'infrequent word'."
   ]
  },
  {
   "cell_type": "code",
   "execution_count": 116,
   "metadata": {},
   "outputs": [],
   "source": [
    "import numpy as np\n",
    "def count_the_words(data):\n",
    "    \"\"\"returns the count of how many times a word occurs in the given data the data has a collection of sentences each having a collection of words.\"\"\"\n",
    "    word_count = {} \n",
    "    for review in data:\n",
    "        for word in review:\n",
    "            if word in word_count:\n",
    "                word_count[word] += 1\n",
    "            else: \n",
    "                word_count[word] = 1\n",
    "    return word_count\n",
    "\n",
    "def build_dict(data, vocab_size = 5000):\n",
    "    \"\"\"Construct and return a dictionary mapping each of the most frequently appearing words to a unique integer.\"\"\"\n",
    "    \n",
    "    # TODO: Determine how often each word appears in `data`. Note that `data` is a list of sentences and that a\n",
    "    #       sentence is a list of words.\n",
    "    word_count = count_the_words(data)\n",
    "    \n",
    "    # TODO: Sort the words found in `data` so that sorted_words[0] is the most frequently appearing word and\n",
    "    #       sorted_words[-1] is the least frequently appearing word.\n",
    "    #using the sorted functiong to sort the list\n",
    "    sorted_words = sorted(word_count, key=word_count.get, reverse=True)\n",
    "    \n",
    "    word_dict = {} # This is what we are building, a dictionary that translates words into integers\n",
    "    for idx, word in enumerate(sorted_words[:vocab_size - 2]): # The -2 is so that we save room for the 'no word'\n",
    "        word_dict[word] = idx + 2                              # 'infrequent' labels\n",
    "        \n",
    "    return word_dict"
   ]
  },
  {
   "cell_type": "code",
   "execution_count": 117,
   "metadata": {},
   "outputs": [],
   "source": [
    "word_dict = build_dict(train_X)"
   ]
  },
  {
   "cell_type": "markdown",
   "metadata": {},
   "source": [
    "**Question:** What are the five most frequently appearing (tokenized) words in the training set? Does it makes sense that these words appear frequently in the training set?"
   ]
  },
  {
   "cell_type": "markdown",
   "metadata": {},
   "source": [
    "**Answer:** 'movi': 2, 'film': 3, 'one': 4, 'like': 5, 'time': 6, top five words\n",
    "yes I would use those words too while writing a review"
   ]
  },
  {
   "cell_type": "code",
   "execution_count": 118,
   "metadata": {},
   "outputs": [
    {
     "name": "stdout",
     "output_type": "stream",
     "text": [
      "{'movi': 2, 'film': 3, 'one': 4, 'like': 5, 'time': 6, 'good': 7, 'make': 8, 'charact': 9, 'get': 10, 'see': 11, 'watch': 12, 'stori': 13, 'even': 14, 'would': 15, 'realli': 16, 'well': 17, 'scene': 18, 'look': 19, 'show': 20, 'much': 21, 'end': 22, 'peopl': 23, 'bad': 24, 'go': 25, 'great': 26, 'also': 27, 'first': 28, 'love': 29, 'think': 30, 'way': 31, 'act': 32, 'play': 33, 'made': 34, 'thing': 35, 'could': 36, 'know': 37, 'say': 38, 'seem': 39, 'work': 40, 'plot': 41, 'two': 42, 'actor': 43, 'year': 44, 'come': 45, 'mani': 46, 'seen': 47, 'take': 48, 'want': 49, 'life': 50, 'never': 51, 'littl': 52, 'best': 53, 'tri': 54, 'man': 55, 'ever': 56, 'give': 57, 'better': 58, 'still': 59, 'perform': 60, 'find': 61, 'feel': 62, 'part': 63, 'back': 64, 'use': 65, 'someth': 66, 'director': 67, 'actual': 68, 'interest': 69, 'lot': 70, 'real': 71, 'old': 72, 'cast': 73, 'though': 74, 'live': 75, 'star': 76, 'enjoy': 77, 'guy': 78, 'anoth': 79, 'new': 80, 'role': 81, 'noth': 82, '10': 83, 'funni': 84, 'music': 85, 'point': 86, 'start': 87, 'set': 88, 'girl': 89, 'origin': 90, 'day': 91, 'world': 92, 'everi': 93, 'believ': 94, 'turn': 95, 'quit': 96, 'us': 97, 'direct': 98, 'thought': 99, 'fact': 100, 'minut': 101, 'horror': 102, 'kill': 103, 'action': 104, 'comedi': 105, 'pretti': 106, 'young': 107, 'wonder': 108, 'happen': 109, 'around': 110, 'got': 111, 'effect': 112, 'right': 113, 'long': 114, 'howev': 115, 'big': 116, 'line': 117, 'famili': 118, 'enough': 119, 'seri': 120, 'may': 121, 'need': 122, 'fan': 123, 'bit': 124, 'script': 125, 'beauti': 126, 'person': 127, 'becom': 128, 'without': 129, 'must': 130, 'alway': 131, 'friend': 132, 'tell': 133, 'reason': 134, 'saw': 135, 'last': 136, 'final': 137, 'kid': 138, 'almost': 139, 'put': 140, 'least': 141, 'sure': 142, 'done': 143, 'whole': 144, 'place': 145, 'complet': 146, 'kind': 147, 'expect': 148, 'differ': 149, 'shot': 150, 'far': 151, 'mean': 152, 'anyth': 153, 'book': 154, 'laugh': 155, 'might': 156, 'name': 157, 'sinc': 158, 'begin': 159, '2': 160, 'probabl': 161, 'woman': 162, 'help': 163, 'entertain': 164, 'let': 165, 'screen': 166, 'call': 167, 'tv': 168, 'moment': 169, 'away': 170, 'read': 171, 'yet': 172, 'rather': 173, 'worst': 174, 'run': 175, 'fun': 176, 'lead': 177, 'hard': 178, 'audienc': 179, 'idea': 180, 'anyon': 181, 'episod': 182, 'american': 183, 'found': 184, 'appear': 185, 'bore': 186, 'especi': 187, 'although': 188, 'hope': 189, 'keep': 190, 'cours': 191, 'anim': 192, 'job': 193, 'goe': 194, 'move': 195, 'sens': 196, 'version': 197, 'dvd': 198, 'war': 199, 'money': 200, 'someon': 201, 'mind': 202, 'mayb': 203, 'problem': 204, 'true': 205, 'hous': 206, 'everyth': 207, 'nice': 208, 'second': 209, 'rate': 210, 'three': 211, 'night': 212, 'follow': 213, 'face': 214, 'recommend': 215, 'product': 216, 'main': 217, 'worth': 218, 'leav': 219, 'human': 220, 'special': 221, 'excel': 222, 'togeth': 223, 'wast': 224, 'sound': 225, 'everyon': 226, 'john': 227, 'hand': 228, '1': 229, 'father': 230, 'later': 231, 'eye': 232, 'said': 233, 'view': 234, 'instead': 235, 'review': 236, 'boy': 237, 'high': 238, 'hour': 239, 'miss': 240, 'classic': 241, 'talk': 242, 'wife': 243, 'understand': 244, 'left': 245, 'care': 246, 'black': 247, 'death': 248, 'open': 249, 'murder': 250, 'write': 251, 'half': 252, 'head': 253, 'rememb': 254, 'chang': 255, 'viewer': 256, 'fight': 257, 'gener': 258, 'surpris': 259, 'includ': 260, 'short': 261, 'die': 262, 'fall': 263, 'less': 264, 'els': 265, 'entir': 266, 'piec': 267, 'involv': 268, 'pictur': 269, 'simpli': 270, 'home': 271, 'top': 272, 'power': 273, 'total': 274, 'usual': 275, 'budget': 276, 'attempt': 277, 'suppos': 278, 'releas': 279, 'hollywood': 280, 'terribl': 281, 'song': 282, 'men': 283, 'possibl': 284, 'featur': 285, 'portray': 286, 'disappoint': 287, 'poor': 288, '3': 289, 'coupl': 290, 'stupid': 291, 'camera': 292, 'dead': 293, 'wrong': 294, 'low': 295, 'produc': 296, 'either': 297, 'video': 298, 'aw': 299, 'definit': 300, 'except': 301, 'rest': 302, 'given': 303, 'absolut': 304, 'women': 305, 'lack': 306, 'word': 307, 'writer': 308, 'titl': 309, 'talent': 310, 'decid': 311, 'full': 312, 'perfect': 313, 'along': 314, 'style': 315, 'close': 316, 'truli': 317, 'school': 318, 'emot': 319, 'save': 320, 'age': 321, 'sex': 322, 'next': 323, 'bring': 324, 'mr': 325, 'case': 326, 'killer': 327, 'heart': 328, 'comment': 329, 'sort': 330, 'creat': 331, 'perhap': 332, 'came': 333, 'brother': 334, 'sever': 335, 'joke': 336, 'art': 337, 'dialogu': 338, 'game': 339, 'small': 340, 'base': 341, 'flick': 342, 'written': 343, 'sequenc': 344, 'meet': 345, 'earli': 346, 'often': 347, 'other': 348, 'mother': 349, 'develop': 350, 'humor': 351, 'actress': 352, 'consid': 353, 'dark': 354, 'guess': 355, 'amaz': 356, 'unfortun': 357, 'light': 358, 'lost': 359, 'exampl': 360, 'cinema': 361, 'drama': 362, 'ye': 363, 'white': 364, 'experi': 365, 'imagin': 366, 'mention': 367, 'stop': 368, 'natur': 369, 'forc': 370, 'manag': 371, 'felt': 372, 'cut': 373, 'present': 374, 'children': 375, 'fail': 376, 'son': 377, 'qualiti': 378, 'support': 379, 'car': 380, 'ask': 381, 'hit': 382, 'side': 383, 'voic': 384, 'extrem': 385, 'impress': 386, 'wors': 387, 'evil': 388, 'went': 389, 'stand': 390, 'certainli': 391, 'basic': 392, 'oh': 393, 'overal': 394, 'favorit': 395, 'horribl': 396, 'mysteri': 397, 'number': 398, 'type': 399, 'danc': 400, 'wait': 401, 'hero': 402, 'alreadi': 403, '5': 404, 'learn': 405, 'matter': 406, '4': 407, 'michael': 408, 'genr': 409, 'fine': 410, 'despit': 411, 'throughout': 412, 'walk': 413, 'success': 414, 'histori': 415, 'question': 416, 'zombi': 417, 'town': 418, 'realiz': 419, 'relationship': 420, 'child': 421, 'past': 422, 'daughter': 423, 'late': 424, 'b': 425, 'wish': 426, 'hate': 427, 'credit': 428, 'event': 429, 'theme': 430, 'touch': 431, 'citi': 432, 'today': 433, 'sometim': 434, 'behind': 435, 'god': 436, 'twist': 437, 'sit': 438, 'annoy': 439, 'stay': 440, 'deal': 441, 'abl': 442, 'rent': 443, 'pleas': 444, 'edit': 445, 'blood': 446, 'deserv': 447, 'anyway': 448, 'comic': 449, 'appar': 450, 'soon': 451, 'gave': 452, 'etc': 453, 'level': 454, 'slow': 455, 'chanc': 456, 'score': 457, 'bodi': 458, 'brilliant': 459, 'incred': 460, 'figur': 461, 'situat': 462, 'major': 463, 'self': 464, 'stuff': 465, 'decent': 466, 'element': 467, 'return': 468, 'dream': 469, 'obvious': 470, 'order': 471, 'continu': 472, 'pace': 473, 'ridicul': 474, 'happi': 475, 'add': 476, 'group': 477, 'highli': 478, 'thank': 479, 'ladi': 480, 'novel': 481, 'speak': 482, 'pain': 483, 'career': 484, 'shoot': 485, 'strang': 486, 'heard': 487, 'sad': 488, 'polic': 489, 'husband': 490, 'import': 491, 'break': 492, 'took': 493, 'cannot': 494, 'strong': 495, 'predict': 496, 'robert': 497, 'violenc': 498, 'hilari': 499, 'recent': 500, 'countri': 501, 'known': 502, 'particularli': 503, 'pick': 504, 'documentari': 505, 'season': 506, 'critic': 507, 'jame': 508, 'compar': 509, 'obviou': 510, 'alon': 511, 'told': 512, 'state': 513, 'visual': 514, 'rock': 515, 'theater': 516, 'exist': 517, 'offer': 518, 'opinion': 519, 'gore': 520, 'crap': 521, 'hold': 522, 'result': 523, 'realiti': 524, 'hear': 525, 'room': 526, 'clich': 527, 'effort': 528, 'thriller': 529, 'caus': 530, 'serious': 531, 'sequel': 532, 'explain': 533, 'king': 534, 'local': 535, 'ago': 536, 'hell': 537, 'none': 538, 'note': 539, 'allow': 540, 'sister': 541, 'david': 542, 'simpl': 543, 'femal': 544, 'deliv': 545, 'ok': 546, 'convinc': 547, 'class': 548, 'check': 549, 'suspens': 550, 'win': 551, 'buy': 552, 'oscar': 553, 'huge': 554, 'valu': 555, 'sexual': 556, 'cool': 557, 'scari': 558, 'excit': 559, 'similar': 560, 'apart': 561, 'provid': 562, 'exactli': 563, 'shown': 564, 'avoid': 565, 'seriou': 566, 'english': 567, 'taken': 568, 'whose': 569, 'cinematographi': 570, 'shock': 571, 'polit': 572, 'spoiler': 573, 'offic': 574, 'across': 575, 'middl': 576, 'pass': 577, 'street': 578, 'messag': 579, 'charm': 580, 'somewhat': 581, 'silli': 582, 'modern': 583, 'filmmak': 584, 'confus': 585, 'form': 586, 'tale': 587, 'singl': 588, 'jack': 589, 'mostli': 590, 'attent': 591, 'carri': 592, 'william': 593, 'sing': 594, 'subject': 595, 'five': 596, 'prove': 597, 'richard': 598, 'stage': 599, 'team': 600, 'cop': 601, 'unlik': 602, 'georg': 603, 'televis': 604, 'monster': 605, 'earth': 606, 'villain': 607, 'cover': 608, 'pay': 609, 'marri': 610, 'toward': 611, 'build': 612, 'pull': 613, 'parent': 614, 'due': 615, 'fill': 616, 'respect': 617, 'dialog': 618, 'four': 619, 'remind': 620, 'futur': 621, 'typic': 622, 'weak': 623, '7': 624, 'cheap': 625, 'intellig': 626, 'british': 627, 'atmospher': 628, 'clearli': 629, '80': 630, 'paul': 631, 'dog': 632, 'non': 633, 'fast': 634, 'knew': 635, 'artist': 636, '8': 637, 'crime': 638, 'easili': 639, 'escap': 640, 'doubt': 641, 'adult': 642, 'detail': 643, 'date': 644, 'fire': 645, 'romant': 646, 'member': 647, 'gun': 648, 'drive': 649, 'straight': 650, 'beyond': 651, 'fit': 652, 'attack': 653, 'imag': 654, 'upon': 655, 'posit': 656, 'whether': 657, 'fantast': 658, 'peter': 659, 'appreci': 660, 'aspect': 661, 'captur': 662, 'ten': 663, 'plan': 664, 'discov': 665, 'remain': 666, 'period': 667, 'near': 668, 'realist': 669, 'air': 670, 'mark': 671, 'red': 672, 'dull': 673, 'adapt': 674, 'within': 675, 'spend': 676, 'lose': 677, 'materi': 678, 'color': 679, 'chase': 680, 'mari': 681, 'storylin': 682, 'forget': 683, 'bunch': 684, 'clear': 685, 'lee': 686, 'victim': 687, 'nearli': 688, 'box': 689, 'york': 690, 'inspir': 691, 'match': 692, 'finish': 693, 'mess': 694, 'standard': 695, 'easi': 696, 'truth': 697, 'suffer': 698, 'busi': 699, 'space': 700, 'bill': 701, 'dramat': 702, 'western': 703, 'e': 704, 'list': 705, 'battl': 706, 'notic': 707, 'de': 708, 'french': 709, 'ad': 710, '9': 711, 'tom': 712, 'larg': 713, 'among': 714, 'eventu': 715, 'accept': 716, 'train': 717, 'agre': 718, 'soundtrack': 719, 'spirit': 720, 'third': 721, 'teenag': 722, 'soldier': 723, 'adventur': 724, 'sorri': 725, 'suggest': 726, 'drug': 727, 'famou': 728, 'cri': 729, 'normal': 730, 'babi': 731, 'ultim': 732, 'troubl': 733, 'contain': 734, 'certain': 735, 'cultur': 736, 'romanc': 737, 'rare': 738, 'lame': 739, 'somehow': 740, 'mix': 741, 'disney': 742, 'gone': 743, 'cartoon': 744, 'student': 745, 'fear': 746, 'reveal': 747, 'kept': 748, 'suck': 749, 'attract': 750, 'appeal': 751, 'premis': 752, 'design': 753, 'greatest': 754, 'secret': 755, 'shame': 756, 'throw': 757, 'copi': 758, 'scare': 759, 'wit': 760, 'admit': 761, 'america': 762, 'brought': 763, 'particular': 764, 'relat': 765, 'screenplay': 766, 'whatev': 767, 'pure': 768, '70': 769, 'harri': 770, 'averag': 771, 'master': 772, 'describ': 773, 'treat': 774, 'male': 775, '20': 776, 'issu': 777, 'fantasi': 778, 'warn': 779, 'inde': 780, 'background': 781, 'forward': 782, 'project': 783, 'free': 784, 'japanes': 785, 'memor': 786, 'poorli': 787, 'award': 788, 'locat': 789, 'amus': 790, 'potenti': 791, 'struggl': 792, 'magic': 793, 'weird': 794, 'societi': 795, 'okay': 796, 'doctor': 797, 'accent': 798, 'imdb': 799, 'water': 800, 'hot': 801, 'express': 802, 'dr': 803, 'alien': 804, '30': 805, 'odd': 806, 'choic': 807, 'crazi': 808, 'studio': 809, 'fiction': 810, 'becam': 811, 'control': 812, 'masterpiec': 813, 'fli': 814, 'difficult': 815, 'joe': 816, 'scream': 817, 'costum': 818, 'lover': 819, 'refer': 820, 'uniqu': 821, 'remak': 822, 'vampir': 823, 'girlfriend': 824, 'prison': 825, 'execut': 826, 'wear': 827, 'jump': 828, 'unless': 829, 'wood': 830, 'creepi': 831, 'cheesi': 832, 'superb': 833, 'otherwis': 834, 'parti': 835, 'ghost': 836, 'roll': 837, 'public': 838, 'mad': 839, 'depict': 840, 'jane': 841, 'week': 842, 'moral': 843, 'earlier': 844, 'badli': 845, 'fi': 846, 'dumb': 847, 'flaw': 848, 'grow': 849, 'deep': 850, 'sci': 851, 'cat': 852, 'maker': 853, 'connect': 854, 'footag': 855, 'older': 856, 'bother': 857, 'plenti': 858, 'outsid': 859, 'stick': 860, 'gay': 861, 'catch': 862, 'co': 863, 'plu': 864, 'popular': 865, 'equal': 866, 'social': 867, 'disturb': 868, 'quickli': 869, 'perfectli': 870, 'dress': 871, '90': 872, 'era': 873, 'mistak': 874, 'lie': 875, 'previou': 876, 'ride': 877, 'combin': 878, 'band': 879, 'concept': 880, 'rich': 881, 'surviv': 882, 'answer': 883, 'front': 884, 'christma': 885, 'sweet': 886, 'insid': 887, 'eat': 888, 'concern': 889, 'bare': 890, 'beat': 891, 'ben': 892, 'listen': 893, 'c': 894, 'term': 895, 'serv': 896, 'german': 897, 'meant': 898, 'la': 899, 'stereotyp': 900, 'hardli': 901, 'law': 902, 'innoc': 903, 'desper': 904, 'memori': 905, 'promis': 906, 'intent': 907, 'cute': 908, 'inform': 909, 'variou': 910, 'steal': 911, 'brain': 912, 'post': 913, 'tone': 914, 'island': 915, 'amount': 916, 'nuditi': 917, 'compani': 918, 'track': 919, 'store': 920, 'claim': 921, 'hair': 922, '50': 923, 'flat': 924, 'land': 925, 'univers': 926, 'scott': 927, 'kick': 928, 'danger': 929, 'fairli': 930, 'player': 931, 'step': 932, 'crew': 933, 'plain': 934, 'toni': 935, 'share': 936, 'centuri': 937, 'tast': 938, 'engag': 939, 'achiev': 940, 'cold': 941, 'travel': 942, 'suit': 943, 'record': 944, 'rip': 945, 'manner': 946, 'sadli': 947, 'tension': 948, 'spot': 949, 'wrote': 950, 'intens': 951, 'fascin': 952, 'familiar': 953, 'remark': 954, 'burn': 955, 'depth': 956, 'histor': 957, 'destroy': 958, 'sleep': 959, 'purpos': 960, 'languag': 961, 'ruin': 962, 'ignor': 963, 'delight': 964, 'unbeliev': 965, 'italian': 966, 'soul': 967, 'collect': 968, 'abil': 969, 'clever': 970, 'detect': 971, 'violent': 972, 'rape': 973, 'reach': 974, 'door': 975, 'liter': 976, 'scienc': 977, 'trash': 978, 'reveng': 979, 'caught': 980, 'commun': 981, 'creatur': 982, 'approach': 983, 'trip': 984, 'fashion': 985, 'intrigu': 986, 'paint': 987, 'skill': 988, 'introduc': 989, 'complex': 990, 'channel': 991, 'camp': 992, 'christian': 993, 'hole': 994, 'extra': 995, 'limit': 996, 'mental': 997, 'immedi': 998, 'ann': 999, 'comput': 1000, 'slightli': 1001, '6': 1002, 'million': 1003, 'mere': 1004, 'conclus': 1005, 'slasher': 1006, 'imposs': 1007, 'suddenli': 1008, 'teen': 1009, 'crimin': 1010, 'neither': 1011, 'physic': 1012, 'spent': 1013, 'nation': 1014, 'respons': 1015, 'planet': 1016, 'receiv': 1017, 'fake': 1018, 'sick': 1019, 'blue': 1020, 'bizarr': 1021, 'embarrass': 1022, 'indian': 1023, 'ring': 1024, '15': 1025, 'drop': 1026, 'pop': 1027, 'drag': 1028, 'haunt': 1029, 'pointless': 1030, 'suspect': 1031, 'edg': 1032, 'search': 1033, 'handl': 1034, 'biggest': 1035, 'common': 1036, 'faith': 1037, 'arriv': 1038, 'hurt': 1039, 'technic': 1040, 'angel': 1041, 'dad': 1042, 'genuin': 1043, 'awesom': 1044, 'f': 1045, 'solid': 1046, 'van': 1047, 'focu': 1048, 'former': 1049, 'colleg': 1050, 'count': 1051, 'heavi': 1052, 'tear': 1053, 'wall': 1054, 'rais': 1055, 'younger': 1056, 'laughabl': 1057, 'visit': 1058, 'sign': 1059, 'fair': 1060, 'excus': 1061, 'cult': 1062, 'key': 1063, 'motion': 1064, 'tough': 1065, 'desir': 1066, 'super': 1067, 'addit': 1068, 'stun': 1069, 'cloth': 1070, 'exploit': 1071, 'tortur': 1072, 'smith': 1073, 'davi': 1074, 'race': 1075, 'cross': 1076, 'author': 1077, 'jim': 1078, 'consist': 1079, 'compel': 1080, 'focus': 1081, 'minor': 1082, 'chemistri': 1083, 'commit': 1084, 'pathet': 1085, 'park': 1086, 'tradit': 1087, 'obsess': 1088, 'frank': 1089, 'grade': 1090, '60': 1091, 'asid': 1092, 'brutal': 1093, 'somewher': 1094, 'steve': 1095, 'grant': 1096, 'depress': 1097, 'u': 1098, 'rule': 1099, 'opportun': 1100, 'explor': 1101, 'honest': 1102, 'besid': 1103, 'anti': 1104, 'dub': 1105, 'intend': 1106, 'trailer': 1107, 'bar': 1108, 'scientist': 1109, 'longer': 1110, 'regard': 1111, 'west': 1112, 'judg': 1113, 'decad': 1114, 'silent': 1115, 'armi': 1116, 'creativ': 1117, 'wild': 1118, 'stewart': 1119, 'south': 1120, 'g': 1121, 'draw': 1122, 'road': 1123, 'govern': 1124, 'boss': 1125, 'ex': 1126, 'practic': 1127, 'surprisingli': 1128, 'festiv': 1129, 'club': 1130, 'motiv': 1131, 'gang': 1132, 'london': 1133, 'redeem': 1134, 'page': 1135, 'green': 1136, 'display': 1137, 'militari': 1138, 'machin': 1139, 'aliv': 1140, 'idiot': 1141, 'repeat': 1142, 'thrill': 1143, '100': 1144, 'yeah': 1145, 'folk': 1146, 'nobodi': 1147, '40': 1148, 'garbag': 1149, 'journey': 1150, 'tire': 1151, 'smile': 1152, 'ground': 1153, 'mood': 1154, 'bought': 1155, 'sam': 1156, 'cost': 1157, 'stone': 1158, 'mouth': 1159, 'noir': 1160, 'agent': 1161, 'terrif': 1162, 'requir': 1163, 'utterli': 1164, 'area': 1165, 'honestli': 1166, 'sexi': 1167, 'report': 1168, 'geniu': 1169, 'investig': 1170, 'enter': 1171, 'glad': 1172, 'humour': 1173, 'serial': 1174, 'passion': 1175, 'narr': 1176, 'occasion': 1177, 'climax': 1178, 'marriag': 1179, 'studi': 1180, 'industri': 1181, 'ship': 1182, 'demon': 1183, 'center': 1184, 'nowher': 1185, 'charli': 1186, 'hors': 1187, 'bear': 1188, 'loos': 1189, 'hang': 1190, 'wow': 1191, 'graphic': 1192, 'admir': 1193, 'giant': 1194, 'send': 1195, 'loud': 1196, 'damn': 1197, 'nake': 1198, 'subtl': 1199, 'profession': 1200, 'rel': 1201, 'blow': 1202, 'bottom': 1203, 'insult': 1204, 'batman': 1205, 'kelli': 1206, 'doubl': 1207, 'boyfriend': 1208, 'r': 1209, 'initi': 1210, 'frame': 1211, 'opera': 1212, 'gem': 1213, 'cinemat': 1214, 'challeng': 1215, 'affect': 1216, 'drawn': 1217, 'church': 1218, 'j': 1219, 'nightmar': 1220, 'evid': 1221, 'seek': 1222, 'l': 1223, 'fulli': 1224, 'essenti': 1225, 'arm': 1226, 'conflict': 1227, 'grace': 1228, 'christoph': 1229, 'wind': 1230, 'henri': 1231, 'assum': 1232, 'narrat': 1233, 'witch': 1234, 'push': 1235, 'hunt': 1236, 'wise': 1237, 'chri': 1238, 'nomin': 1239, 'repres': 1240, 'month': 1241, 'avail': 1242, 'sceneri': 1243, 'hide': 1244, 'affair': 1245, 'thu': 1246, 'bond': 1247, 'justic': 1248, 'smart': 1249, 'outstand': 1250, 'interview': 1251, 'flashback': 1252, 'constantli': 1253, 'presenc': 1254, 'satisfi': 1255, 'bed': 1256, 'central': 1257, 'iron': 1258, 'sell': 1259, 'content': 1260, 'gag': 1261, 'everybodi': 1262, 'slowli': 1263, 'hotel': 1264, 'hire': 1265, 'system': 1266, 'charl': 1267, 'thrown': 1268, 'individu': 1269, 'hey': 1270, 'adam': 1271, 'jone': 1272, 'mediocr': 1273, 'allen': 1274, 'billi': 1275, 'lesson': 1276, 'ray': 1277, 'photographi': 1278, 'cameo': 1279, 'fellow': 1280, 'pari': 1281, 'strike': 1282, 'brief': 1283, 'absurd': 1284, 'rise': 1285, 'independ': 1286, 'neg': 1287, 'impact': 1288, 'phone': 1289, 'born': 1290, 'ill': 1291, 'model': 1292, 'angl': 1293, 'fresh': 1294, 'spoil': 1295, 'abus': 1296, 'likabl': 1297, 'hill': 1298, 'discuss': 1299, 'sight': 1300, 'ahead': 1301, 'photograph': 1302, 'sent': 1303, 'shine': 1304, 'blame': 1305, 'occur': 1306, 'logic': 1307, 'mainli': 1308, 'bruce': 1309, 'forev': 1310, 'skip': 1311, 'commerci': 1312, 'held': 1313, 'surround': 1314, 'teacher': 1315, 'segment': 1316, 'zero': 1317, 'blond': 1318, 'summer': 1319, 'resembl': 1320, 'trap': 1321, 'satir': 1322, 'ball': 1323, 'fool': 1324, 'queen': 1325, 'six': 1326, 'sub': 1327, 'twice': 1328, 'tragedi': 1329, 'reaction': 1330, 'pack': 1331, 'bomb': 1332, 'protagonist': 1333, 'will': 1334, 'hospit': 1335, 'mile': 1336, 'sport': 1337, 'mom': 1338, 'drink': 1339, 'vote': 1340, 'jerri': 1341, 'trust': 1342, 'encount': 1343, 'plane': 1344, 'al': 1345, 'station': 1346, 'program': 1347, 'current': 1348, 'celebr': 1349, 'martin': 1350, 'choos': 1351, 'join': 1352, 'round': 1353, 'tragic': 1354, 'favourit': 1355, 'lord': 1356, 'field': 1357, 'vision': 1358, 'robot': 1359, 'jean': 1360, 'arthur': 1361, 'tie': 1362, 'random': 1363, 'roger': 1364, 'fortun': 1365, 'psycholog': 1366, 'intern': 1367, 'dread': 1368, 'nonsens': 1369, 'prefer': 1370, 'improv': 1371, 'epic': 1372, 'pleasur': 1373, 'legend': 1374, 'highlight': 1375, 'formula': 1376, 'tape': 1377, '11': 1378, 'dollar': 1379, 'porn': 1380, 'wide': 1381, 'gorgeou': 1382, 'thin': 1383, 'object': 1384, 'fox': 1385, 'influenc': 1386, 'ugli': 1387, 'buddi': 1388, 'ii': 1389, 'prepar': 1390, 'nasti': 1391, 'warm': 1392, 'supposedli': 1393, 'progress': 1394, 'reflect': 1395, 'youth': 1396, 'worthi': 1397, 'length': 1398, 'unusu': 1399, 'latter': 1400, 'crash': 1401, 'childhood': 1402, 'superior': 1403, 'seven': 1404, 'shop': 1405, 'remot': 1406, 'theatr': 1407, 'pilot': 1408, 'paid': 1409, 'disgust': 1410, 'funniest': 1411, 'fell': 1412, 'castl': 1413, 'convers': 1414, 'trick': 1415, 'rob': 1416, 'gangster': 1417, 'disast': 1418, 'establish': 1419, 'disappear': 1420, 'ident': 1421, 'suicid': 1422, 'mine': 1423, 'heaven': 1424, 'mask': 1425, 'heroin': 1426, 'decis': 1427, 'singer': 1428, 'forgotten': 1429, 'tend': 1430, 'brian': 1431, 'partner': 1432, 'recogn': 1433, 'alan': 1434, 'desert': 1435, 'thoroughli': 1436, 'p': 1437, 'sky': 1438, 'stuck': 1439, 'ms': 1440, 'replac': 1441, 'accur': 1442, 'market': 1443, 'danni': 1444, 'eddi': 1445, 'seemingli': 1446, 'clue': 1447, 'uncl': 1448, 'andi': 1449, 'commentari': 1450, 'jackson': 1451, 'devil': 1452, 'that': 1453, 'pair': 1454, 'therefor': 1455, 'refus': 1456, 'ed': 1457, 'accid': 1458, 'fate': 1459, 'river': 1460, 'unit': 1461, 'fault': 1462, 'tune': 1463, 'afraid': 1464, 'clean': 1465, 'russian': 1466, 'hidden': 1467, 'stephen': 1468, 'test': 1469, 'captain': 1470, 'instanc': 1471, 'quick': 1472, 'irrit': 1473, 'readi': 1474, 'convey': 1475, 'european': 1476, 'frustrat': 1477, 'insan': 1478, 'daniel': 1479, 'chines': 1480, 'rescu': 1481, 'wed': 1482, 'food': 1483, '1950': 1484, 'dirti': 1485, 'lock': 1486, 'angri': 1487, 'joy': 1488, 'steven': 1489, 'price': 1490, 'bland': 1491, 'cage': 1492, 'rang': 1493, 'anymor': 1494, 'wooden': 1495, 'jason': 1496, 'n': 1497, 'news': 1498, 'rush': 1499, 'board': 1500, 'worri': 1501, 'martial': 1502, 'led': 1503, 'twenti': 1504, '12': 1505, 'cgi': 1506, 'transform': 1507, 'symbol': 1508, 'hunter': 1509, 'piti': 1510, 'onto': 1511, 'x': 1512, 'johnni': 1513, 'sentiment': 1514, 'invent': 1515, 'explan': 1516, 'attitud': 1517, 'process': 1518, 'awar': 1519, 'owner': 1520, 'aim': 1521, 'necessari': 1522, 'favor': 1523, 'energi': 1524, 'target': 1525, 'floor': 1526, 'opposit': 1527, 'religi': 1528, 'window': 1529, 'insight': 1530, 'blind': 1531, 'chick': 1532, 'movement': 1533, 'comparison': 1534, 'deepli': 1535, 'research': 1536, 'mountain': 1537, 'possess': 1538, 'grand': 1539, 'whatsoev': 1540, 'comed': 1541, 'rain': 1542, 'bank': 1543, 'shadow': 1544, 'began': 1545, 'mid': 1546, 'parodi': 1547, 'princ': 1548, 'friendship': 1549, 'weapon': 1550, 'credibl': 1551, 'taylor': 1552, 'pre': 1553, 'dougla': 1554, 'teach': 1555, 'flesh': 1556, 'bloodi': 1557, 'terror': 1558, 'hint': 1559, 'protect': 1560, 'marvel': 1561, 'anybodi': 1562, 'load': 1563, 'drunk': 1564, 'watchabl': 1565, 'leader': 1566, 'accord': 1567, 'superman': 1568, 'brown': 1569, 'freddi': 1570, 'hitler': 1571, 'seat': 1572, 'appropri': 1573, 'jeff': 1574, 'tim': 1575, 'charg': 1576, 'villag': 1577, 'keaton': 1578, 'knock': 1579, 'unknown': 1580, 'england': 1581, 'media': 1582, 'enemi': 1583, 'empti': 1584, 'unnecessari': 1585, 'dare': 1586, 'craft': 1587, 'strength': 1588, 'perspect': 1589, 'buck': 1590, 'wave': 1591, 'utter': 1592, 'kiss': 1593, 'contrast': 1594, 'correct': 1595, 'nativ': 1596, 'ford': 1597, 'chill': 1598, 'soap': 1599, 'speed': 1600, 'anywher': 1601, 'magnific': 1602, 'knowledg': 1603, 'nazi': 1604, 'distract': 1605, 'ice': 1606, 'breath': 1607, 'mission': 1608, 'fred': 1609, '1980': 1610, 'jr': 1611, 'crowd': 1612, 'joan': 1613, 'moon': 1614, 'kate': 1615, 'soft': 1616, 'frighten': 1617, '000': 1618, 'hundr': 1619, 'dan': 1620, 'nick': 1621, 'dick': 1622, 'somebodi': 1623, 'simon': 1624, 'radio': 1625, 'dozen': 1626, 'academi': 1627, 'loss': 1628, 'thousand': 1629, 'andrew': 1630, 'shakespear': 1631, 'quot': 1632, 'account': 1633, 'vehicl': 1634, 'root': 1635, 'sum': 1636, 'leg': 1637, 'behavior': 1638, 'convent': 1639, '1970': 1640, 'regular': 1641, 'gold': 1642, 'pretenti': 1643, 'worker': 1644, 'demand': 1645, 'compet': 1646, 'lynch': 1647, 'stretch': 1648, 'candi': 1649, 'interpret': 1650, 'notabl': 1651, 'privat': 1652, 'explos': 1653, 'japan': 1654, 'constant': 1655, 'debut': 1656, 'tarzan': 1657, 'prais': 1658, 'translat': 1659, 'sea': 1660, 'revolv': 1661, 'spi': 1662, 'failur': 1663, 'franc': 1664, 'sat': 1665, 'threaten': 1666, 'technolog': 1667, 'jesu': 1668, 'quiet': 1669, 'ass': 1670, 'higher': 1671, 'punch': 1672, 'toy': 1673, 'kevin': 1674, 'met': 1675, 'aid': 1676, 'interact': 1677, 'vh': 1678, 'mike': 1679, 'abandon': 1680, 'bet': 1681, 'separ': 1682, 'confront': 1683, 'command': 1684, 'techniqu': 1685, 'gotten': 1686, 'servic': 1687, 'recal': 1688, 'site': 1689, 'stunt': 1690, 'belong': 1691, 'foot': 1692, 'freak': 1693, 'cabl': 1694, 'bug': 1695, 'capabl': 1696, 'jimmi': 1697, 'fu': 1698, 'bright': 1699, 'african': 1700, 'succeed': 1701, 'clark': 1702, 'stock': 1703, 'fat': 1704, 'boat': 1705, 'presid': 1706, 'spanish': 1707, 'structur': 1708, 'gene': 1709, 'paper': 1710, 'kidnap': 1711, 'whilst': 1712, 'belief': 1713, 'factor': 1714, 'realism': 1715, 'bob': 1716, 'educ': 1717, 'witti': 1718, 'attend': 1719, 'complic': 1720, 'tree': 1721, 'realis': 1722, 'broken': 1723, 'santa': 1724, 'assist': 1725, 'finest': 1726, 'depart': 1727, 'observ': 1728, 'up': 1729, 'smoke': 1730, 'determin': 1731, 'v': 1732, 'fame': 1733, 'domin': 1734, 'lewi': 1735, 'hat': 1736, 'routin': 1737, 'rubbish': 1738, 'oper': 1739, 'advanc': 1740, 'hook': 1741, 'morgan': 1742, 'kinda': 1743, 'safe': 1744, 'lone': 1745, 'foreign': 1746, 'numer': 1747, 'rank': 1748, 'shape': 1749, 'shallow': 1750, 'washington': 1751, 'rose': 1752, 'vs': 1753, 'werewolf': 1754, 'civil': 1755, 'gari': 1756, 'morn': 1757, 'kong': 1758, 'winner': 1759, 'ordinari': 1760, 'accomplish': 1761, 'virtual': 1762, 'grab': 1763, 'whenev': 1764, 'peac': 1765, 'offens': 1766, 'luck': 1767, 'h': 1768, 'bigger': 1769, 'unfunni': 1770, 'complain': 1771, 'welcom': 1772, 'patient': 1773, 'contriv': 1774, 'activ': 1775, 'trek': 1776, 'dimension': 1777, 'pretend': 1778, 'con': 1779, 'code': 1780, 'dri': 1781, 'wake': 1782, 'eric': 1783, 'lesbian': 1784, 'flash': 1785, 'cain': 1786, 'corrupt': 1787, 'dancer': 1788, 'guard': 1789, 'manipul': 1790, 'statu': 1791, 'albert': 1792, 'context': 1793, 'sourc': 1794, 'signific': 1795, 'gain': 1796, 'speech': 1797, 'awkward': 1798, 'corni': 1799, 'psycho': 1800, 'sean': 1801, 'clip': 1802, 'anthoni': 1803, '13': 1804, 'theatric': 1805, 'curiou': 1806, 'w': 1807, 'reli': 1808, 'religion': 1809, 'priest': 1810, 'advic': 1811, 'flow': 1812, 'addict': 1813, 'specif': 1814, 'asian': 1815, 'howard': 1816, 'secur': 1817, 'jennif': 1818, 'skin': 1819, 'promot': 1820, 'comfort': 1821, 'golden': 1822, 'organ': 1823, 'core': 1824, 'luke': 1825, 'lucki': 1826, 'cheat': 1827, 'cash': 1828, 'associ': 1829, 'lower': 1830, 'dislik': 1831, 'frankli': 1832, 'degre': 1833, 'spell': 1834, 'frequent': 1835, 'balanc': 1836, 'regret': 1837, 'devic': 1838, 'wing': 1839, 'contribut': 1840, 'lake': 1841, 'print': 1842, 'forgiv': 1843, 'sake': 1844, 'thoma': 1845, 'mass': 1846, 'betti': 1847, 'crack': 1848, 'gordon': 1849, 'unexpect': 1850, 'depend': 1851, 'invit': 1852, 'grown': 1853, 'construct': 1854, 'unfold': 1855, 'amateur': 1856, 'categori': 1857, 'honor': 1858, 'walter': 1859, 'grew': 1860, 'condit': 1861, 'matur': 1862, 'intellectu': 1863, 'anna': 1864, 'sole': 1865, 'mirror': 1866, 'spectacular': 1867, 'sudden': 1868, 'veteran': 1869, 'gift': 1870, 'freedom': 1871, 'overli': 1872, 'robin': 1873, 'grip': 1874, 'experienc': 1875, 'liner': 1876, 'card': 1877, 'demonstr': 1878, 'meanwhil': 1879, 'oliv': 1880, 'section': 1881, 'circumst': 1882, 'crappi': 1883, 'colour': 1884, 'subtitl': 1885, 'drew': 1886, 'brilliantli': 1887, 'unabl': 1888, 'theori': 1889, 'sheriff': 1890, 'laughter': 1891, 'sheer': 1892, 'altern': 1893, 'pile': 1894, 'path': 1895, 'matt': 1896, 'cook': 1897, 'parker': 1898, 'hall': 1899, 'accident': 1900, 'treatment': 1901, 'defin': 1902, 'relief': 1903, 'wander': 1904, 'sinatra': 1905, 'lawyer': 1906, 'captiv': 1907, 'hank': 1908, 'dragon': 1909, 'halloween': 1910, 'moor': 1911, 'gratuit': 1912, 'broadway': 1913, 'barbara': 1914, 'kung': 1915, 'wayn': 1916, 'k': 1917, 'jacki': 1918, 'wound': 1919, 'unintent': 1920, 'cowboy': 1921, 'canadian': 1922, 'surreal': 1923, 'spoof': 1924, 'statement': 1925, 'winter': 1926, 'treasur': 1927, 'gonna': 1928, 'fish': 1929, 'compos': 1930, 'fare': 1931, 'cheer': 1932, 'emerg': 1933, 'sensit': 1934, 'unrealist': 1935, 'victor': 1936, 'woodi': 1937, 'sympathet': 1938, 'ran': 1939, 'neighbor': 1940, 'driven': 1941, 'expos': 1942, 'overlook': 1943, 'authent': 1944, 'topic': 1945, 'menac': 1946, 'glass': 1947, 'handsom': 1948, 'ancient': 1949, 'chief': 1950, 'michel': 1951, 'gross': 1952, 'network': 1953, 'comedian': 1954, 'contemporari': 1955, 'built': 1956, 'stranger': 1957, 'pleasant': 1958, 'russel': 1959, 'cinderella': 1960, 'nevertheless': 1961, 'feet': 1962, 'miser': 1963, 'endless': 1964, 'blockbust': 1965, 'gori': 1966, 'underr': 1967, 'earn': 1968, 'letter': 1969, 'consider': 1970, 'solv': 1971, 'brook': 1972, 'switch': 1973, 'edward': 1974, 'bullet': 1975, 'joseph': 1976, 'convict': 1977, 'virgin': 1978, 'victoria': 1979, 'scenario': 1980, 'scale': 1981, 'cynic': 1982, 'chosen': 1983, '0': 1984, 'alex': 1985, 'curs': 1986, 'gut': 1987, 'com': 1988, 'outrag': 1989, 'sword': 1990, 'wrap': 1991, 'uk': 1992, 'monkey': 1993, 'screenwrit': 1994, 'driver': 1995, 'substanc': 1996, 'juli': 1997, 'proper': 1998, 'par': 1999, 'court': 2000, 'indic': 2001, 'bird': 2002, 'remov': 2003, 'naiv': 2004, 'inevit': 2005, 'consequ': 2006, 'advertis': 2007, 'nanci': 2008, 'rental': 2009, 'grave': 2010, 'loser': 2011, 'roy': 2012, 'germani': 2013, 'brave': 2014, 'slap': 2015, 'bridg': 2016, 'invis': 2017, 'le': 2018, 'fatal': 2019, 'anger': 2020, 'ador': 2021, 'footbal': 2022, 'provok': 2023, 'loui': 2024, 'chan': 2025, 'alcohol': 2026, 'anderson': 2027, 'willi': 2028, 'stumbl': 2029, 'professor': 2030, 'ryan': 2031, 'sharp': 2032, 'australian': 2033, 'assassin': 2034, 'patrick': 2035, 'bat': 2036, '1930': 2037, 'amateurish': 2038, 'saturday': 2039, 'refresh': 2040, 'deni': 2041, 'heck': 2042, 'eight': 2043, 'trilog': 2044, 'strongli': 2045, 'ape': 2046, 'lousi': 2047, 'liber': 2048, 'cell': 2049, 'sin': 2050, 'justifi': 2051, 'vagu': 2052, 'resid': 2053, 'san': 2054, 'mini': 2055, 'terrifi': 2056, 'indi': 2057, 'sympathi': 2058, 'reput': 2059, 'defeat': 2060, 'creator': 2061, 'tediou': 2062, 'endur': 2063, 'expert': 2064, 'prevent': 2065, 'tabl': 2066, 'task': 2067, 'offend': 2068, 'imit': 2069, 'rival': 2070, 'employ': 2071, 'basebal': 2072, 'trial': 2073, 'che': 2074, 'pitch': 2075, 'weekend': 2076, 'max': 2077, 'beach': 2078, 'complaint': 2079, 'europ': 2080, 'fairi': 2081, 'dig': 2082, 'murphi': 2083, 'format': 2084, 'purchas': 2085, 'risk': 2086, 'titan': 2087, 'tini': 2088, 'glimps': 2089, 'harsh': 2090, 'bite': 2091, 'hype': 2092, 'reminisc': 2093, 'nois': 2094, 'powel': 2095, '14': 2096, 'north': 2097, 'strip': 2098, 'asleep': 2099, 'till': 2100, 'prime': 2101, 'fals': 2102, 'descript': 2103, 'revel': 2104, 'destruct': 2105, 'africa': 2106, 'texa': 2107, 'excess': 2108, 'surfac': 2109, 'inner': 2110, 'semi': 2111, 'sitcom': 2112, 'spin': 2113, 'arrest': 2114, 'uninterest': 2115, 'makeup': 2116, 'maintain': 2117, 'controversi': 2118, 'argu': 2119, 'hitchcock': 2120, 'twin': 2121, 'massiv': 2122, 'dinosaur': 2123, 'expens': 2124, 'reject': 2125, 'melodrama': 2126, 'ideal': 2127, 'ludicr': 2128, 'stare': 2129, 'kim': 2130, 'insist': 2131, 'ga': 2132, 'nail': 2133, 'host': 2134, 'press': 2135, 'forest': 2136, 'erot': 2137, 'supernatur': 2138, 'subplot': 2139, 'columbo': 2140, 'atroci': 2141, 'ala': 2142, 'notch': 2143, 'cant': 2144, 'dude': 2145, 'identifi': 2146, 'presum': 2147, 'closer': 2148, 'method': 2149, 'guest': 2150, 'forgett': 2151, 'character': 2152, 'crude': 2153, 'plagu': 2154, 'foster': 2155, 'beast': 2156, 'lion': 2157, 'ear': 2158, 'princess': 2159, 'landscap': 2160, 'border': 2161, 'bound': 2162, 'pacino': 2163, 'previous': 2164, 'aunt': 2165, 'storytel': 2166, 'birth': 2167, 'jungl': 2168, 'accus': 2169, 'urban': 2170, 'damag': 2171, 'thirti': 2172, 'nude': 2173, 'guid': 2174, 'chose': 2175, 'doll': 2176, 'emma': 2177, 'propaganda': 2178, 'jess': 2179, 'mate': 2180, '25': 2181, 'warrior': 2182, 'mainstream': 2183, 'pet': 2184, 'whoever': 2185, 'gritti': 2186, 'friday': 2187, 'size': 2188, 'exact': 2189, 'cooper': 2190, 'merit': 2191, 'latest': 2192, 'deadli': 2193, 'poster': 2194, 'upset': 2195, 'blend': 2196, 'wilson': 2197, 'citizen': 2198, 'buff': 2199, 'corps': 2200, 'contact': 2201, 'popul': 2202, 'rough': 2203, 'contest': 2204, 'sun': 2205, 'ton': 2206, 'settl': 2207, 'warner': 2208, '1990': 2209, 'environ': 2210, 'rat': 2211, 'metal': 2212, 'alic': 2213, 'select': 2214, 'pitt': 2215, 'mgm': 2216, 'overcom': 2217, 'widow': 2218, 'bu': 2219, 'link': 2220, 'lift': 2221, 'revolut': 2222, 'particip': 2223, 'guilti': 2224, 'ted': 2225, 'afternoon': 2226, 'exagger': 2227, 'corpor': 2228, 'prostitut': 2229, 'moron': 2230, 'accompani': 2231, 'corner': 2232, 'matrix': 2233, '1960': 2234, 'johnson': 2235, 'doom': 2236, 'hood': 2237, 'leagu': 2238, 'clair': 2239, 'friendli': 2240, 'multipl': 2241, 'instal': 2242, 'holm': 2243, 'sincer': 2244, 'junk': 2245, 'sunday': 2246, 'string': 2247, 'examin': 2248, 'aka': 2249, 'campi': 2250, 'irish': 2251, 'advis': 2252, 'defend': 2253, 'blah': 2254, 'grim': 2255, 'lugosi': 2256, 'hip': 2257, 'varieti': 2258, 'shake': 2259, 'shut': 2260, 'rachel': 2261, 'pro': 2262, 'tight': 2263, 'confid': 2264, 'icon': 2265, 'attach': 2266, 'medic': 2267, 'jaw': 2268, 'goal': 2269, 'sullivan': 2270, 'mexican': 2271, 'directli': 2272, 'denni': 2273, 'legendari': 2274, 'breast': 2275, 'sentenc': 2276, 'dean': 2277, 'terrorist': 2278, 'prior': 2279, 'courag': 2280, 'sarah': 2281, 'truck': 2282, 'duke': 2283, 'vietnam': 2284, 'bourn': 2285, 'proceed': 2286, 'nose': 2287, 'donald': 2288, 'entri': 2289, 'hong': 2290, 'yell': 2291, 'behav': 2292, 'split': 2293, 'un': 2294, 'forth': 2295, 'lifetim': 2296, 'everywher': 2297, 'gather': 2298, 'unconvinc': 2299, 'stolen': 2300, 'jerk': 2301, 'borrow': 2302, 'crush': 2303, 'concentr': 2304, 'swim': 2305, 'buri': 2306, 'confess': 2307, 'turkey': 2308, 'spite': 2309, 'deliveri': 2310, 'lip': 2311, 'california': 2312, 'pan': 2313, 'julia': 2314, 'downright': 2315, 'reward': 2316, 'proud': 2317, 'quest': 2318, 'freeman': 2319, 'flight': 2320, 'hoffman': 2321, 'offici': 2322, 'china': 2323, 'notori': 2324, 'jail': 2325, 'encourag': 2326, 'worthwhil': 2327, 'fabul': 2328, 'sir': 2329, 'sink': 2330, 'lazi': 2331, 'inept': 2332, 'betray': 2333, 'jon': 2334, 'fade': 2335, 'relev': 2336, 'imageri': 2337, 'cousin': 2338, 'susan': 2339, 'teeth': 2340, 'lisa': 2341, 'bell': 2342, 'storm': 2343, 'survivor': 2344, 'retard': 2345, 'shower': 2346, 'bag': 2347, 'branagh': 2348, 'summari': 2349, 'alright': 2350, 'quirki': 2351, 'finger': 2352, 'facial': 2353, 'stab': 2354, 'tremend': 2355, 'bride': 2356, 'shark': 2357, 'toler': 2358, 'trade': 2359, 'mexico': 2360, 'hugh': 2361, 'hyster': 2362, 'blown': 2363, 'bitter': 2364, 'pose': 2365, 'ha': 2366, 'von': 2367, 'bone': 2368, 'ron': 2369, 'larri': 2370, 'cruel': 2371, 'address': 2372, 'christ': 2373, 'afterward': 2374, 'scheme': 2375, 'ned': 2376, 'tour': 2377, 'swear': 2378, 'screw': 2379, 'pursu': 2380, 'thumb': 2381, 'distinct': 2382, 'beg': 2383, 'feed': 2384, 'snake': 2385, 'traci': 2386, 'chair': 2387, 'raw': 2388, 'mechan': 2389, 'stomach': 2390, 'obscur': 2391, 'photo': 2392, 'occas': 2393, 'cabin': 2394, 'resist': 2395, 'hardi': 2396, 'necessarili': 2397, 'chain': 2398, 'argument': 2399, 'heavili': 2400, 'gruesom': 2401, 'render': 2402, 'sidney': 2403, 'holiday': 2404, 'southern': 2405, 'understood': 2406, 'racist': 2407, 'india': 2408, 'philip': 2409, 'indulg': 2410, 'satan': 2411, 'stalk': 2412, 'midnight': 2413, 'lay': 2414, 'integr': 2415, 'belov': 2416, 'tongu': 2417, 'fourth': 2418, 'obnoxi': 2419, 'forgot': 2420, 'pregnant': 2421, 'outfit': 2422, 'restor': 2423, 'magazin': 2424, 'ticket': 2425, 'carol': 2426, 'garden': 2427, 'slapstick': 2428, 'inhabit': 2429, '17': 2430, 'deeper': 2431, 'incid': 2432, 'shoe': 2433, 'brad': 2434, 'devot': 2435, 'lincoln': 2436, 'benefit': 2437, 'elizabeth': 2438, 'underground': 2439, 'guarante': 2440, 'disbelief': 2441, 'anticip': 2442, 'sandler': 2443, 'divorc': 2444, 'maria': 2445, 'lili': 2446, 'bbc': 2447, 'mildli': 2448, 'amazingli': 2449, 'princip': 2450, 'explod': 2451, 'greater': 2452, 'capit': 2453, 'cring': 2454, 'creation': 2455, 'slave': 2456, 'extraordinari': 2457, 'funnier': 2458, 'halfway': 2459, 'lesli': 2460, 'introduct': 2461, 'enhanc': 2462, 'tap': 2463, 'advantag': 2464, 'transfer': 2465, 'text': 2466, 'overwhelm': 2467, 'wreck': 2468, 'punish': 2469, 'extent': 2470, 'error': 2471, 'deliber': 2472, 'preview': 2473, 'dynam': 2474, 'lane': 2475, 'lo': 2476, 'jessica': 2477, 'horrif': 2478, 'east': 2479, 'plant': 2480, 'homosexu': 2481, 'miscast': 2482, 'appli': 2483, 'sophist': 2484, 'miller': 2485, 'ensu': 2486, 'vincent': 2487, '2000': 2488, 'vacat': 2489, 'basi': 2490, 'sleazi': 2491, 'via': 2492, 'steel': 2493, 'elev': 2494, 'measur': 2495, 'reed': 2496, 'spoken': 2497, 'mansion': 2498, 'bollywood': 2499, 'extend': 2500, 'uncomfort': 2501, 'assign': 2502, 'overact': 2503, 'mous': 2504, 'melt': 2505, 'blair': 2506, 'dentist': 2507, 'breathtak': 2508, 'cathol': 2509, 'hippi': 2510, 'savag': 2511, 'alter': 2512, 'beer': 2513, 'goofi': 2514, 'daili': 2515, 'conceiv': 2516, 'fix': 2517, 'stanley': 2518, 'inspector': 2519, 'succe': 2520, 'nowaday': 2521, 'oppos': 2522, 'sacrific': 2523, 'everyday': 2524, 'subsequ': 2525, 'properli': 2526, 'burt': 2527, 'carpent': 2528, 'block': 2529, 'circl': 2530, 'neck': 2531, 'massacr': 2532, 'laura': 2533, 'pool': 2534, 'portrait': 2535, 'mob': 2536, 'concert': 2537, 'grey': 2538, 'seagal': 2539, 'access': 2540, 'fallen': 2541, 'lesser': 2542, 'christi': 2543, 'fay': 2544, 'sinist': 2545, 'isol': 2546, 'usa': 2547, 'competit': 2548, 'react': 2549, 'chees': 2550, 'jake': 2551, 'jewish': 2552, 'relax': 2553, 'lyric': 2554, 'nonetheless': 2555, 'chop': 2556, 'spiritu': 2557, '2006': 2558, 'appal': 2559, 'creep': 2560, 'stink': 2561, 'suitabl': 2562, 'ironi': 2563, 'immens': 2564, 'nine': 2565, 'needless': 2566, 'retir': 2567, 'reduc': 2568, 'franchis': 2569, 'showcas': 2570, 'nut': 2571, 'luci': 2572, 'adopt': 2573, 'rage': 2574, 'user': 2575, 'navi': 2576, 'spring': 2577, 'sold': 2578, 'shirt': 2579, 'uninspir': 2580, 'asham': 2581, 'per': 2582, 'bulli': 2583, 'zone': 2584, 'digit': 2585, 'bath': 2586, 'jay': 2587, 'nurs': 2588, 'stanwyck': 2589, '2001': 2590, 'broadcast': 2591, '1940': 2592, 'laid': 2593, 'illustr': 2594, 'amongst': 2595, 'oddli': 2596, 'upper': 2597, 'sutherland': 2598, 'disguis': 2599, 'stylish': 2600, 'fulfil': 2601, 'aspir': 2602, 'baker': 2603, 'throat': 2604, 'brando': 2605, '18': 2606, 'endear': 2607, 'thief': 2608, 'wanna': 2609, 'pound': 2610, 'pride': 2611, 'neighborhood': 2612, 'em': 2613, 'nobl': 2614, 'impli': 2615, 'wwii': 2616, 'rochest': 2617, 'cinematograph': 2618, 'coher': 2619, 'distribut': 2620, 'shift': 2621, '16': 2622, 'albeit': 2623, 'bett': 2624, 'shoulder': 2625, 'dawn': 2626, 'prop': 2627, 'diseas': 2628, 'tens': 2629, 'dinner': 2630, 'bo': 2631, 'silenc': 2632, 'matthau': 2633, 'poignant': 2634, 'function': 2635, 'knife': 2636, 'surf': 2637, 'rebel': 2638, 'shout': 2639, 'snow': 2640, 'wash': 2641, 'forti': 2642, 'contract': 2643, 'silver': 2644, 'cancel': 2645, 'eeri': 2646, 'cannib': 2647, 'reunion': 2648, 'duti': 2649, 'chuck': 2650, 'mindless': 2651, 'instinct': 2652, 'elvira': 2653, 'internet': 2654, 'horrend': 2655, 'height': 2656, 'derek': 2657, 'proof': 2658, 'heat': 2659, 'henc': 2660, 'widmark': 2661, 'innov': 2662, 'torn': 2663, 'premier': 2664, 'alik': 2665, 'etern': 2666, 'greatli': 2667, 'absorb': 2668, 'neat': 2669, 'musician': 2670, 'elvi': 2671, 'repetit': 2672, 'spielberg': 2673, 'mill': 2674, 'incoher': 2675, 'pie': 2676, 'glori': 2677, 'britain': 2678, 'itali': 2679, 'wealthi': 2680, 'infam': 2681, 'nelson': 2682, 'racism': 2683, 'redempt': 2684, 'diamond': 2685, 'bang': 2686, 'trite': 2687, 'lovabl': 2688, 'announc': 2689, 'homag': 2690, 'precis': 2691, 'crisi': 2692, 'fbi': 2693, 'horrifi': 2694, 'burton': 2695, 'blank': 2696, 'ensembl': 2697, 'parallel': 2698, 'resolut': 2699, 'dedic': 2700, 'helen': 2701, 'chaplin': 2702, 'pat': 2703, 'hammer': 2704, 'flop': 2705, 'happili': 2706, 'wilder': 2707, 'streisand': 2708, 'broke': 2709, 'conclud': 2710, 'factori': 2711, 'cube': 2712, 'disagre': 2713, 'mar': 2714, 'st': 2715, 'carter': 2716, 'oil': 2717, 'plastic': 2718, 'triumph': 2719, 'fighter': 2720, 'vega': 2721, 'climb': 2722, 'rocket': 2723, 'chuckl': 2724, 'bush': 2725, 'weight': 2726, 'row': 2727, 'own': 2728, 'march': 2729, 'spare': 2730, 'boot': 2731, 'dane': 2732, 'meaning': 2733, 'wherea': 2734, 'thug': 2735, 'lust': 2736, 'unforgett': 2737, 'enorm': 2738, 'luca': 2739, 'sensibl': 2740, 'dump': 2741, 'kurt': 2742, 'mst3k': 2743, 'caricatur': 2744, 'difficulti': 2745, 'fifti': 2746, 'dear': 2747, 'brand': 2748, 'arnold': 2749, 'rap': 2750, 'adequ': 2751, 'butt': 2752, 'engin': 2753, 'threat': 2754, 'bobbi': 2755, 'karloff': 2756, 'stress': 2757, 'arrog': 2758, 'secretari': 2759, 'journalist': 2760, 'flynn': 2761, 'ego': 2762, 'elabor': 2763, 'barri': 2764, 'fest': 2765, 'homeless': 2766, 'polish': 2767, 'swing': 2768, 'ralph': 2769, 'hamlet': 2770, 'conspiraci': 2771, 'resort': 2772, 'induc': 2773, 'tool': 2774, 'grate': 2775, 'float': 2776, 'puppet': 2777, 'simpson': 2778, 'unbear': 2779, 'spike': 2780, 'fanci': 2781, 'arrang': 2782, 'tribut': 2783, 'basement': 2784, 'exercis': 2785, 'choreograph': 2786, 'cruis': 2787, 'muppet': 2788, 'guilt': 2789, 'boll': 2790, 'phillip': 2791, 'pig': 2792, 'medium': 2793, 'file': 2794, 'babe': 2795, 'editor': 2796, 'layer': 2797, 'stan': 2798, 'item': 2799, 'puzzl': 2800, 'ward': 2801, '24': 2802, 'document': 2803, 'slip': 2804, 'korean': 2805, 'fianc': 2806, 'toilet': 2807, 'tower': 2808, 'ham': 2809, 'scarecrow': 2810, 'orient': 2811, 'larger': 2812, 'persona': 2813, 'doc': 2814, 'assur': 2815, 'denzel': 2816, 'librari': 2817, 'portion': 2818, 'spark': 2819, 'slaughter': 2820, 'glover': 2821, 'minim': 2822, 'inexplic': 2823, 'catherin': 2824, 'superfici': 2825, 'transit': 2826, 'philosoph': 2827, 'territori': 2828, 'boredom': 2829, 'sneak': 2830, 'owe': 2831, 'jet': 2832, 'shi': 2833, 'jeremi': 2834, 'wolf': 2835, 'ban': 2836, 'pg': 2837, 'financi': 2838, 'curti': 2839, 'walken': 2840, 'dorothi': 2841, 'metaphor': 2842, 'multi': 2843, 'whale': 2844, 'profound': 2845, 'eleph': 2846, 'ambigu': 2847, 'hudson': 2848, 'backdrop': 2849, 'cusack': 2850, 'ultra': 2851, 'rave': 2852, 'implaus': 2853, 'stiff': 2854, 'hack': 2855, 'gadget': 2856, 'birthday': 2857, 'notion': 2858, 'elsewher': 2859, '2005': 2860, 'union': 2861, 'viru': 2862, 'squar': 2863, 'pad': 2864, 'distanc': 2865, 'reader': 2866, 'newspap': 2867, 'slight': 2868, 'poison': 2869, 'afford': 2870, '1st': 2871, 'eastwood': 2872, 'disc': 2873, 'urg': 2874, 'eva': 2875, 'deriv': 2876, 'bibl': 2877, 'hawk': 2878, 'lloyd': 2879, 'superhero': 2880, 'canada': 2881, 'sadist': 2882, 'button': 2883, 'skit': 2884, 'charisma': 2885, 'cure': 2886, 'huh': 2887, 'health': 2888, 'montag': 2889, 'restaur': 2890, 'drown': 2891, 'spread': 2892, 'essenc': 2893, 'heston': 2894, 'gradual': 2895, 'companion': 2896, 'fetch': 2897, 'dealt': 2898, 'scoobi': 2899, 'maniac': 2900, 'muslim': 2901, 'godfath': 2902, 'lab': 2903, 'estat': 2904, 'peak': 2905, 'invest': 2906, 'countless': 2907, 'gothic': 2908, 'kane': 2909, 'alli': 2910, 'ritter': 2911, 'subtleti': 2912, 'servant': 2913, 'miik': 2914, 'tea': 2915, 'cup': 2916, 'briefli': 2917, 'charismat': 2918, 'heroic': 2919, 'iii': 2920, 'salli': 2921, 'elect': 2922, 'electr': 2923, 'tender': 2924, 'neil': 2925, 'admittedli': 2926, 'nuanc': 2927, 'reel': 2928, 'grandmoth': 2929, 'resourc': 2930, 'wannab': 2931, 'cole': 2932, 'ingredi': 2933, 'bud': 2934, 'toss': 2935, 'mafia': 2936, 'stood': 2937, 'gate': 2938, 'stronger': 2939, 'reev': 2940, 'mild': 2941, 'label': 2942, 'dawson': 2943, 'poverti': 2944, 'carrey': 2945, 'kubrick': 2946, 'pit': 2947, 'punk': 2948, 'shall': 2949, 'pauli': 2950, 'terri': 2951, 'smooth': 2952, 'cardboard': 2953, 'easier': 2954, 'cox': 2955, 'ian': 2956, 'assault': 2957, 'smash': 2958, 'updat': 2959, 'tag': 2960, 'burst': 2961, 'useless': 2962, 'astair': 2963, 'outcom': 2964, 'fond': 2965, 'bakshi': 2966, 'resolv': 2967, 'divers': 2968, 'exchang': 2969, 'rex': 2970, 'melodramat': 2971, 'increasingli': 2972, 'vari': 2973, '2002': 2974, 'sketch': 2975, 'fist': 2976, 'coincid': 2977, 'samurai': 2978, 'qualifi': 2979, 'vulner': 2980, 'templ': 2981, 'be': 2982, 'scratch': 2983, 'suspend': 2984, 'luckili': 2985, 'blast': 2986, 'brillianc': 2987, 'tame': 2988, 'insert': 2989, 'reynold': 2990, 'conveni': 2991, 'jami': 2992, 'gotta': 2993, 'seventi': 2994, 'nuclear': 2995, 'hamilton': 2996, 'coach': 2997, 'strictli': 2998, 'matthew': 2999, 'farm': 3000, 'ambiti': 3001, 'fisher': 3002, 'meat': 3003, 'soprano': 3004, 'walker': 3005, 'pin': 3006, 'clock': 3007, 'kudo': 3008, 'cave': 3009, 'struck': 3010, 'brosnan': 3011, 'recreat': 3012, 'spooki': 3013, 'discoveri': 3014, 'butcher': 3015, 'eccentr': 3016, 'empir': 3017, 'timeless': 3018, 'revers': 3019, 'ninja': 3020, 'convolut': 3021, 'monk': 3022, 'joey': 3023, 'worthless': 3024, 'instantli': 3025, 'closet': 3026, 'grasp': 3027, 'declar': 3028, 'eighti': 3029, 'clown': 3030, 'norman': 3031, 'cliff': 3032, 'sidekick': 3033, 'gray': 3034, 'inconsist': 3035, 'evok': 3036, 'partli': 3037, 'selfish': 3038, 'pal': 3039, 'seller': 3040, 'miracl': 3041, 'bleak': 3042, 'fifteen': 3043, 'mitchel': 3044, 'communist': 3045, 'sloppi': 3046, 'wipe': 3047, 'importantli': 3048, 'ho': 3049, 'aforement': 3050, 'superbl': 3051, 'enthusiast': 3052, 'australia': 3053, 'debat': 3054, 'cheek': 3055, 'chew': 3056, 'websit': 3057, 'seed': 3058, 'flawless': 3059, 'destin': 3060, 'piano': 3061, 'farc': 3062, '45': 3063, 'lifestyl': 3064, 'stoog': 3065, 'psychiatrist': 3066, 'bash': 3067, 'incompet': 3068, 'wick': 3069, 'splatter': 3070, 'slice': 3071, 'anni': 3072, 'kitchen': 3073, 'akshay': 3074, 'pressur': 3075, 'dire': 3076, 'regardless': 3077, 'drivel': 3078, 'emili': 3079, 'dash': 3080, 'directori': 3081, 'abc': 3082, 'soviet': 3083, 'wrestl': 3084, 'prize': 3085, 'curios': 3086, 'ken': 3087, 'duo': 3088, 'seduc': 3089, 'cameron': 3090, 'chapter': 3091, 'glow': 3092, 'helicopt': 3093, 'judi': 3094, 'distant': 3095, 'jar': 3096, 'doo': 3097, 'cagney': 3098, 'suppli': 3099, 'boil': 3100, 'lou': 3101, 'beaten': 3102, 'cia': 3103, 'artifici': 3104, 'mann': 3105, 'increas': 3106, 'pleasantli': 3107, 'flower': 3108, 'dave': 3109, 'recov': 3110, 'blob': 3111, 'craig': 3112, 'web': 3113, 'laurel': 3114, 'goldberg': 3115, 'craven': 3116, 'combat': 3117, 'splendid': 3118, 'panic': 3119, 'francisco': 3120, 'favour': 3121, 'ranger': 3122, 'eleg': 3123, 'ellen': 3124, 'glenn': 3125, 'hop': 3126, 'psychot': 3127, 'drunken': 3128, 'turner': 3129, 'perri': 3130, 'rid': 3131, 'graduat': 3132, 'modesti': 3133, 'flip': 3134, 'shortli': 3135, 'ruth': 3136, 'plausibl': 3137, 'philosophi': 3138, 'hatr': 3139, 'min': 3140, 'gentl': 3141, 'slightest': 3142, '20th': 3143, 'greek': 3144, 'fx': 3145, 'wizard': 3146, 'gandhi': 3147, 'falk': 3148, 'alexand': 3149, 'ocean': 3150, 'jealou': 3151, 'legal': 3152, 'preciou': 3153, 'manhattan': 3154, 'knight': 3155, 'fund': 3156, 'unpleas': 3157, 'we': 3158, 'harm': 3159, 'tall': 3160, 'lend': 3161, 'dracula': 3162, 'holi': 3163, 'felix': 3164, 'futurist': 3165, 'thread': 3166, 'overdon': 3167, 'digniti': 3168, 'tank': 3169, 'explicit': 3170, 'scientif': 3171, 'forbidden': 3172, 'childish': 3173, 'nod': 3174, 'reviv': 3175, 'giallo': 3176, 'mock': 3177, 'bless': 3178, 'ami': 3179, 'mel': 3180, 'unwatch': 3181, 'fever': 3182, 'eve': 3183, 'torment': 3184, '99': 3185, 'nerv': 3186, 'yesterday': 3187, 'verhoeven': 3188, 'margaret': 3189, 'repeatedli': 3190, 'thick': 3191, 'broad': 3192, 'elderli': 3193, 'awaken': 3194, 'awe': 3195, 'pirat': 3196, '2004': 3197, 'timothi': 3198, 'absenc': 3199, 'griffith': 3200, 'royal': 3201, 'publish': 3202, 'eas': 3203, 'ambit': 3204, 'politician': 3205, 'roman': 3206, 'ah': 3207, 'custom': 3208, 'bin': 3209, 'automat': 3210, 'uniform': 3211, 'lean': 3212, 'rivet': 3213, 'romero': 3214, 'acclaim': 3215, 'stiller': 3216, 'kay': 3217, 'launch': 3218, 'warren': 3219, 'foul': 3220, 'antic': 3221, 'phrase': 3222, 'crook': 3223, 'darker': 3224, 'termin': 3225, 'pierc': 3226, 'pulp': 3227, 'bathroom': 3228, 'wallac': 3229, 'purpl': 3230, 'homicid': 3231, 'transport': 3232, 'stinker': 3233, 'gabriel': 3234, 'sunshin': 3235, 'tomato': 3236, 'eyr': 3237, 'packag': 3238, 'li': 3239, 'choreographi': 3240, 'awak': 3241, 'evolv': 3242, 'q': 3243, 'coloni': 3244, 'kenneth': 3245, 'sixti': 3246, 'horrid': 3247, 'brazil': 3248, '2003': 3249, 'contrari': 3250, 'juvenil': 3251, 'ought': 3252, 'karen': 3253, 'viciou': 3254, 'marin': 3255, 'pray': 3256, 'donna': 3257, 'prom': 3258, 'hollow': 3259, 'revolutionari': 3260, 'album': 3261, 'rambo': 3262, 'saint': 3263, 'option': 3264, 'nerd': 3265, 'blade': 3266, 'ramon': 3267, 'dose': 3268, 'candid': 3269, 'twelv': 3270, 'defi': 3271, 'conserv': 3272, 'mummi': 3273, 'overr': 3274, 'ireland': 3275, 'stole': 3276, 'beatti': 3277, 'boast': 3278, 'kapoor': 3279, 'mildr': 3280, 'collabor': 3281, 'funer': 3282, 'kirk': 3283, 'astonish': 3284, 'detract': 3285, 'trio': 3286, 'protest': 3287, 'jazz': 3288, 'altman': 3289, 'flame': 3290, 'natali': 3291, 'global': 3292, 'confirm': 3293, 'fulci': 3294, 'blake': 3295, 'mystic': 3296, 'spit': 3297, 'whip': 3298, 'delici': 3299, 'bull': 3300, 'nicholson': 3301, 'yellow': 3302, 'enterpris': 3303, 'shade': 3304, 'leap': 3305, 'bottl': 3306, 'tommi': 3307, 'audio': 3308, 'racial': 3309, 'destini': 3310, 'inherit': 3311, 'merci': 3312, 'enchant': 3313, 'reunit': 3314, 'altogeth': 3315, 'vivid': 3316, 'staff': 3317, 'popcorn': 3318, 'meaningless': 3319, 'adolesc': 3320, 'visibl': 3321, 'threw': 3322, 'swedish': 3323, 'todd': 3324, 'bedroom': 3325, 'fonda': 3326, 'harder': 3327, 'pseudo': 3328, 'neo': 3329, 'tip': 3330, 'lemmon': 3331, 'leonard': 3332, 'roommat': 3333, 'moodi': 3334, 'kennedi': 3335, 'synopsi': 3336, 'respond': 3337, 'reserv': 3338, 'edi': 3339, 'wire': 3340, 'fanat': 3341, 'befriend': 3342, 'uneven': 3343, 'ruthless': 3344, 'bust': 3345, 'crocodil': 3346, 'atlanti': 3347, 'lawrenc': 3348, 'await': 3349, 'suspici': 3350, 'exhibit': 3351, 'voight': 3352, 'jew': 3353, 'decor': 3354, 'madonna': 3355, 'incident': 3356, 'bargain': 3357, 'voyag': 3358, 'unsettl': 3359, 'clumsi': 3360, 'garner': 3361, 'chao': 3362, 'clint': 3363, 'rural': 3364, 'carl': 3365, 'abysm': 3366, 'centr': 3367, 'bold': 3368, '2007': 3369, 'holli': 3370, 'dimens': 3371, 'bradi': 3372, 'audit': 3373, 'ventur': 3374, 'palma': 3375, 'characterist': 3376, 'lit': 3377, 'cari': 3378, '2nd': 3379, 'daddi': 3380, 'acknowledg': 3381, 'imperson': 3382, 'trail': 3383, 'troop': 3384, 'hart': 3385, 'cd': 3386, 'nearbi': 3387, 'poetic': 3388, 'elimin': 3389, 'neglect': 3390, 'echo': 3391, 'mall': 3392, 'tiger': 3393, 'wealth': 3394, 'immigr': 3395, 'timon': 3396, 'humili': 3397, 'versu': 3398, 'cuba': 3399, 'ant': 3400, 'marshal': 3401, 'collaps': 3402, 'mistaken': 3403, 'pun': 3404, 'saga': 3405, 'repuls': 3406, 'celluloid': 3407, 'prejudic': 3408, 'jeffrey': 3409, 'solo': 3410, 'domest': 3411, 'mickey': 3412, 'homer': 3413, 'paus': 3414, 'infect': 3415, 'promin': 3416, '1996': 3417, 'inappropri': 3418, 'olivi': 3419, 'assembl': 3420, 'chest': 3421, 'apolog': 3422, 'cake': 3423, 'gear': 3424, 'undoubtedli': 3425, 'sore': 3426, 'leon': 3427, 'ginger': 3428, 'coat': 3429, 'hbo': 3430, 'coffe': 3431, 'tribe': 3432, 'equip': 3433, 'interrupt': 3434, 'inan': 3435, 'milk': 3436, 'pant': 3437, 'harvey': 3438, 'vulgar': 3439, 'trace': 3440, 'furthermor': 3441, 'aveng': 3442, 'institut': 3443, 'humbl': 3444, 'retain': 3445, 'primari': 3446, 'instant': 3447, 'airplan': 3448, 'pot': 3449, 'exot': 3450, 'highest': 3451, 'colleagu': 3452, 'devast': 3453, 'consum': 3454, 'pen': 3455, 'brooklyn': 3456, 'embrac': 3457, 'solut': 3458, 'colonel': 3459, 'florida': 3460, 'jenni': 3461, 'polanski': 3462, 'maggi': 3463, 'rick': 3464, '3rd': 3465, 'gender': 3466, 'principl': 3467, 'outer': 3468, 'strain': 3469, 'descend': 3470, 'ya': 3471, 'seduct': 3472, '1999': 3473, 'illog': 3474, 'dutch': 3475, 'sale': 3476, 'poke': 3477, 'linda': 3478, 'dian': 3479, 'godzilla': 3480, 'disabl': 3481, 'cope': 3482, 'smaller': 3483, 'wive': 3484, 'bowl': 3485, 'rabbit': 3486, 'dive': 3487, 'vast': 3488, 'hal': 3489, 'predecessor': 3490, 'inferior': 3491, 'primarili': 3492, 'gundam': 3493, 'gloriou': 3494, 'lol': 3495, 'blatant': 3496, 'mixtur': 3497, 'yard': 3498, 'cue': 3499, 'glamor': 3500, 'dud': 3501, 'scope': 3502, 'beneath': 3503, 'devoid': 3504, 'secondli': 3505, 'bubbl': 3506, 'pearl': 3507, 'countrysid': 3508, 'shirley': 3509, 'alert': 3510, 'invas': 3511, 'streep': 3512, 'senseless': 3513, 'disjoint': 3514, 'talki': 3515, 'garbo': 3516, 'hideou': 3517, 'museum': 3518, 'z': 3519, 'myer': 3520, 'grinch': 3521, 'april': 3522, 'casual': 3523, 'aggress': 3524, 'simplist': 3525, 'shelf': 3526, 'breed': 3527, 'domino': 3528, 'alfr': 3529, 'arab': 3530, 'trademark': 3531, 'et': 3532, 'stellar': 3533, 'experiment': 3534, 'mail': 3535, 'slide': 3536, 'unhappi': 3537, 'stir': 3538, 'rendit': 3539, 'oz': 3540, 'applaud': 3541, 'sh': 3542, 'acid': 3543, 'hardcor': 3544, 'disgrac': 3545, 'maci': 3546, 'hopeless': 3547, 'robberi': 3548, 'loyal': 3549, 'uwe': 3550, 'mayor': 3551, 'khan': 3552, 'defens': 3553, 'vanish': 3554, 'stack': 3555, 'robinson': 3556, 'illeg': 3557, 'boom': 3558, 'obtain': 3559, 'dicken': 3560, 'emphasi': 3561, 'amanda': 3562, 'incomprehens': 3563, 'spider': 3564, 'tenant': 3565, 'span': 3566, 'tempt': 3567, 'counter': 3568, 'declin': 3569, 'blew': 3570, 'grandfath': 3571, 'hartley': 3572, 'fri': 3573, 'berlin': 3574, 'dismiss': 3575, 'topless': 3576, 'diana': 3577, 'wont': 3578, 'rifl': 3579, 'craze': 3580, 'recruit': 3581, 'soccer': 3582, 'psychic': 3583, 'scroog': 3584, 'intim': 3585, 'porno': 3586, 'woo': 3587, 'shaw': 3588, 'ethnic': 3589, 'wet': 3590, 'riot': 3591, 'sibl': 3592, 'revolt': 3593, 'resurrect': 3594, 'trashi': 3595, 'parad': 3596, 'faster': 3597, 'lumet': 3598, 'sympath': 3599, 'shed': 3600, 'bitch': 3601, 'justin': 3602, 'ration': 3603, 'goer': 3604, 'niro': 3605, 'unreal': 3606, 'patriot': 3607, 'region': 3608, 'weakest': 3609, 'honesti': 3610, '00': 3611, 'lena': 3612, 'steam': 3613, 'gap': 3614, 'partial': 3615, 'eager': 3616, 'worm': 3617, 'hopper': 3618, 'andr': 3619, 'wheel': 3620, 'jonathan': 3621, 'choru': 3622, 'hesit': 3623, 'nephew': 3624, 'enlighten': 3625, 'feminist': 3626, 'commend': 3627, 'wendi': 3628, 'biographi': 3629, 'ensur': 3630, 'rider': 3631, 'farmer': 3632, 'dealer': 3633, 'immort': 3634, 'slick': 3635, 'ballet': 3636, 'mario': 3637, 'blunt': 3638, 'prequel': 3639, 'composit': 3640, 'confin': 3641, 'repress': 3642, 'wore': 3643, 'skull': 3644, 'leo': 3645, 'owen': 3646, 'victori': 3647, 'kingdom': 3648, 'util': 3649, 'mutant': 3650, 'safeti': 3651, 'morri': 3652, 'charlott': 3653, 'properti': 3654, 'nostalg': 3655, 'franco': 3656, 'macarthur': 3657, 'sappi': 3658, 'snap': 3659, 'vice': 3660, 'hung': 3661, 'sandra': 3662, 'psychopath': 3663, 'similarli': 3664, 'dalton': 3665, 'drain': 3666, 'latin': 3667, 'emperor': 3668, 'snl': 3669, 'strand': 3670, 'rope': 3671, 'farrel': 3672, 'thru': 3673, 'bumbl': 3674, 'whoopi': 3675, 'drum': 3676, 'bow': 3677, 'campbel': 3678, 'bonu': 3679, 'valuabl': 3680, 'pattern': 3681, 'acquir': 3682, 'dust': 3683, 'nervou': 3684, 'exit': 3685, 'rocki': 3686, 'despair': 3687, '1972': 3688, 'deed': 3689, 'rambl': 3690, 'kyle': 3691, 'recycl': 3692, 'compass': 3693, 'bergman': 3694, 'tad': 3695, 'cg': 3696, 'montana': 3697, 'tail': 3698, 'speci': 3699, 'repli': 3700, 'compens': 3701, 'hyde': 3702, 'miseri': 3703, 'heartbreak': 3704, 'del': 3705, 'gimmick': 3706, 'percept': 3707, 'orson': 3708, 'martian': 3709, 'airport': 3710, 'olli': 3711, 'gal': 3712, 'da': 3713, 'romp': 3714, 'roth': 3715, 'pour': 3716, 'mistress': 3717, 'wacki': 3718, '35': 3719, 'downhil': 3720, 'chess': 3721, 'rotten': 3722, 'slug': 3723, 'carradin': 3724, 'tonight': 3725, 'rapist': 3726, 'bleed': 3727, 'radic': 3728, 'contempl': 3729, 'oppress': 3730, '1983': 3731, 'pervers': 3732, 'edgar': 3733, 'arc': 3734, 'mislead': 3735, 'belt': 3736, 'slash': 3737, 'preach': 3738, 'pursuit': 3739, 'banal': 3740, 'unpredict': 3741, 'stilt': 3742, 'pervert': 3743, 'melodi': 3744, 'paltrow': 3745, 'taught': 3746, 'programm': 3747, 'dazzl': 3748, 'attorney': 3749, 'champion': 3750, 'tackl': 3751, 'shelley': 3752, 'tooth': 3753, 'arguabl': 3754, 'heal': 3755, 'orang': 3756, 'maid': 3757, 'employe': 3758, 'poem': 3759, 'conneri': 3760, 'vocal': 3761, 'cleverli': 3762, 'vengeanc': 3763, 'raymond': 3764, 'passeng': 3765, 'mesmer': 3766, 'bela': 3767, 'franki': 3768, 'graham': 3769, 'gambl': 3770, 'chicken': 3771, 'sensat': 3772, 'uplift': 3773, 'marti': 3774, 'closest': 3775, 'rubi': 3776, 'virginia': 3777, 'plight': 3778, 'dixon': 3779, 'duval': 3780, 'tiresom': 3781, '1968': 3782, 'clone': 3783, 'tube': 3784, 'numb': 3785, 'calm': 3786, 'lundgren': 3787, 'climact': 3788, 'quarter': 3789, 'mute': 3790, 'giggl': 3791, 'gerard': 3792, 'inject': 3793, 'suffic': 3794, 'bay': 3795, 'habit': 3796, 'amitabh': 3797, 'abraham': 3798, 'outing': 3799, 'secretli': 3800, 'pokemon': 3801, 'extens': 3802, 'monologu': 3803, 'profan': 3804, 'convincingli': 3805, 'yawn': 3806, 'whine': 3807, 'crystal': 3808, 'volum': 3809, 'sirk': 3810, 'iran': 3811, 'swallow': 3812, 'engross': 3813, 'scottish': 3814, 'paranoia': 3815, 'plod': 3816, 'chicago': 3817, 'fed': 3818, 'trend': 3819, 'bend': 3820, 'nichola': 3821, 'profess': 3822, 'linger': 3823, 'surpass': 3824, 'septemb': 3825, 'franci': 3826, 'abort': 3827, 'poetri': 3828, 'backward': 3829, 'austen': 3830, 'frankenstein': 3831, 'meander': 3832, 'dispos': 3833, 'im': 3834, 'lowest': 3835, 'junior': 3836, 'taxi': 3837, 'expand': 3838, 'grotesqu': 3839, 'earl': 3840, 'underst': 3841, 'spock': 3842, 'richardson': 3843, 'ethan': 3844, 'lure': 3845, 'catchi': 3846, 'rant': 3847, 'descent': 3848, 'sue': 3849, 'household': 3850, 'dysfunct': 3851, 'instrument': 3852, 'nostalgia': 3853, 'eugen': 3854, 'simplic': 3855, 'muddl': 3856, 'econom': 3857, 'mundan': 3858, 'myth': 3859, 'greedi': 3860, 'cannon': 3861, 'hum': 3862, 'der': 3863, 'literatur': 3864, 'rubber': 3865, 'tourist': 3866, 'waitress': 3867, 'stallon': 3868, 'spoke': 3869, 'compliment': 3870, 'dement': 3871, 'stale': 3872, 'irrelev': 3873, 'insur': 3874, 'eaten': 3875, 'recognit': 3876, 'hello': 3877, 'occupi': 3878, 'june': 3879, 'coast': 3880, 'mortal': 3881, 'deaf': 3882, 'phantom': 3883, 'furi': 3884, 'sissi': 3885, 'molli': 3886, 'carel': 3887, 'flee': 3888, 'mankind': 3889, 'alongsid': 3890, 'recognis': 3891, 'firstli': 3892, 'equival': 3893, 'map': 3894, 'phoni': 3895, 'crucial': 3896, 'randi': 3897, 'dictat': 3898, 'louis': 3899, 'bacal': 3900, 'lang': 3901, 'duck': 3902, 'cent': 3903, 'omen': 3904, 'damon': 3905, 'rude': 3906, 'likewis': 3907, 'lengthi': 3908, 'rooney': 3909, 'heel': 3910, 'daisi': 3911, 'dreari': 3912, 'damm': 3913, 'cyborg': 3914, 'wisdom': 3915, 'drake': 3916, 'bike': 3917, 'freez': 3918, 'distinguish': 3919, '1973': 3920, 'bump': 3921, 'onlin': 3922, 'newli': 3923, 'labor': 3924, 'antwon': 3925, 'grayson': 3926, 'reign': 3927, 'blackmail': 3928, 'twilight': 3929, 'ashley': 3930, 'buffalo': 3931, 'loyalti': 3932, 'biko': 3933, 'butler': 3934, 'barrymor': 3935, 'provoc': 3936, 'ridden': 3937, 'exposur': 3938, 'nineti': 3939, 'pink': 3940, 'interior': 3941, 'emphas': 3942, 'chronicl': 3943, 'analysi': 3944, 'inher': 3945, 'sailor': 3946, 'baddi': 3947, 'incorpor': 3948, 'tunnel': 3949, 'vein': 3950, 'startl': 3951, 'basketbal': 3952, 'attribut': 3953, 'keith': 3954, 'approv': 3955, 'unorigin': 3956, 'prey': 3957, 'proce': 3958, 'worn': 3959, 'boxer': 3960, 'unrel': 3961, 'condemn': 3962, 'hypnot': 3963, 'barrel': 3964, 'mighti': 3965, 'er': 3966, 'indiffer': 3967, 'underli': 3968, 'julian': 3969, 'substitut': 3970, 'predat': 3971, 'nicol': 3972, 'fleet': 3973, 'robbin': 3974, 'walsh': 3975, 'undeni': 3976, 'stalker': 3977, 'drift': 3978, 'meg': 3979, 'millionair': 3980, 'meyer': 3981, 'belushi': 3982, 'degrad': 3983, 'othello': 3984, 'elm': 3985, 'improvis': 3986, 'simmon': 3987, 'mormon': 3988, 'carla': 3989, 'bunni': 3990, 'vital': 3991, 'alarm': 3992, 'nyc': 3993, 'firm': 3994, 'palac': 3995, 'edgi': 3996, 'marion': 3997, 'dolph': 3998, 'errol': 3999, 'unawar': 4000, 'greed': 4001, '3d': 4002, 'priceless': 4003, 'lampoon': 4004, 'hay': 4005, 'watson': 4006, 'warmth': 4007, 'agenda': 4008, 'exquisit': 4009, 'reid': 4010, 'rukh': 4011, 'roof': 4012, 'novak': 4013, 'alison': 4014, 'shove': 4015, 'disord': 4016, 'mtv': 4017, 'enthusiasm': 4018, 'peril': 4019, '13th': 4020, 'beatl': 4021, 'minimum': 4022, 'simultan': 4023, 'thompson': 4024, 'petti': 4025, 'championship': 4026, 'peck': 4027, 'israel': 4028, 'campaign': 4029, 'unleash': 4030, 'eastern': 4031, 'glanc': 4032, 'distort': 4033, 'nun': 4034, 'gestur': 4035, 'iraq': 4036, 'ponder': 4037, 'spain': 4038, 'valentin': 4039, 'what': 4040, 'angela': 4041, 'showdown': 4042, 'pamela': 4043, 'cassidi': 4044, '1933': 4045, 'testament': 4046, 'session': 4047, 'orlean': 4048, 'drip': 4049, 'profit': 4050, 'crown': 4051, 'preserv': 4052, 'coup': 4053, 'sergeant': 4054, 'zizek': 4055, 'randomli': 4056, 'empathi': 4057, 'rout': 4058, 'cream': 4059, 'realm': 4060, 'shootout': 4061, 'restrain': 4062, 'brenda': 4063, 'gentleman': 4064, 'fido': 4065, 'unimagin': 4066, 'mon': 4067, 'miyazaki': 4068, 'scotland': 4069, 'stake': 4070, 'contradict': 4071, 'climat': 4072, 'travesti': 4073, 'buster': 4074, 'cooki': 4075, 'exposit': 4076, '1984': 4077, 'reson': 4078, 'crow': 4079, 'bro': 4080, 'crawl': 4081, 'sabrina': 4082, 'jan': 4083, 'quinn': 4084, 'wig': 4085, 'han': 4086, 'calib': 4087, 'valley': 4088, 'perpetu': 4089, 'regist': 4090, 'represent': 4091, 'stroke': 4092, 'din': 4093, 'kurosawa': 4094, 'delic': 4095, 'soderbergh': 4096, 'sammi': 4097, 'censor': 4098, 'traumat': 4099, '1987': 4100, 'cloud': 4101, 'meryl': 4102, 'absent': 4103, 'dana': 4104, 'warrant': 4105, 'geek': 4106, 'distress': 4107, 'stargat': 4108, 'businessman': 4109, 'crawford': 4110, 'pole': 4111, 'compromis': 4112, '1997': 4113, 'derang': 4114, 'unsatisfi': 4115, 'abomin': 4116, 'monoton': 4117, 'darren': 4118, 'pretens': 4119, 'perceiv': 4120, 'shaki': 4121, 'spacey': 4122, 'mclaglen': 4123, 'unseen': 4124, 'josh': 4125, 'ross': 4126, 'femm': 4127, 'tacki': 4128, 'painter': 4129, 'greg': 4130, 'sucker': 4131, 'wax': 4132, 'shoddi': 4133, 'fuller': 4134, 'baldwin': 4135, 'passabl': 4136, 'ustinov': 4137, 'demis': 4138, 'primit': 4139, 'valid': 4140, 'reluct': 4141, 'unravel': 4142, 'deceas': 4143, 'fenc': 4144, 'norm': 4145, 'tarantino': 4146, 'furiou': 4147, 'seal': 4148, 'uncov': 4149, 'jewel': 4150, 'wholli': 4151, '1993': 4152, 'click': 4153, 'kumar': 4154, 'correctli': 4155, 'antonioni': 4156, 'judgment': 4157, 'tech': 4158, 'verbal': 4159, 'clash': 4160, 'austin': 4161, 'dee': 4162, 'exclus': 4163, 'expedit': 4164, 'sid': 4165, 'anchor': 4166, 'nathan': 4167, 'fog': 4168, 'polici': 4169, 'accuraci': 4170, 'deniro': 4171, 'sand': 4172, 'conduct': 4173, 'sustain': 4174, 'clerk': 4175, 'trait': 4176, 'seldom': 4177, 'tax': 4178, 'pocket': 4179, 'joel': 4180, 'enforc': 4181, 'nicola': 4182, 'dreck': 4183, 'ritual': 4184, 'hallucin': 4185, 'temper': 4186, 'behold': 4187, 'alec': 4188, 'murray': 4189, 'fabric': 4190, 'patienc': 4191, 'shanghai': 4192, '1995': 4193, 'unfair': 4194, 'vanc': 4195, 'crippl': 4196, 'roller': 4197, 'fart': 4198, 'sheet': 4199, 'mode': 4200, 'debt': 4201, 'slam': 4202, 'wretch': 4203, 'fought': 4204, '1971': 4205, 'malon': 4206, 'sunni': 4207, 'darn': 4208, '3000': 4209, 'logan': 4210, 'bake': 4211, '2008': 4212, 'wang': 4213, 'runner': 4214, 'critiqu': 4215, 'helpless': 4216, 'tactic': 4217, 'schedul': 4218, 'technicolor': 4219, 'fundament': 4220, 'phil': 4221, 'canyon': 4222, 'despis': 4223, 'exhaust': 4224, 'soup': 4225, 'guitar': 4226, 'rita': 4227, 'shell': 4228, 'preposter': 4229, 'bias': 4230, 'squad': 4231, 'sweep': 4232, 'penni': 4233, 'stark': 4234, 'bridget': 4235, 'pete': 4236, 'legaci': 4237, 'outlin': 4238, 'conscious': 4239, 'stuart': 4240, 'preston': 4241, 'scriptwrit': 4242, 'clau': 4243, 'isabel': 4244, 'divid': 4245, 'grief': 4246, 'robber': 4247, 'newman': 4248, 'sugar': 4249, 'lacklust': 4250, 'passag': 4251, 'flair': 4252, 'liberti': 4253, 'gregori': 4254, 'culmin': 4255, 'bloom': 4256, 'alley': 4257, 'downey': 4258, 'drove': 4259, 'agenc': 4260, 'jacket': 4261, 'boyl': 4262, 'inabl': 4263, 'rehash': 4264, 'connor': 4265, 'implic': 4266, 'sentinel': 4267, 'russia': 4268, 'restrict': 4269, 'rear': 4270, 'alicia': 4271, 'jodi': 4272, 'consciou': 4273, 'unexpectedli': 4274, 'cigarett': 4275, 'propos': 4276, 'marc': 4277, 'palanc': 4278, 'kansa': 4279, 'invad': 4280, 'vomit': 4281, 'delv': 4282, 'sniper': 4283, 'behaviour': 4284, 'improb': 4285, 'pale': 4286, 'awhil': 4287, 'wrench': 4288, 'asylum': 4289, 'rampag': 4290, 'sharon': 4291, 'horn': 4292, 'tripe': 4293, 'cap': 4294, 'foxx': 4295, 'rod': 4296, 'delet': 4297, 'kolchak': 4298, 'chainsaw': 4299, 'rehears': 4300, 'lush': 4301, '1936': 4302, 'ladder': 4303, 'aesthet': 4304, 'vet': 4305, 'tendenc': 4306, 'arrow': 4307, 'feat': 4308, 'mccoy': 4309, 'bacon': 4310, 'karl': 4311, 'yeti': 4312, '22': 4313, '19th': 4314, 'suffici': 4315, 'wildli': 4316, 'underneath': 4317, 'visitor': 4318, 'hackney': 4319, '1988': 4320, 'rumor': 4321, 'stream': 4322, 'hulk': 4323, 'elit': 4324, 'lurk': 4325, 'fright': 4326, 'amazon': 4327, 'aristocrat': 4328, 'newcom': 4329, 'rhythm': 4330, 'conscienc': 4331, 'globe': 4332, 'loneli': 4333, 'coaster': 4334, 'hungri': 4335, 'paramount': 4336, 'wagner': 4337, 'suspicion': 4338, '1920': 4339, 'tasteless': 4340, '1978': 4341, 'spice': 4342, 'weav': 4343, 'shortcom': 4344, 'sung': 4345, 'financ': 4346, 'tomorrow': 4347, 'basing': 4348, 'minu': 4349, 'paradis': 4350, 'el': 4351, 'filler': 4352, 'thunderbird': 4353, 'scoop': 4354, 'prank': 4355, 'literari': 4356, 'abrupt': 4357, 'teas': 4358, 'inmat': 4359, 'iv': 4360, 'beverli': 4361, '1939': 4362, 'quietli': 4363, 'minist': 4364, 'en': 4365, 'couch': 4366, 'hopkin': 4367, 'ingeni': 4368, 'brit': 4369, 'tierney': 4370, '75': 4371, 'counterpart': 4372, 'entranc': 4373, 'rub': 4374, '1989': 4375, 'dirt': 4376, 'immers': 4377, 'choppi': 4378, 'ram': 4379, 'leigh': 4380, 'penn': 4381, 'naughti': 4382, 'standout': 4383, 'atroc': 4384, 'grudg': 4385, 'curli': 4386, 'bread': 4387, 'straightforward': 4388, 'secondari': 4389, 'impos': 4390, 'lectur': 4391, 'worship': 4392, 'springer': 4393, 'wwe': 4394, 'posey': 4395, 'recogniz': 4396, 'smell': 4397, 'chavez': 4398, 'chamberlain': 4399, 'paxton': 4400, 'cancer': 4401, 'heist': 4402, 'morbid': 4403, 'ace': 4404, 'yearn': 4405, 'attenborough': 4406, 'clan': 4407, 'entitl': 4408, '1986': 4409, 'injuri': 4410, 'geni': 4411, 'missil': 4412, 'nemesi': 4413, 'esther': 4414, 'watcher': 4415, 'duel': 4416, 'quaid': 4417, 'net': 4418, 'ratso': 4419, 'heartfelt': 4420, 'sassi': 4421, 'moreov': 4422, 'convert': 4423, 'variat': 4424, 'cattl': 4425, 'misguid': 4426, 'sublim': 4427, 'enthral': 4428, 'bernard': 4429, 'policeman': 4430, 'skeptic': 4431, 'laurenc': 4432, 'nolan': 4433, 'transcend': 4434, 'lindsay': 4435, 'poe': 4436, 'out': 4437, 'unexplain': 4438, 'carlito': 4439, '1979': 4440, 'tyler': 4441, 'cruelti': 4442, 'hk': 4443, 'buzz': 4444, 'kidman': 4445, 'moder': 4446, 'facil': 4447, 'dont': 4448, 'grin': 4449, 'hopelessli': 4450, 'bye': 4451, 'mytholog': 4452, 'steadi': 4453, 'uncut': 4454, 'kitti': 4455, 'bean': 4456, 'diari': 4457, 'characteris': 4458, 'setup': 4459, 'enabl': 4460, 'egg': 4461, 'youngest': 4462, 'brood': 4463, 'reliabl': 4464, 'obstacl': 4465, 'puppi': 4466, 'spiral': 4467, 'graini': 4468, 'artsi': 4469, 'vader': 4470, 'rosemari': 4471, '1969': 4472, 'effici': 4473, 'oblig': 4474, 'narrow': 4475, 'spontan': 4476, 'decept': 4477, 'weather': 4478, 'fuel': 4479, 'disastr': 4480, 'baffl': 4481, 'sweat': 4482, 'underworld': 4483, 'preming': 4484, 'hain': 4485, 'exterior': 4486, 'heap': 4487, 'martha': 4488, 'gillian': 4489, 'bronson': 4490, 'patricia': 4491, 'athlet': 4492, 'niec': 4493, 'brendan': 4494, 'hammi': 4495, 'acquaint': 4496, 'kline': 4497, 'clueless': 4498, 'despic': 4499, 'bewar': 4500, 'christin': 4501, 'gina': 4502, 'bounc': 4503, 'preachi': 4504, '19': 4505, 'housewif': 4506, 'astound': 4507, 'analyz': 4508, 'angst': 4509, 'renaiss': 4510, 'trigger': 4511, 'candl': 4512, 'loath': 4513, 'viewpoint': 4514, 'lester': 4515, 'loi': 4516, 'dilemma': 4517, 'dandi': 4518, 'biker': 4519, 'rome': 4520, 'sleepwalk': 4521, 'harmless': 4522, 'mermaid': 4523, 'shatter': 4524, 'insipid': 4525, 'taboo': 4526, 'uh': 4527, 'injur': 4528, 'goof': 4529, 'headach': 4530, 'enlist': 4531, 'fontain': 4532, 'suprem': 4533, 'scar': 4534, 'outlaw': 4535, 'hepburn': 4536, 'tick': 4537, 'circu': 4538, 'virtu': 4539, 'mayhem': 4540, '73': 4541, 'sooner': 4542, 'boston': 4543, 'bent': 4544, 'foolish': 4545, 'corbett': 4546, 'zoom': 4547, 'hokey': 4548, 'filth': 4549, 'fluff': 4550, 'surgeri': 4551, 'immatur': 4552, 'whore': 4553, 'overlong': 4554, 'sox': 4555, 'claustrophob': 4556, 'hooker': 4557, 'spade': 4558, 'tripl': 4559, 'ebert': 4560, 'contempt': 4561, 'scorses': 4562, 'stimul': 4563, 'amor': 4564, 'steer': 4565, 'ariel': 4566, 'camcord': 4567, 'dismal': 4568, 'dish': 4569, 'macho': 4570, 'oldest': 4571, 'phenomenon': 4572, 'idol': 4573, 'redund': 4574, 'intric': 4575, 'hostag': 4576, 'stair': 4577, 'cassavet': 4578, 'glorifi': 4579, 'salt': 4580, 'guin': 4581, 'gere': 4582, 'slimi': 4583, 'spree': 4584, 'zane': 4585, 'spinal': 4586, 'schlock': 4587, 'remad': 4588, 'trivia': 4589, 'conquer': 4590, 'astronaut': 4591, 'rhyme': 4592, 'shield': 4593, 'frantic': 4594, 'beard': 4595, 'obligatori': 4596, 'corman': 4597, 'muscl': 4598, 'strongest': 4599, 'keen': 4600, 'dwarf': 4601, '1981': 4602, 'faint': 4603, 'gabl': 4604, 'harold': 4605, 'shred': 4606, 'messi': 4607, 'cohen': 4608, 'alvin': 4609, 'mutual': 4610, 'antagonist': 4611, 'fascist': 4612, 'naschi': 4613, 'gasp': 4614, 'flashi': 4615, 'cow': 4616, 'proport': 4617, 'assert': 4618, 'radiat': 4619, '1976': 4620, 'joker': 4621, 'mount': 4622, 'cush': 4623, 'flag': 4624, 'flirt': 4625, 'margin': 4626, 'perman': 4627, 'down': 4628, 'preced': 4629, 'widescreen': 4630, 'transplant': 4631, 'nolt': 4632, 'archiv': 4633, 'interestingli': 4634, 'strive': 4635, 'ritchi': 4636, 'resum': 4637, 'mobil': 4638, 'boob': 4639, 'departur': 4640, 'someday': 4641, 'discern': 4642, 'inflict': 4643, 'scandal': 4644, 'aborigin': 4645, 'info': 4646, 'off': 4647, 'bitten': 4648, 'persuad': 4649, '1945': 4650, 'danish': 4651, 'bachelor': 4652, 'sensual': 4653, '95': 4654, 'repris': 4655, 'triangl': 4656, 'carey': 4657, 'raj': 4658, '28': 4659, 'divin': 4660, 'neurot': 4661, 'brush': 4662, 'vaniti': 4663, 'flock': 4664, 'barn': 4665, 'fishburn': 4666, 'deer': 4667, 'claud': 4668, 'www': 4669, 'instruct': 4670, 'hara': 4671, 'mol': 4672, 'wield': 4673, 'jade': 4674, 'banter': 4675, 'senior': 4676, 'dylan': 4677, 'helm': 4678, 'dim': 4679, 'submit': 4680, 'pacif': 4681, 'recit': 4682, 'dame': 4683, 'luka': 4684, 'loretta': 4685, 'biblic': 4686, 'vibrant': 4687, 'miracul': 4688, 'earnest': 4689, 'cb': 4690, 'colin': 4691, 'anton': 4692, 'melissa': 4693, 'cliffhang': 4694, 'frontier': 4695, 'artwork': 4696, 'hapless': 4697, 'bate': 4698, 'pickford': 4699, 'wendigo': 4700, 'undermin': 4701, 'fragil': 4702, 'clad': 4703, 'pixar': 4704, 'kathryn': 4705, 'rot': 4706, 'cher': 4707, 'mobster': 4708, 'hilar': 4709, 'heartwarm': 4710, 'prophet': 4711, 'ish': 4712, 'neill': 4713, 'parson': 4714, 'harrison': 4715, 'casino': 4716, 'cycl': 4717, 'proclaim': 4718, 'hug': 4719, 'carlo': 4720, 'traffic': 4721, 'axe': 4722, 'europa': 4723, 'timberlak': 4724, 'venom': 4725, 'articl': 4726, 'foil': 4727, 'razor': 4728, 'mason': 4729, 'eli': 4730, 'token': 4731, 'vile': 4732, 'orphan': 4733, 'breakfast': 4734, 'static': 4735, 'blatantli': 4736, 'northern': 4737, 'legitim': 4738, 'jordan': 4739, 'uma': 4740, 'holocaust': 4741, 'nope': 4742, 'alexandr': 4743, 'akin': 4744, 'redneck': 4745, 'bikini': 4746, 'lui': 4747, 'misfortun': 4748, 'cerebr': 4749, 'wardrob': 4750, 'pc': 4751, 'vanessa': 4752, 'antholog': 4753, 'isra': 4754, 'http': 4755, 'jo': 4756, 'sicken': 4757, 'feast': 4758, 'shepherd': 4759, 'mathieu': 4760, 'toronto': 4761, 'estrang': 4762, 'lucil': 4763, 'seedi': 4764, 'aris': 4765, 'bondag': 4766, 'rooki': 4767, 'choke': 4768, 'trier': 4769, 'illus': 4770, 'marlon': 4771, 'winchest': 4772, 'electron': 4773, 'flavor': 4774, 'milo': 4775, 'feminin': 4776, 'clinic': 4777, 'fifth': 4778, 'abund': 4779, 'linear': 4780, 'howl': 4781, 'retriev': 4782, 'deem': 4783, 'glare': 4784, 'comprehend': 4785, 'gilbert': 4786, 'oppon': 4787, 'turd': 4788, 'tack': 4789, 'highway': 4790, 'psych': 4791, 'huston': 4792, 'shorter': 4793, 'dudley': 4794, 'magician': 4795, 'affleck': 4796, 'knightley': 4797, 'peer': 4798, 'cartoonish': 4799, 'disregard': 4800, 'styliz': 4801, 'swept': 4802, 'boyer': 4803, 'wrestler': 4804, 'audrey': 4805, 'leather': 4806, 'outdat': 4807, 'ideolog': 4808, 'nightclub': 4809, 'charlton': 4810, 'frog': 4811, 'smack': 4812, 'gunga': 4813, 'ceremoni': 4814, 'conrad': 4815, 'spine': 4816, 'client': 4817, 'durat': 4818, 'whack': 4819, 'btw': 4820, 'snatch': 4821, 'collector': 4822, 'bogu': 4823, 'evolut': 4824, 'uniformli': 4825, 'chip': 4826, 'senat': 4827, 'sleaz': 4828, 'energet': 4829, 'boo': 4830, 'greet': 4831, 'phenomen': 4832, 'monument': 4833, 'deliver': 4834, 'potter': 4835, 'newer': 4836, '4th': 4837, 'toe': 4838, 'breakdown': 4839, 'einstein': 4840, 'cemeteri': 4841, 'tara': 4842, 'salman': 4843, 'moe': 4844, 'goldsworthi': 4845, 'summar': 4846, 'mitch': 4847, '1994': 4848, 'corn': 4849, 'spawn': 4850, 'braveheart': 4851, 'bastard': 4852, 'lavish': 4853, 'lifeless': 4854, 'plate': 4855, '1991': 4856, 'lighter': 4857, 'compris': 4858, 'cuban': 4859, 'capot': 4860, 'signal': 4861, '1974': 4862, 'judd': 4863, 'belli': 4864, 'wtf': 4865, 'replay': 4866, 'undead': 4867, 'outright': 4868, 'healthi': 4869, 'sorrow': 4870, 'evelyn': 4871, 'eleven': 4872, 'jedi': 4873, 'alleg': 4874, 'luxuri': 4875, 'fluid': 4876, 'gilliam': 4877, 'embark': 4878, 'jare': 4879, 'bulk': 4880, 'inaccuraci': 4881, 'jule': 4882, 'jam': 4883, '1977': 4884, 'armstrong': 4885, 'neatli': 4886, 'firmli': 4887, 'ol': 4888, 'appl': 4889, 'bori': 4890, 'creek': 4891, 'cecil': 4892, 'pronounc': 4893, 'constitut': 4894, 'spectacl': 4895, 'trauma': 4896, 'kent': 4897, 'undertak': 4898, 'clara': 4899, 'liu': 4900, 'nina': 4901, 'lex': 4902, 'kazan': 4903, 'occup': 4904, 'historian': 4905, 'ie': 4906, 'randolph': 4907, 'mcqueen': 4908, 'miniseri': 4909, 'aussi': 4910, 'comb': 4911, 'truman': 4912, 'goldblum': 4913, 'antonio': 4914, 'sacrif': 4915, 'walt': 4916, 'pioneer': 4917, 'cape': 4918, 'relentless': 4919, 'unsuspect': 4920, 'lanc': 4921, 'propheci': 4922, 'inclus': 4923, 'bait': 4924, 'spray': 4925, 'palm': 4926, 'sidewalk': 4927, 'kiddi': 4928, 'blur': 4929, 'roar': 4930, 'meal': 4931, 'paula': 4932, 'decapit': 4933, 'comprehens': 4934, 'galaxi': 4935, '1985': 4936, 'groan': 4937, 'id': 4938, 'abound': 4939, 'genet': 4940, 'lauren': 4941, 'ash': 4942, 'curtain': 4943, 'rosario': 4944, 'conan': 4945, 'vain': 4946, 'fruit': 4947, 'pepper': 4948, 'basket': 4949, 'knee': 4950, 'vignett': 4951, 'porter': 4952, 'bsg': 4953, 'carmen': 4954, 'mum': 4955, 'congratul': 4956, 'miami': 4957, 'forgiven': 4958, 'inaccur': 4959, 'tokyo': 4960, 'subtli': 4961, 'poker': 4962, 'unattract': 4963, 'modest': 4964, 'weaker': 4965, 'frontal': 4966, 'hostil': 4967, 'vastli': 4968, 'scariest': 4969, 'optimist': 4970, 'turtl': 4971, 'bravo': 4972, 'orchestr': 4973, 'verg': 4974, 'asset': 4975, 'substanti': 4976, 'rapidli': 4977, 'mice': 4978, 'omin': 4979, 'macabr': 4980, 'growth': 4981, 'incorrect': 4982, 'spill': 4983, 'casper': 4984, 'epitom': 4985, 'ingrid': 4986, 'reincarn': 4987, 'handicap': 4988, 'profil': 4989, 'scarfac': 4990, 'drone': 4991, 'motorcycl': 4992, 'weari': 4993, 'masterson': 4994, 'jill': 4995, 'evan': 4996, 'victorian': 4997, 'sophi': 4998, 'dubiou': 4999}\n"
     ]
    }
   ],
   "source": [
    "# TODO: Use this space to determine the five most frequently appearing words in the training set.\n",
    "print(word_dict)"
   ]
  },
  {
   "cell_type": "markdown",
   "metadata": {},
   "source": [
    "### Save `word_dict`\n",
    "\n",
    "Later on when we construct an endpoint which processes a submitted review we will need to make use of the `word_dict` which we have created. As such, we will save it to a file now for future use."
   ]
  },
  {
   "cell_type": "code",
   "execution_count": 119,
   "metadata": {},
   "outputs": [],
   "source": [
    "data_dir = '../data/pytorch' # The folder we will use for storing data\n",
    "if not os.path.exists(data_dir): # Make sure that the folder exists\n",
    "    os.makedirs(data_dir)"
   ]
  },
  {
   "cell_type": "code",
   "execution_count": 120,
   "metadata": {},
   "outputs": [],
   "source": [
    "with open(os.path.join(data_dir, 'word_dict.pkl'), \"wb\") as f:\n",
    "    pickle.dump(word_dict, f)"
   ]
  },
  {
   "cell_type": "markdown",
   "metadata": {},
   "source": [
    "### Transform the reviews\n",
    "\n",
    "Now that we have our word dictionary which allows us to transform the words appearing in the reviews into integers, it is time to make use of it and convert our reviews to their integer sequence representation, making sure to pad or truncate to a fixed length, which in our case is `500`."
   ]
  },
  {
   "cell_type": "code",
   "execution_count": 121,
   "metadata": {},
   "outputs": [],
   "source": [
    "def convert_and_pad(word_dict, sentence, pad=500):\n",
    "    NOWORD = 0 # We will use 0 to represent the 'no word' category\n",
    "    INFREQ = 1 # and we use 1 to represent the infrequent words, i.e., words not appearing in word_dict\n",
    "    \n",
    "    working_sentence = [NOWORD] * pad\n",
    "    \n",
    "    for word_index, word in enumerate(sentence[:pad]):\n",
    "        if word in word_dict:\n",
    "            working_sentence[word_index] = word_dict[word]\n",
    "        else:\n",
    "            working_sentence[word_index] = INFREQ\n",
    "            \n",
    "    return working_sentence, min(len(sentence), pad)\n",
    "\n",
    "def convert_and_pad_data(word_dict, data, pad=500):\n",
    "    result = []\n",
    "    lengths = []\n",
    "    \n",
    "    for sentence in data:\n",
    "        converted, leng = convert_and_pad(word_dict, sentence, pad)\n",
    "        result.append(converted)\n",
    "        lengths.append(leng)\n",
    "        \n",
    "    return np.array(result), np.array(lengths)"
   ]
  },
  {
   "cell_type": "code",
   "execution_count": 122,
   "metadata": {},
   "outputs": [],
   "source": [
    "train_X, train_X_len = convert_and_pad_data(word_dict, train_X)\n",
    "test_X, test_X_len = convert_and_pad_data(word_dict, test_X)"
   ]
  },
  {
   "cell_type": "markdown",
   "metadata": {},
   "source": [
    "As a quick check to make sure that things are working as intended, check to see what one of the reviews in the training set looks like after having been processeed. Does this look reasonable? What is the length of a review in the training set?"
   ]
  },
  {
   "cell_type": "code",
   "execution_count": 123,
   "metadata": {},
   "outputs": [],
   "source": [
    "# Use this cell to examine one of the processed reviews to make sure everything is working as intended."
   ]
  },
  {
   "cell_type": "markdown",
   "metadata": {},
   "source": [
    "**Question:** In the cells above we use the `preprocess_data` and `convert_and_pad_data` methods to process both the training and testing set. Why or why not might this be a problem?"
   ]
  },
  {
   "cell_type": "markdown",
   "metadata": {},
   "source": [
    "**Answer:**\n",
    "We do this to make all the training data to the length of a specific size by padding it with zeroes. For data have a length of 40 we will be adding extra padding to it with zeroes which might increase our memory and if we consider a lot of small data and only one large data the padding will occur on all the smaller data increasing the memory by a lot."
   ]
  },
  {
   "cell_type": "markdown",
   "metadata": {},
   "source": [
    "## Step 3: Upload the data to S3\n",
    "\n",
    "As in the XGBoost notebook, we will need to upload the training dataset to S3 in order for our training code to access it. For now we will save it locally and we will upload to S3 later on.\n",
    "\n",
    "### Save the processed training dataset locally\n",
    "\n",
    "It is important to note the format of the data that we are saving as we will need to know it when we write the training code. In our case, each row of the dataset has the form `label`, `length`, `review[500]` where `review[500]` is a sequence of `500` integers representing the words in the review."
   ]
  },
  {
   "cell_type": "code",
   "execution_count": 124,
   "metadata": {},
   "outputs": [],
   "source": [
    "import pandas as pd\n",
    "    \n",
    "pd.concat([pd.DataFrame(train_y), pd.DataFrame(train_X_len), pd.DataFrame(train_X)], axis=1) \\\n",
    "        .to_csv(os.path.join(data_dir, 'train.csv'), header=False, index=False)"
   ]
  },
  {
   "cell_type": "markdown",
   "metadata": {},
   "source": [
    "### Uploading the training data\n",
    "\n",
    "\n",
    "Next, we need to upload the training data to the SageMaker default S3 bucket so that we can provide access to it while training our model."
   ]
  },
  {
   "cell_type": "code",
   "execution_count": 125,
   "metadata": {},
   "outputs": [],
   "source": [
    "import sagemaker\n",
    "\n",
    "sagemaker_session = sagemaker.Session()\n",
    "\n",
    "bucket = sagemaker_session.default_bucket()\n",
    "prefix = 'sagemaker/sentiment_rnn'\n",
    "\n",
    "role = sagemaker.get_execution_role()"
   ]
  },
  {
   "cell_type": "code",
   "execution_count": 126,
   "metadata": {},
   "outputs": [],
   "source": [
    "input_data = sagemaker_session.upload_data(path=data_dir, bucket=bucket, key_prefix=prefix)"
   ]
  },
  {
   "cell_type": "markdown",
   "metadata": {},
   "source": [
    "**NOTE:** The cell above uploads the entire contents of our data directory. This includes the `word_dict.pkl` file. This is fortunate as we will need this later on when we create an endpoint that accepts an arbitrary review. For now, we will just take note of the fact that it resides in the data directory (and so also in the S3 training bucket) and that we will need to make sure it gets saved in the model directory."
   ]
  },
  {
   "cell_type": "markdown",
   "metadata": {},
   "source": [
    "## Step 4: Build and Train the PyTorch Model\n",
    "\n",
    "In the XGBoost notebook we discussed what a model is in the SageMaker framework. In particular, a model comprises three objects\n",
    "\n",
    " - Model Artifacts,\n",
    " - Training Code, and\n",
    " - Inference Code,\n",
    " \n",
    "each of which interact with one another. In the XGBoost example we used training and inference code that was provided by Amazon. Here we will still be using containers provided by Amazon with the added benefit of being able to include our own custom code.\n",
    "\n",
    "We will start by implementing our own neural network in PyTorch along with a training script. For the purposes of this project we have provided the necessary model object in the `model.py` file, inside of the `train` folder. You can see the provided implementation by running the cell below."
   ]
  },
  {
   "cell_type": "code",
   "execution_count": 127,
   "metadata": {},
   "outputs": [
    {
     "name": "stdout",
     "output_type": "stream",
     "text": [
      "\u001b[34mimport\u001b[39;49;00m \u001b[04m\u001b[36mtorch\u001b[39;49;00m\u001b[04m\u001b[36m.\u001b[39;49;00m\u001b[04m\u001b[36mnn\u001b[39;49;00m \u001b[34mas\u001b[39;49;00m \u001b[04m\u001b[36mnn\u001b[39;49;00m\r\n",
      "\r\n",
      "\u001b[34mclass\u001b[39;49;00m \u001b[04m\u001b[32mLSTMClassifier\u001b[39;49;00m(nn.Module):\r\n",
      "    \u001b[33m\"\"\"\u001b[39;49;00m\r\n",
      "\u001b[33m    This is the simple RNN model we will be using to perform Sentiment Analysis.\u001b[39;49;00m\r\n",
      "\u001b[33m    \"\"\"\u001b[39;49;00m\r\n",
      "\r\n",
      "    \u001b[34mdef\u001b[39;49;00m \u001b[32m__init__\u001b[39;49;00m(\u001b[36mself\u001b[39;49;00m, embedding_dim, hidden_dim, vocab_size):\r\n",
      "        \u001b[33m\"\"\"\u001b[39;49;00m\r\n",
      "\u001b[33m        Initialize the model by settingg up the various layers.\u001b[39;49;00m\r\n",
      "\u001b[33m        \"\"\"\u001b[39;49;00m\r\n",
      "        \u001b[36msuper\u001b[39;49;00m(LSTMClassifier, \u001b[36mself\u001b[39;49;00m).\u001b[32m__init__\u001b[39;49;00m()\r\n",
      "\r\n",
      "        \u001b[36mself\u001b[39;49;00m.embedding = nn.Embedding(vocab_size, embedding_dim, padding_idx=\u001b[34m0\u001b[39;49;00m)\r\n",
      "        \u001b[36mself\u001b[39;49;00m.lstm = nn.LSTM(embedding_dim, hidden_dim)\r\n",
      "        \u001b[36mself\u001b[39;49;00m.dense = nn.Linear(in_features=hidden_dim, out_features=\u001b[34m1\u001b[39;49;00m)\r\n",
      "        \u001b[36mself\u001b[39;49;00m.sig = nn.Sigmoid()\r\n",
      "        \r\n",
      "        \u001b[36mself\u001b[39;49;00m.word_dict = \u001b[34mNone\u001b[39;49;00m\r\n",
      "\r\n",
      "    \u001b[34mdef\u001b[39;49;00m \u001b[32mforward\u001b[39;49;00m(\u001b[36mself\u001b[39;49;00m, x):\r\n",
      "        \u001b[33m\"\"\"\u001b[39;49;00m\r\n",
      "\u001b[33m        Perform a forward pass of our model on some input.\u001b[39;49;00m\r\n",
      "\u001b[33m        \"\"\"\u001b[39;49;00m\r\n",
      "        x = x.t()\r\n",
      "        lengths = x[\u001b[34m0\u001b[39;49;00m,:]\r\n",
      "        reviews = x[\u001b[34m1\u001b[39;49;00m:,:]\r\n",
      "        embeds = \u001b[36mself\u001b[39;49;00m.embedding(reviews)\r\n",
      "        lstm_out, _ = \u001b[36mself\u001b[39;49;00m.lstm(embeds)\r\n",
      "        out = \u001b[36mself\u001b[39;49;00m.dense(lstm_out)\r\n",
      "        out = out[lengths - \u001b[34m1\u001b[39;49;00m, \u001b[36mrange\u001b[39;49;00m(\u001b[36mlen\u001b[39;49;00m(lengths))]\r\n",
      "        \u001b[34mreturn\u001b[39;49;00m \u001b[36mself\u001b[39;49;00m.sig(out.squeeze())\r\n"
     ]
    }
   ],
   "source": [
    "!pygmentize train/model.py"
   ]
  },
  {
   "cell_type": "markdown",
   "metadata": {},
   "source": [
    "The important takeaway from the implementation provided is that there are three parameters that we may wish to tweak to improve the performance of our model. These are the embedding dimension, the hidden dimension and the size of the vocabulary. We will likely want to make these parameters configurable in the training script so that if we wish to modify them we do not need to modify the script itself. We will see how to do this later on. To start we will write some of the training code in the notebook so that we can more easily diagnose any issues that arise.\n",
    "\n",
    "First we will load a small portion of the training data set to use as a sample. It would be very time consuming to try and train the model completely in the notebook as we do not have access to a gpu and the compute instance that we are using is not particularly powerful. However, we can work on a small bit of the data to get a feel for how our training script is behaving."
   ]
  },
  {
   "cell_type": "code",
   "execution_count": 128,
   "metadata": {},
   "outputs": [],
   "source": [
    "import torch\n",
    "import torch.utils.data\n",
    "\n",
    "# Read in only the first 250 rows\n",
    "train_sample = pd.read_csv(os.path.join(data_dir, 'train.csv'), header=None, names=None, nrows=250)\n",
    "\n",
    "# Turn the input pandas dataframe into tensors\n",
    "train_sample_y = torch.from_numpy(train_sample[[0]].values).float().squeeze()\n",
    "train_sample_X = torch.from_numpy(train_sample.drop([0], axis=1).values).long()\n",
    "\n",
    "# Build the dataset\n",
    "train_sample_ds = torch.utils.data.TensorDataset(train_sample_X, train_sample_y)\n",
    "# Build the dataloader\n",
    "train_sample_dl = torch.utils.data.DataLoader(train_sample_ds, batch_size=50)"
   ]
  },
  {
   "cell_type": "markdown",
   "metadata": {},
   "source": [
    "### (TODO) Writing the training method\n",
    "\n",
    "Next we need to write the training code itself. This should be very similar to training methods that you have written before to train PyTorch models. We will leave any difficult aspects such as model saving / loading and parameter loading until a little later."
   ]
  },
  {
   "cell_type": "code",
   "execution_count": 129,
   "metadata": {},
   "outputs": [],
   "source": [
    "def train(model, train_loader, epochs, optimizer, loss_fn, device):\n",
    "    for epoch in range(1, epochs + 1):\n",
    "        model.train()\n",
    "        total_loss = 0\n",
    "        for batch in train_loader:         \n",
    "            batch_X, batch_y = batch\n",
    "            \n",
    "            batch_X = batch_X.to(device)\n",
    "            batch_y = batch_y.to(device)\n",
    "            \n",
    "            # TODO: Complete this train method to train the model provided.\n",
    "            optimizer.zero_grad()\n",
    "            out = model.forward(batch_X)\n",
    "            loss = loss_fn(out, batch_y)\n",
    "            loss.backward()\n",
    "            optimizer.step()\n",
    "            \n",
    "            total_loss += loss.data.item()\n",
    "        print(\"Epoch: {}, BCELoss: {}\".format(epoch, total_loss / len(train_loader)))"
   ]
  },
  {
   "cell_type": "markdown",
   "metadata": {},
   "source": [
    "Supposing we have the training method above, we will test that it is working by writing a bit of code in the notebook that executes our training method on the small sample training set that we loaded earlier. The reason for doing this in the notebook is so that we have an opportunity to fix any errors that arise early when they are easier to diagnose."
   ]
  },
  {
   "cell_type": "code",
   "execution_count": 130,
   "metadata": {},
   "outputs": [
    {
     "name": "stdout",
     "output_type": "stream",
     "text": [
      "Epoch: 1, BCELoss: 0.6931345582008361\n",
      "Epoch: 2, BCELoss: 0.6840554118156433\n",
      "Epoch: 3, BCELoss: 0.6760289907455445\n",
      "Epoch: 4, BCELoss: 0.6672915101051331\n",
      "Epoch: 5, BCELoss: 0.6569262862205505\n"
     ]
    }
   ],
   "source": [
    "import torch.optim as optim\n",
    "from train.model import LSTMClassifier\n",
    "\n",
    "device = torch.device(\"cuda\" if torch.cuda.is_available() else \"cpu\")\n",
    "model = LSTMClassifier(32, 100, 5000).to(device)\n",
    "optimizer = optim.Adam(model.parameters())\n",
    "loss_fn = torch.nn.BCELoss()\n",
    "\n",
    "train(model, train_sample_dl, 5, optimizer, loss_fn, device)"
   ]
  },
  {
   "cell_type": "markdown",
   "metadata": {},
   "source": [
    "In order to construct a PyTorch model using SageMaker we must provide SageMaker with a training script. We may optionally include a directory which will be copied to the container and from which our training code will be run. When the training container is executed it will check the uploaded directory (if there is one) for a `requirements.txt` file and install any required Python libraries, after which the training script will be run."
   ]
  },
  {
   "cell_type": "markdown",
   "metadata": {},
   "source": [
    "### (TODO) Training the model\n",
    "\n",
    "When a PyTorch model is constructed in SageMaker, an entry point must be specified. This is the Python file which will be executed when the model is trained. Inside of the `train` directory is a file called `train.py` which has been provided and which contains most of the necessary code to train our model. The only thing that is missing is the implementation of the `train()` method which you wrote earlier in this notebook.\n",
    "\n",
    "**TODO**: Copy the `train()` method written above and paste it into the `train/train.py` file where required.\n",
    "\n",
    "The way that SageMaker passes hyperparameters to the training script is by way of arguments. These arguments can then be parsed and used in the training script. To see how this is done take a look at the provided `train/train.py` file."
   ]
  },
  {
   "cell_type": "code",
   "execution_count": 131,
   "metadata": {},
   "outputs": [],
   "source": [
    "from sagemaker.pytorch import PyTorch\n",
    "\n",
    "estimator = PyTorch(entry_point=\"train.py\",\n",
    "                    source_dir=\"train\",\n",
    "                    role=role,\n",
    "                    framework_version='0.4.0',\n",
    "                    train_instance_count=1,\n",
    "                    train_instance_type='ml.p2.xlarge',\n",
    "                    hyperparameters={\n",
    "                        'epochs': 10,\n",
    "                        'hidden_dim': 200,\n",
    "                    })"
   ]
  },
  {
   "cell_type": "code",
   "execution_count": 132,
   "metadata": {},
   "outputs": [
    {
     "name": "stderr",
     "output_type": "stream",
     "text": [
      "'create_image_uri' will be deprecated in favor of 'ImageURIProvider' class in SageMaker Python SDK v2.\n",
      "'s3_input' class will be renamed to 'TrainingInput' in SageMaker Python SDK v2.\n",
      "'create_image_uri' will be deprecated in favor of 'ImageURIProvider' class in SageMaker Python SDK v2.\n"
     ]
    },
    {
     "name": "stdout",
     "output_type": "stream",
     "text": [
      "2020-09-14 06:27:14 Starting - Starting the training job...\n",
      "2020-09-14 06:27:16 Starting - Launching requested ML instances......\n",
      "2020-09-14 06:28:37 Starting - Preparing the instances for training.........\n",
      "2020-09-14 06:30:01 Downloading - Downloading input data...\n",
      "2020-09-14 06:30:36 Training - Downloading the training image...\n",
      "2020-09-14 06:31:06 Training - Training image download completed. Training in progress.\u001b[34mbash: cannot set terminal process group (-1): Inappropriate ioctl for device\u001b[0m\n",
      "\u001b[34mbash: no job control in this shell\u001b[0m\n",
      "\u001b[34m2020-09-14 06:31:07,180 sagemaker-containers INFO     Imported framework sagemaker_pytorch_container.training\u001b[0m\n",
      "\u001b[34m2020-09-14 06:31:07,207 sagemaker_pytorch_container.training INFO     Block until all host DNS lookups succeed.\u001b[0m\n",
      "\u001b[34m2020-09-14 06:31:10,228 sagemaker_pytorch_container.training INFO     Invoking user training script.\u001b[0m\n",
      "\u001b[34m2020-09-14 06:31:10,475 sagemaker-containers INFO     Module train does not provide a setup.py. \u001b[0m\n",
      "\u001b[34mGenerating setup.py\u001b[0m\n",
      "\u001b[34m2020-09-14 06:31:10,476 sagemaker-containers INFO     Generating setup.cfg\u001b[0m\n",
      "\u001b[34m2020-09-14 06:31:10,476 sagemaker-containers INFO     Generating MANIFEST.in\u001b[0m\n",
      "\u001b[34m2020-09-14 06:31:10,476 sagemaker-containers INFO     Installing module with the following command:\u001b[0m\n",
      "\u001b[34m/usr/bin/python -m pip install -U . -r requirements.txt\u001b[0m\n",
      "\u001b[34mProcessing /opt/ml/code\u001b[0m\n",
      "\u001b[34mCollecting pandas (from -r requirements.txt (line 1))\n",
      "  Downloading https://files.pythonhosted.org/packages/74/24/0cdbf8907e1e3bc5a8da03345c23cbed7044330bb8f73bb12e711a640a00/pandas-0.24.2-cp35-cp35m-manylinux1_x86_64.whl (10.0MB)\u001b[0m\n",
      "\u001b[34mCollecting numpy (from -r requirements.txt (line 2))\n",
      "  Downloading https://files.pythonhosted.org/packages/b5/36/88723426b4ff576809fec7d73594fe17a35c27f8d01f93637637a29ae25b/numpy-1.18.5-cp35-cp35m-manylinux1_x86_64.whl (19.9MB)\u001b[0m\n",
      "\u001b[34mCollecting nltk (from -r requirements.txt (line 3))\n",
      "  Downloading https://files.pythonhosted.org/packages/92/75/ce35194d8e3022203cca0d2f896dbb88689f9b3fce8e9f9cff942913519d/nltk-3.5.zip (1.4MB)\u001b[0m\n",
      "\u001b[34mCollecting beautifulsoup4 (from -r requirements.txt (line 4))\n",
      "  Downloading https://files.pythonhosted.org/packages/66/25/ff030e2437265616a1e9b25ccc864e0371a0bc3adb7c5a404fd661c6f4f6/beautifulsoup4-4.9.1-py3-none-any.whl (115kB)\u001b[0m\n",
      "\u001b[34mCollecting html5lib (from -r requirements.txt (line 5))\n",
      "  Downloading https://files.pythonhosted.org/packages/6c/dd/a834df6482147d48e225a49515aabc28974ad5a4ca3215c18a882565b028/html5lib-1.1-py2.py3-none-any.whl (112kB)\u001b[0m\n",
      "\u001b[34mRequirement already satisfied, skipping upgrade: python-dateutil>=2.5.0 in /usr/local/lib/python3.5/dist-packages (from pandas->-r requirements.txt (line 1)) (2.7.5)\u001b[0m\n",
      "\u001b[34mCollecting pytz>=2011k (from pandas->-r requirements.txt (line 1))\n",
      "  Downloading https://files.pythonhosted.org/packages/4f/a4/879454d49688e2fad93e59d7d4efda580b783c745fd2ec2a3adf87b0808d/pytz-2020.1-py2.py3-none-any.whl (510kB)\u001b[0m\n",
      "\u001b[34mRequirement already satisfied, skipping upgrade: click in /usr/local/lib/python3.5/dist-packages (from nltk->-r requirements.txt (line 3)) (7.0)\u001b[0m\n",
      "\u001b[34mCollecting joblib (from nltk->-r requirements.txt (line 3))\n",
      "  Downloading https://files.pythonhosted.org/packages/28/5c/cf6a2b65a321c4a209efcdf64c2689efae2cb62661f8f6f4bb28547cf1bf/joblib-0.14.1-py2.py3-none-any.whl (294kB)\u001b[0m\n",
      "\u001b[34mCollecting regex (from nltk->-r requirements.txt (line 3))\u001b[0m\n",
      "\u001b[34m  Downloading https://files.pythonhosted.org/packages/09/c3/ddaa87500f31ed86290e3d014c0302a51fde28d7139eda0b5f33733726db/regex-2020.7.14.tar.gz (690kB)\u001b[0m\n",
      "\u001b[34mCollecting tqdm (from nltk->-r requirements.txt (line 3))\n",
      "  Downloading https://files.pythonhosted.org/packages/73/d5/f220e0c69b2f346b5649b66abebb391df1a00a59997a7ccf823325bd7a3e/tqdm-4.49.0-py2.py3-none-any.whl (69kB)\u001b[0m\n",
      "\u001b[34mCollecting soupsieve>1.2 (from beautifulsoup4->-r requirements.txt (line 4))\n",
      "  Downloading https://files.pythonhosted.org/packages/6f/8f/457f4a5390eeae1cc3aeab89deb7724c965be841ffca6cfca9197482e470/soupsieve-2.0.1-py3-none-any.whl\u001b[0m\n",
      "\u001b[34mRequirement already satisfied, skipping upgrade: six>=1.9 in /usr/local/lib/python3.5/dist-packages (from html5lib->-r requirements.txt (line 5)) (1.11.0)\u001b[0m\n",
      "\u001b[34mCollecting webencodings (from html5lib->-r requirements.txt (line 5))\n",
      "  Downloading https://files.pythonhosted.org/packages/f4/24/2a3e3df732393fed8b3ebf2ec078f05546de641fe1b667ee316ec1dcf3b7/webencodings-0.5.1-py2.py3-none-any.whl\u001b[0m\n",
      "\u001b[34mBuilding wheels for collected packages: nltk, train, regex\n",
      "  Running setup.py bdist_wheel for nltk: started\u001b[0m\n",
      "\u001b[34m  Running setup.py bdist_wheel for nltk: finished with status 'done'\n",
      "  Stored in directory: /root/.cache/pip/wheels/ae/8c/3f/b1fe0ba04555b08b57ab52ab7f86023639a526d8bc8d384306\n",
      "  Running setup.py bdist_wheel for train: started\n",
      "  Running setup.py bdist_wheel for train: finished with status 'done'\n",
      "  Stored in directory: /tmp/pip-ephem-wheel-cache-h7jhftd3/wheels/35/24/16/37574d11bf9bde50616c67372a334f94fa8356bc7164af8ca3\n",
      "  Running setup.py bdist_wheel for regex: started\u001b[0m\n",
      "\u001b[34m  Running setup.py bdist_wheel for regex: finished with status 'done'\n",
      "  Stored in directory: /root/.cache/pip/wheels/53/55/dc/e17fa4568958f4c53be34b65e474a1327b64641f65df379ec3\u001b[0m\n",
      "\u001b[34mSuccessfully built nltk train regex\u001b[0m\n",
      "\u001b[34mInstalling collected packages: numpy, pytz, pandas, joblib, regex, tqdm, nltk, soupsieve, beautifulsoup4, webencodings, html5lib, train\n",
      "  Found existing installation: numpy 1.15.4\n",
      "    Uninstalling numpy-1.15.4:\u001b[0m\n",
      "\u001b[34m      Successfully uninstalled numpy-1.15.4\u001b[0m\n",
      "\u001b[34mSuccessfully installed beautifulsoup4-4.9.1 html5lib-1.1 joblib-0.14.1 nltk-3.5 numpy-1.18.5 pandas-0.24.2 pytz-2020.1 regex-2020.7.14 soupsieve-2.0.1 tqdm-4.49.0 train-1.0.0 webencodings-0.5.1\u001b[0m\n",
      "\u001b[34mYou are using pip version 18.1, however version 20.2.3 is available.\u001b[0m\n",
      "\u001b[34mYou should consider upgrading via the 'pip install --upgrade pip' command.\u001b[0m\n",
      "\u001b[34m2020-09-14 06:31:32,774 sagemaker-containers INFO     Invoking user script\n",
      "\u001b[0m\n",
      "\u001b[34mTraining Env:\n",
      "\u001b[0m\n",
      "\u001b[34m{\n",
      "    \"framework_module\": \"sagemaker_pytorch_container.training:main\",\n",
      "    \"module_dir\": \"s3://sagemaker-ap-south-1-973993666826/sagemaker-pytorch-2020-09-14-06-27-13-663/source/sourcedir.tar.gz\",\n",
      "    \"network_interface_name\": \"eth0\",\n",
      "    \"output_data_dir\": \"/opt/ml/output/data\",\n",
      "    \"num_gpus\": 1,\n",
      "    \"additional_framework_parameters\": {},\n",
      "    \"output_intermediate_dir\": \"/opt/ml/output/intermediate\",\n",
      "    \"channel_input_dirs\": {\n",
      "        \"training\": \"/opt/ml/input/data/training\"\n",
      "    },\n",
      "    \"hosts\": [\n",
      "        \"algo-1\"\n",
      "    ],\n",
      "    \"model_dir\": \"/opt/ml/model\",\n",
      "    \"input_data_config\": {\n",
      "        \"training\": {\n",
      "            \"RecordWrapperType\": \"None\",\n",
      "            \"TrainingInputMode\": \"File\",\n",
      "            \"S3DistributionType\": \"FullyReplicated\"\n",
      "        }\n",
      "    },\n",
      "    \"log_level\": 20,\n",
      "    \"job_name\": \"sagemaker-pytorch-2020-09-14-06-27-13-663\",\n",
      "    \"num_cpus\": 4,\n",
      "    \"module_name\": \"train\",\n",
      "    \"output_dir\": \"/opt/ml/output\",\n",
      "    \"input_dir\": \"/opt/ml/input\",\n",
      "    \"current_host\": \"algo-1\",\n",
      "    \"user_entry_point\": \"train.py\",\n",
      "    \"input_config_dir\": \"/opt/ml/input/config\",\n",
      "    \"resource_config\": {\n",
      "        \"hosts\": [\n",
      "            \"algo-1\"\n",
      "        ],\n",
      "        \"network_interface_name\": \"eth0\",\n",
      "        \"current_host\": \"algo-1\"\n",
      "    },\n",
      "    \"hyperparameters\": {\n",
      "        \"hidden_dim\": 200,\n",
      "        \"epochs\": 10\n",
      "    }\u001b[0m\n",
      "\u001b[34m}\n",
      "\u001b[0m\n",
      "\u001b[34mEnvironment variables:\n",
      "\u001b[0m\n",
      "\u001b[34mSM_FRAMEWORK_MODULE=sagemaker_pytorch_container.training:main\u001b[0m\n",
      "\u001b[34mSM_CHANNEL_TRAINING=/opt/ml/input/data/training\u001b[0m\n",
      "\u001b[34mSM_HP_HIDDEN_DIM=200\u001b[0m\n",
      "\u001b[34mSM_HPS={\"epochs\":10,\"hidden_dim\":200}\u001b[0m\n",
      "\u001b[34mSM_NETWORK_INTERFACE_NAME=eth0\u001b[0m\n",
      "\u001b[34mSM_INPUT_DIR=/opt/ml/input\u001b[0m\n",
      "\u001b[34mSM_MODULE_DIR=s3://sagemaker-ap-south-1-973993666826/sagemaker-pytorch-2020-09-14-06-27-13-663/source/sourcedir.tar.gz\u001b[0m\n",
      "\u001b[34mPYTHONPATH=/usr/local/bin:/usr/lib/python35.zip:/usr/lib/python3.5:/usr/lib/python3.5/plat-x86_64-linux-gnu:/usr/lib/python3.5/lib-dynload:/usr/local/lib/python3.5/dist-packages:/usr/lib/python3/dist-packages\u001b[0m\n",
      "\u001b[34mSM_OUTPUT_INTERMEDIATE_DIR=/opt/ml/output/intermediate\u001b[0m\n",
      "\u001b[34mSM_FRAMEWORK_PARAMS={}\u001b[0m\n",
      "\u001b[34mSM_USER_ENTRY_POINT=train.py\u001b[0m\n",
      "\u001b[34mSM_LOG_LEVEL=20\u001b[0m\n",
      "\u001b[34mSM_MODEL_DIR=/opt/ml/model\u001b[0m\n",
      "\u001b[34mSM_TRAINING_ENV={\"additional_framework_parameters\":{},\"channel_input_dirs\":{\"training\":\"/opt/ml/input/data/training\"},\"current_host\":\"algo-1\",\"framework_module\":\"sagemaker_pytorch_container.training:main\",\"hosts\":[\"algo-1\"],\"hyperparameters\":{\"epochs\":10,\"hidden_dim\":200},\"input_config_dir\":\"/opt/ml/input/config\",\"input_data_config\":{\"training\":{\"RecordWrapperType\":\"None\",\"S3DistributionType\":\"FullyReplicated\",\"TrainingInputMode\":\"File\"}},\"input_dir\":\"/opt/ml/input\",\"job_name\":\"sagemaker-pytorch-2020-09-14-06-27-13-663\",\"log_level\":20,\"model_dir\":\"/opt/ml/model\",\"module_dir\":\"s3://sagemaker-ap-south-1-973993666826/sagemaker-pytorch-2020-09-14-06-27-13-663/source/sourcedir.tar.gz\",\"module_name\":\"train\",\"network_interface_name\":\"eth0\",\"num_cpus\":4,\"num_gpus\":1,\"output_data_dir\":\"/opt/ml/output/data\",\"output_dir\":\"/opt/ml/output\",\"output_intermediate_dir\":\"/opt/ml/output/intermediate\",\"resource_config\":{\"current_host\":\"algo-1\",\"hosts\":[\"algo-1\"],\"network_interface_name\":\"eth0\"},\"user_entry_point\":\"train.py\"}\u001b[0m\n",
      "\u001b[34mSM_MODULE_NAME=train\u001b[0m\n",
      "\u001b[34mSM_RESOURCE_CONFIG={\"current_host\":\"algo-1\",\"hosts\":[\"algo-1\"],\"network_interface_name\":\"eth0\"}\u001b[0m\n",
      "\u001b[34mSM_OUTPUT_DATA_DIR=/opt/ml/output/data\u001b[0m\n",
      "\u001b[34mSM_INPUT_CONFIG_DIR=/opt/ml/input/config\u001b[0m\n",
      "\u001b[34mSM_HOSTS=[\"algo-1\"]\u001b[0m\n",
      "\u001b[34mSM_HP_EPOCHS=10\u001b[0m\n",
      "\u001b[34mSM_CURRENT_HOST=algo-1\u001b[0m\n",
      "\u001b[34mSM_INPUT_DATA_CONFIG={\"training\":{\"RecordWrapperType\":\"None\",\"S3DistributionType\":\"FullyReplicated\",\"TrainingInputMode\":\"File\"}}\u001b[0m\n",
      "\u001b[34mSM_NUM_GPUS=1\u001b[0m\n",
      "\u001b[34mSM_USER_ARGS=[\"--epochs\",\"10\",\"--hidden_dim\",\"200\"]\u001b[0m\n",
      "\u001b[34mSM_OUTPUT_DIR=/opt/ml/output\u001b[0m\n",
      "\u001b[34mSM_CHANNELS=[\"training\"]\u001b[0m\n",
      "\u001b[34mSM_NUM_CPUS=4\n",
      "\u001b[0m\n",
      "\u001b[34mInvoking script with the following command:\n",
      "\u001b[0m\n",
      "\u001b[34m/usr/bin/python -m train --epochs 10 --hidden_dim 200\n",
      "\n",
      "\u001b[0m\n",
      "\u001b[34mUsing device cuda.\u001b[0m\n",
      "\u001b[34mGet train data loader.\u001b[0m\n",
      "\u001b[34mModel loaded with embedding_dim 32, hidden_dim 200, vocab_size 5000.\u001b[0m\n",
      "\u001b[34mEpoch: 1, BCELoss: 0.6728071789352261\u001b[0m\n",
      "\u001b[34mEpoch: 2, BCELoss: 0.602261306071768\u001b[0m\n",
      "\u001b[34mEpoch: 3, BCELoss: 0.5123678597868705\u001b[0m\n",
      "\u001b[34mEpoch: 4, BCELoss: 0.4555841392400313\u001b[0m\n",
      "\u001b[34mEpoch: 5, BCELoss: 0.41150721360226067\u001b[0m\n",
      "\u001b[34mEpoch: 6, BCELoss: 0.35924764129580283\u001b[0m\n",
      "\u001b[34mEpoch: 7, BCELoss: 0.3373222022640462\u001b[0m\n",
      "\u001b[34mEpoch: 8, BCELoss: 0.3417565968571877\u001b[0m\n",
      "\u001b[34mEpoch: 9, BCELoss: 0.30623649243189366\u001b[0m\n",
      "\n",
      "2020-09-14 06:34:45 Uploading - Uploading generated training model\n",
      "2020-09-14 06:34:45 Completed - Training job completed\n",
      "\u001b[34mEpoch: 10, BCELoss: 0.28858698296303653\u001b[0m\n",
      "\u001b[34m2020-09-14 06:34:34,413 sagemaker-containers INFO     Reporting training SUCCESS\u001b[0m\n",
      "Training seconds: 284\n",
      "Billable seconds: 284\n"
     ]
    }
   ],
   "source": [
    "estimator.fit({'training': input_data})"
   ]
  },
  {
   "cell_type": "markdown",
   "metadata": {},
   "source": [
    "## Step 5: Testing the model\n",
    "\n",
    "As mentioned at the top of this notebook, we will be testing this model by first deploying it and then sending the testing data to the deployed endpoint. We will do this so that we can make sure that the deployed model is working correctly.\n",
    "\n",
    "## Step 6: Deploy the model for testing\n",
    "\n",
    "Now that we have trained our model, we would like to test it to see how it performs. Currently our model takes input of the form `review_length, review[500]` where `review[500]` is a sequence of `500` integers which describe the words present in the review, encoded using `word_dict`. Fortunately for us, SageMaker provides built-in inference code for models with simple inputs such as this.\n",
    "\n",
    "There is one thing that we need to provide, however, and that is a function which loads the saved model. This function must be called `model_fn()` and takes as its only parameter a path to the directory where the model artifacts are stored. This function must also be present in the python file which we specified as the entry point. In our case the model loading function has been provided and so no changes need to be made.\n",
    "\n",
    "**NOTE**: When the built-in inference code is run it must import the `model_fn()` method from the `train.py` file. This is why the training code is wrapped in a main guard ( ie, `if __name__ == '__main__':` )\n",
    "\n",
    "Since we don't need to change anything in the code that was uploaded during training, we can simply deploy the current model as-is.\n",
    "\n",
    "**NOTE:** When deploying a model you are asking SageMaker to launch an compute instance that will wait for data to be sent to it. As a result, this compute instance will continue to run until *you* shut it down. This is important to know since the cost of a deployed endpoint depends on how long it has been running for.\n",
    "\n",
    "In other words **If you are no longer using a deployed endpoint, shut it down!**\n",
    "\n",
    "**TODO:** Deploy the trained model."
   ]
  },
  {
   "cell_type": "code",
   "execution_count": 133,
   "metadata": {},
   "outputs": [
    {
     "name": "stderr",
     "output_type": "stream",
     "text": [
      "Parameter image will be renamed to image_uri in SageMaker Python SDK v2.\n",
      "'create_image_uri' will be deprecated in favor of 'ImageURIProvider' class in SageMaker Python SDK v2.\n"
     ]
    },
    {
     "name": "stdout",
     "output_type": "stream",
     "text": [
      "-------------!"
     ]
    }
   ],
   "source": [
    "# TODO: Deploy the trained model\n",
    "predictor = estimator.deploy(initial_instance_count=1, instance_type='ml.m4.xlarge')\n"
   ]
  },
  {
   "cell_type": "markdown",
   "metadata": {},
   "source": [
    "## Step 7 - Use the model for testing\n",
    "\n",
    "Once deployed, we can read in the test data and send it off to our deployed model to get some results. Once we collect all of the results we can determine how accurate our model is."
   ]
  },
  {
   "cell_type": "code",
   "execution_count": 134,
   "metadata": {},
   "outputs": [],
   "source": [
    "test_X = pd.concat([pd.DataFrame(test_X_len), pd.DataFrame(test_X)], axis=1)"
   ]
  },
  {
   "cell_type": "code",
   "execution_count": 135,
   "metadata": {},
   "outputs": [],
   "source": [
    "# We split the data into chunks and send each chunk seperately, accumulating the results.\n",
    "\n",
    "def predict(data, rows=512):\n",
    "    split_array = np.array_split(data, int(data.shape[0] / float(rows) + 1))\n",
    "    predictions = np.array([])\n",
    "    for array in split_array:\n",
    "        predictions = np.append(predictions, predictor.predict(array))\n",
    "    \n",
    "    return predictions"
   ]
  },
  {
   "cell_type": "code",
   "execution_count": 136,
   "metadata": {},
   "outputs": [],
   "source": [
    "predictions = predict(test_X.values)\n",
    "predictions = [round(num) for num in predictions]"
   ]
  },
  {
   "cell_type": "code",
   "execution_count": 137,
   "metadata": {},
   "outputs": [
    {
     "data": {
      "text/plain": [
       "0.84548"
      ]
     },
     "execution_count": 137,
     "metadata": {},
     "output_type": "execute_result"
    }
   ],
   "source": [
    "from sklearn.metrics import accuracy_score\n",
    "accuracy_score(test_y, predictions)"
   ]
  },
  {
   "cell_type": "markdown",
   "metadata": {},
   "source": [
    "**Question:** How does this model compare to the XGBoost model you created earlier? Why might these two models perform differently on this dataset? Which do *you* think is better for sentiment analysis?"
   ]
  },
  {
   "cell_type": "markdown",
   "metadata": {},
   "source": [
    "**Answer:** The XGB model gave 0.86 which is more than this model but not by much so they're working similarly but their is a slight advange of using XGBoost."
   ]
  },
  {
   "cell_type": "markdown",
   "metadata": {},
   "source": [
    "### (TODO) More testing\n",
    "\n",
    "We now have a trained model which has been deployed and which we can send processed reviews to and which returns the predicted sentiment. However, ultimately we would like to be able to send our model an unprocessed review. That is, we would like to send the review itself as a string. For example, suppose we wish to send the following review to our model."
   ]
  },
  {
   "cell_type": "code",
   "execution_count": 138,
   "metadata": {},
   "outputs": [],
   "source": [
    "test_review = 'The simplest pleasures in life are the best, and this film is one of them. Combining a rather basic storyline of love and adventure this movie transcends the usual weekend fair with wit and unmitigated charm.'"
   ]
  },
  {
   "cell_type": "markdown",
   "metadata": {},
   "source": [
    "The question we now need to answer is, how do we send this review to our model?\n",
    "\n",
    "Recall in the first section of this notebook we did a bunch of data processing to the IMDb dataset. In particular, we did two specific things to the provided reviews.\n",
    " - Removed any html tags and stemmed the input\n",
    " - Encoded the review as a sequence of integers using `word_dict`\n",
    " \n",
    "In order process the review we will need to repeat these two steps.\n",
    "\n",
    "**TODO**: Using the `review_to_words` and `convert_and_pad` methods from section one, convert `test_review` into a numpy array `test_data` suitable to send to our model. Remember that our model expects input of the form `review_length, review[500]`."
   ]
  },
  {
   "cell_type": "code",
   "execution_count": 139,
   "metadata": {},
   "outputs": [],
   "source": [
    "# TODO: Convert test_review into a form usable by the model and save the results in test_data\n",
    "test_data, leng = convert_and_pad(word_dict, review_to_words(test_review))\n",
    "len_test_data = np.array([np.array([leng] + test_data)]) "
   ]
  },
  {
   "cell_type": "markdown",
   "metadata": {},
   "source": [
    "Now that we have processed the review, we can send the resulting array to our model to predict the sentiment of the review."
   ]
  },
  {
   "cell_type": "code",
   "execution_count": 140,
   "metadata": {},
   "outputs": [
    {
     "data": {
      "text/plain": [
       "array(0.5856313, dtype=float32)"
      ]
     },
     "execution_count": 140,
     "metadata": {},
     "output_type": "execute_result"
    }
   ],
   "source": [
    "predictor.predict([len_test_data])"
   ]
  },
  {
   "cell_type": "markdown",
   "metadata": {},
   "source": [
    "Since the return value of our model is close to `1`, we can be certain that the review we submitted is positive."
   ]
  },
  {
   "cell_type": "markdown",
   "metadata": {},
   "source": [
    "### Delete the endpoint\n",
    "\n",
    "Of course, just like in the XGBoost notebook, once we've deployed an endpoint it continues to run until we tell it to shut down. Since we are done using our endpoint for now, we can delete it."
   ]
  },
  {
   "cell_type": "code",
   "execution_count": 141,
   "metadata": {},
   "outputs": [
    {
     "name": "stderr",
     "output_type": "stream",
     "text": [
      "estimator.delete_endpoint() will be deprecated in SageMaker Python SDK v2. Please use the delete_endpoint() function on your predictor instead.\n"
     ]
    }
   ],
   "source": [
    "estimator.delete_endpoint()"
   ]
  },
  {
   "cell_type": "markdown",
   "metadata": {},
   "source": [
    "## Step 6 (again) - Deploy the model for the web app\n",
    "\n",
    "Now that we know that our model is working, it's time to create some custom inference code so that we can send the model a review which has not been processed and have it determine the sentiment of the review.\n",
    "\n",
    "As we saw above, by default the estimator which we created, when deployed, will use the entry script and directory which we provided when creating the model. However, since we now wish to accept a string as input and our model expects a processed review, we need to write some custom inference code.\n",
    "\n",
    "We will store the code that we write in the `serve` directory. Provided in this directory is the `model.py` file that we used to construct our model, a `utils.py` file which contains the `review_to_words` and `convert_and_pad` pre-processing functions which we used during the initial data processing, and `predict.py`, the file which will contain our custom inference code. Note also that `requirements.txt` is present which will tell SageMaker what Python libraries are required by our custom inference code.\n",
    "\n",
    "When deploying a PyTorch model in SageMaker, you are expected to provide four functions which the SageMaker inference container will use.\n",
    " - `model_fn`: This function is the same function that we used in the training script and it tells SageMaker how to load our model.\n",
    " - `input_fn`: This function receives the raw serialized input that has been sent to the model's endpoint and its job is to de-serialize and make the input available for the inference code.\n",
    " - `output_fn`: This function takes the output of the inference code and its job is to serialize this output and return it to the caller of the model's endpoint.\n",
    " - `predict_fn`: The heart of the inference script, this is where the actual prediction is done and is the function which you will need to complete.\n",
    "\n",
    "For the simple website that we are constructing during this project, the `input_fn` and `output_fn` methods are relatively straightforward. We only require being able to accept a string as input and we expect to return a single value as output. You might imagine though that in a more complex application the input or output may be image data or some other binary data which would require some effort to serialize.\n",
    "\n",
    "### (TODO) Writing inference code\n",
    "\n",
    "Before writing our custom inference code, we will begin by taking a look at the code which has been provided."
   ]
  },
  {
   "cell_type": "code",
   "execution_count": 142,
   "metadata": {},
   "outputs": [
    {
     "name": "stdout",
     "output_type": "stream",
     "text": [
      "\u001b[34mimport\u001b[39;49;00m \u001b[04m\u001b[36margparse\u001b[39;49;00m\r\n",
      "\u001b[34mimport\u001b[39;49;00m \u001b[04m\u001b[36mjson\u001b[39;49;00m\r\n",
      "\u001b[34mimport\u001b[39;49;00m \u001b[04m\u001b[36mos\u001b[39;49;00m\r\n",
      "\u001b[34mimport\u001b[39;49;00m \u001b[04m\u001b[36mpickle\u001b[39;49;00m\r\n",
      "\u001b[34mimport\u001b[39;49;00m \u001b[04m\u001b[36msys\u001b[39;49;00m\r\n",
      "\u001b[34mimport\u001b[39;49;00m \u001b[04m\u001b[36msagemaker_containers\u001b[39;49;00m\r\n",
      "\u001b[34mimport\u001b[39;49;00m \u001b[04m\u001b[36mpandas\u001b[39;49;00m \u001b[34mas\u001b[39;49;00m \u001b[04m\u001b[36mpd\u001b[39;49;00m\r\n",
      "\u001b[34mimport\u001b[39;49;00m \u001b[04m\u001b[36mnumpy\u001b[39;49;00m \u001b[34mas\u001b[39;49;00m \u001b[04m\u001b[36mnp\u001b[39;49;00m\r\n",
      "\u001b[34mimport\u001b[39;49;00m \u001b[04m\u001b[36mtorch\u001b[39;49;00m\r\n",
      "\u001b[34mimport\u001b[39;49;00m \u001b[04m\u001b[36mtorch\u001b[39;49;00m\u001b[04m\u001b[36m.\u001b[39;49;00m\u001b[04m\u001b[36mnn\u001b[39;49;00m \u001b[34mas\u001b[39;49;00m \u001b[04m\u001b[36mnn\u001b[39;49;00m\r\n",
      "\u001b[34mimport\u001b[39;49;00m \u001b[04m\u001b[36mtorch\u001b[39;49;00m\u001b[04m\u001b[36m.\u001b[39;49;00m\u001b[04m\u001b[36moptim\u001b[39;49;00m \u001b[34mas\u001b[39;49;00m \u001b[04m\u001b[36moptim\u001b[39;49;00m\r\n",
      "\u001b[34mimport\u001b[39;49;00m \u001b[04m\u001b[36mtorch\u001b[39;49;00m\u001b[04m\u001b[36m.\u001b[39;49;00m\u001b[04m\u001b[36mutils\u001b[39;49;00m\u001b[04m\u001b[36m.\u001b[39;49;00m\u001b[04m\u001b[36mdata\u001b[39;49;00m\r\n",
      "\r\n",
      "\u001b[34mfrom\u001b[39;49;00m \u001b[04m\u001b[36mmodel\u001b[39;49;00m \u001b[34mimport\u001b[39;49;00m LSTMClassifier\r\n",
      "\r\n",
      "\u001b[34mfrom\u001b[39;49;00m \u001b[04m\u001b[36mutils\u001b[39;49;00m \u001b[34mimport\u001b[39;49;00m review_to_words, convert_and_pad\r\n",
      "\r\n",
      "\u001b[34mdef\u001b[39;49;00m \u001b[32mmodel_fn\u001b[39;49;00m(model_dir):\r\n",
      "    \u001b[33m\"\"\"Load the PyTorch model from the `model_dir` directory.\"\"\"\u001b[39;49;00m\r\n",
      "    \u001b[36mprint\u001b[39;49;00m(\u001b[33m\"\u001b[39;49;00m\u001b[33mLoading model.\u001b[39;49;00m\u001b[33m\"\u001b[39;49;00m)\r\n",
      "\r\n",
      "    \u001b[37m# First, load the parameters used to create the model.\u001b[39;49;00m\r\n",
      "    model_info = {}\r\n",
      "    model_info_path = os.path.join(model_dir, \u001b[33m'\u001b[39;49;00m\u001b[33mmodel_info.pth\u001b[39;49;00m\u001b[33m'\u001b[39;49;00m)\r\n",
      "    \u001b[34mwith\u001b[39;49;00m \u001b[36mopen\u001b[39;49;00m(model_info_path, \u001b[33m'\u001b[39;49;00m\u001b[33mrb\u001b[39;49;00m\u001b[33m'\u001b[39;49;00m) \u001b[34mas\u001b[39;49;00m f:\r\n",
      "        model_info = torch.load(f)\r\n",
      "\r\n",
      "    \u001b[36mprint\u001b[39;49;00m(\u001b[33m\"\u001b[39;49;00m\u001b[33mmodel_info: \u001b[39;49;00m\u001b[33m{}\u001b[39;49;00m\u001b[33m\"\u001b[39;49;00m.format(model_info))\r\n",
      "\r\n",
      "    \u001b[37m# Determine the device and construct the model.\u001b[39;49;00m\r\n",
      "    device = torch.device(\u001b[33m\"\u001b[39;49;00m\u001b[33mcuda\u001b[39;49;00m\u001b[33m\"\u001b[39;49;00m \u001b[34mif\u001b[39;49;00m torch.cuda.is_available() \u001b[34melse\u001b[39;49;00m \u001b[33m\"\u001b[39;49;00m\u001b[33mcpu\u001b[39;49;00m\u001b[33m\"\u001b[39;49;00m)\r\n",
      "    model = LSTMClassifier(model_info[\u001b[33m'\u001b[39;49;00m\u001b[33membedding_dim\u001b[39;49;00m\u001b[33m'\u001b[39;49;00m], model_info[\u001b[33m'\u001b[39;49;00m\u001b[33mhidden_dim\u001b[39;49;00m\u001b[33m'\u001b[39;49;00m], model_info[\u001b[33m'\u001b[39;49;00m\u001b[33mvocab_size\u001b[39;49;00m\u001b[33m'\u001b[39;49;00m])\r\n",
      "\r\n",
      "    \u001b[37m# Load the store model parameters.\u001b[39;49;00m\r\n",
      "    model_path = os.path.join(model_dir, \u001b[33m'\u001b[39;49;00m\u001b[33mmodel.pth\u001b[39;49;00m\u001b[33m'\u001b[39;49;00m)\r\n",
      "    \u001b[34mwith\u001b[39;49;00m \u001b[36mopen\u001b[39;49;00m(model_path, \u001b[33m'\u001b[39;49;00m\u001b[33mrb\u001b[39;49;00m\u001b[33m'\u001b[39;49;00m) \u001b[34mas\u001b[39;49;00m f:\r\n",
      "        model.load_state_dict(torch.load(f))\r\n",
      "\r\n",
      "    \u001b[37m# Load the saved word_dict.\u001b[39;49;00m\r\n",
      "    word_dict_path = os.path.join(model_dir, \u001b[33m'\u001b[39;49;00m\u001b[33mword_dict.pkl\u001b[39;49;00m\u001b[33m'\u001b[39;49;00m)\r\n",
      "    \u001b[34mwith\u001b[39;49;00m \u001b[36mopen\u001b[39;49;00m(word_dict_path, \u001b[33m'\u001b[39;49;00m\u001b[33mrb\u001b[39;49;00m\u001b[33m'\u001b[39;49;00m) \u001b[34mas\u001b[39;49;00m f:\r\n",
      "        model.word_dict = pickle.load(f)\r\n",
      "\r\n",
      "    model.to(device).eval()\r\n",
      "\r\n",
      "    \u001b[36mprint\u001b[39;49;00m(\u001b[33m\"\u001b[39;49;00m\u001b[33mDone loading model.\u001b[39;49;00m\u001b[33m\"\u001b[39;49;00m)\r\n",
      "    \u001b[34mreturn\u001b[39;49;00m model\r\n",
      "\r\n",
      "\u001b[34mdef\u001b[39;49;00m \u001b[32minput_fn\u001b[39;49;00m(serialized_input_data, content_type):\r\n",
      "    \u001b[36mprint\u001b[39;49;00m(\u001b[33m'\u001b[39;49;00m\u001b[33mDeserializing the input data.\u001b[39;49;00m\u001b[33m'\u001b[39;49;00m)\r\n",
      "    \u001b[34mif\u001b[39;49;00m content_type == \u001b[33m'\u001b[39;49;00m\u001b[33mtext/plain\u001b[39;49;00m\u001b[33m'\u001b[39;49;00m:\r\n",
      "        data = serialized_input_data.decode(\u001b[33m'\u001b[39;49;00m\u001b[33mutf-8\u001b[39;49;00m\u001b[33m'\u001b[39;49;00m)\r\n",
      "        \u001b[34mreturn\u001b[39;49;00m data\r\n",
      "    \u001b[34mraise\u001b[39;49;00m \u001b[36mException\u001b[39;49;00m(\u001b[33m'\u001b[39;49;00m\u001b[33mRequested unsupported ContentType in content_type: \u001b[39;49;00m\u001b[33m'\u001b[39;49;00m + content_type)\r\n",
      "\r\n",
      "\u001b[34mdef\u001b[39;49;00m \u001b[32moutput_fn\u001b[39;49;00m(prediction_output, accept):\r\n",
      "    \u001b[36mprint\u001b[39;49;00m(\u001b[33m'\u001b[39;49;00m\u001b[33mSerializing the generated output.\u001b[39;49;00m\u001b[33m'\u001b[39;49;00m)\r\n",
      "    \u001b[34mreturn\u001b[39;49;00m \u001b[36mstr\u001b[39;49;00m(prediction_output)\r\n",
      "\r\n",
      "\u001b[34mdef\u001b[39;49;00m \u001b[32mpredict_fn\u001b[39;49;00m(input_data, model):\r\n",
      "    \u001b[36mprint\u001b[39;49;00m(\u001b[33m'\u001b[39;49;00m\u001b[33mInferring sentiment of input data.\u001b[39;49;00m\u001b[33m'\u001b[39;49;00m)\r\n",
      "\r\n",
      "    device = torch.device(\u001b[33m\"\u001b[39;49;00m\u001b[33mcuda\u001b[39;49;00m\u001b[33m\"\u001b[39;49;00m \u001b[34mif\u001b[39;49;00m torch.cuda.is_available() \u001b[34melse\u001b[39;49;00m \u001b[33m\"\u001b[39;49;00m\u001b[33mcpu\u001b[39;49;00m\u001b[33m\"\u001b[39;49;00m)\r\n",
      "    \r\n",
      "    \u001b[34mif\u001b[39;49;00m model.word_dict \u001b[35mis\u001b[39;49;00m \u001b[34mNone\u001b[39;49;00m:\r\n",
      "        \u001b[34mraise\u001b[39;49;00m \u001b[36mException\u001b[39;49;00m(\u001b[33m'\u001b[39;49;00m\u001b[33mModel has not been loaded properly, no word_dict.\u001b[39;49;00m\u001b[33m'\u001b[39;49;00m)\r\n",
      "    \r\n",
      "    \u001b[37m# TODO: Process input_data so that it is ready to be sent to our model.\u001b[39;49;00m\r\n",
      "    \u001b[37m#       You should produce two variables:\u001b[39;49;00m\r\n",
      "    \u001b[37m#         data_X   - A sequence of length 500 which represents the converted review\u001b[39;49;00m\r\n",
      "    \u001b[37m#         data_len - The length of the review\u001b[39;49;00m\r\n",
      "\r\n",
      "    data_X = \u001b[34mNone\u001b[39;49;00m\r\n",
      "    data_len = \u001b[34mNone\u001b[39;49;00m\r\n",
      "    data_X, data_len = convert_and_pad(model.word_dict, review_to_words(input_data))\r\n",
      "    \u001b[37m# Using data_X and data_len we construct an appropriate input tensor. Remember\u001b[39;49;00m\r\n",
      "    \u001b[37m# that our model expects input data of the form 'len, review[500]'.\u001b[39;49;00m\r\n",
      "    data_pack = np.hstack((data_len, data_X))\r\n",
      "    data_pack = data_pack.reshape(\u001b[34m1\u001b[39;49;00m, -\u001b[34m1\u001b[39;49;00m)\r\n",
      "    \r\n",
      "    data = torch.from_numpy(data_pack)\r\n",
      "    data = data.to(device)\r\n",
      "\r\n",
      "    \u001b[37m# Make sure to put the model into evaluation mode\u001b[39;49;00m\r\n",
      "    model.eval()\r\n",
      "\r\n",
      "    \u001b[37m# TODO: Compute the result of applying the model to the input data. The variable `result` should\u001b[39;49;00m\r\n",
      "    \u001b[37m#       be a numpy array which contains a single integer which is either 1 or 0\u001b[39;49;00m\r\n",
      "    \u001b[34mwith\u001b[39;49;00m torch.no_grad():\r\n",
      "        output = model.forward(data)\r\n",
      "\r\n",
      "    result = np.round(output.numpy())\r\n",
      "\r\n",
      "    \u001b[34mreturn\u001b[39;49;00m result\r\n"
     ]
    }
   ],
   "source": [
    "!pygmentize serve/predict.py"
   ]
  },
  {
   "cell_type": "markdown",
   "metadata": {},
   "source": [
    "As mentioned earlier, the `model_fn` method is the same as the one provided in the training code and the `input_fn` and `output_fn` methods are very simple and your task will be to complete the `predict_fn` method. Make sure that you save the completed file as `predict.py` in the `serve` directory.\n",
    "\n",
    "**TODO**: Complete the `predict_fn()` method in the `serve/predict.py` file."
   ]
  },
  {
   "cell_type": "markdown",
   "metadata": {},
   "source": [
    "### Deploying the model\n",
    "\n",
    "Now that the custom inference code has been written, we will create and deploy our model. To begin with, we need to construct a new PyTorchModel object which points to the model artifacts created during training and also points to the inference code that we wish to use. Then we can call the deploy method to launch the deployment container.\n",
    "\n",
    "**NOTE**: The default behaviour for a deployed PyTorch model is to assume that any input passed to the predictor is a `numpy` array. In our case we want to send a string so we need to construct a simple wrapper around the `RealTimePredictor` class to accomodate simple strings. In a more complicated situation you may want to provide a serialization object, for example if you wanted to sent image data."
   ]
  },
  {
   "cell_type": "code",
   "execution_count": 143,
   "metadata": {},
   "outputs": [
    {
     "name": "stderr",
     "output_type": "stream",
     "text": [
      "Parameter image will be renamed to image_uri in SageMaker Python SDK v2.\n",
      "'create_image_uri' will be deprecated in favor of 'ImageURIProvider' class in SageMaker Python SDK v2.\n"
     ]
    },
    {
     "name": "stdout",
     "output_type": "stream",
     "text": [
      "---------------!"
     ]
    }
   ],
   "source": [
    "from sagemaker.predictor import RealTimePredictor\n",
    "from sagemaker.pytorch import PyTorchModel\n",
    "\n",
    "class StringPredictor(RealTimePredictor):\n",
    "    def __init__(self, endpoint_name, sagemaker_session):\n",
    "        super(StringPredictor, self).__init__(endpoint_name, sagemaker_session, content_type='text/plain')\n",
    "\n",
    "model = PyTorchModel(model_data=estimator.model_data,\n",
    "                     role = role,\n",
    "                     framework_version='0.4.0',\n",
    "                     entry_point='predict.py',\n",
    "                     source_dir='serve',\n",
    "                     predictor_cls=StringPredictor)\n",
    "predictor = model.deploy(initial_instance_count=1, instance_type='ml.m4.xlarge')"
   ]
  },
  {
   "cell_type": "markdown",
   "metadata": {},
   "source": [
    "### Testing the model\n",
    "\n",
    "Now that we have deployed our model with the custom inference code, we should test to see if everything is working. Here we test our model by loading the first `250` positive and negative reviews and send them to the endpoint, then collect the results. The reason for only sending some of the data is that the amount of time it takes for our model to process the input and then perform inference is quite long and so testing the entire data set would be prohibitive."
   ]
  },
  {
   "cell_type": "code",
   "execution_count": 144,
   "metadata": {},
   "outputs": [],
   "source": [
    "import glob\n",
    "\n",
    "def test_reviews(data_dir='../data/aclImdb', stop=250):\n",
    "    \n",
    "    results = []\n",
    "    ground = []\n",
    "    \n",
    "    # We make sure to test both positive and negative reviews    \n",
    "    for sentiment in ['pos', 'neg']:\n",
    "        \n",
    "        path = os.path.join(data_dir, 'test', sentiment, '*.txt')\n",
    "        files = glob.glob(path)\n",
    "        \n",
    "        files_read = 0\n",
    "        \n",
    "        print('Starting ', sentiment, ' files')\n",
    "        \n",
    "        # Iterate through the files and send them to the predictor\n",
    "        for f in files:\n",
    "            with open(f) as review:\n",
    "                # First, we store the ground truth (was the review positive or negative)\n",
    "                if sentiment == 'pos':\n",
    "                    ground.append(1)\n",
    "                else:\n",
    "                    ground.append(0)\n",
    "                # Read in the review and convert to 'utf-8' for transmission via HTTP\n",
    "                review_input = review.read().encode('utf-8')\n",
    "                # Send the review to the predictor and store the results\n",
    "                results.append(float(predictor.predict(review_input)))\n",
    "                \n",
    "            # Sending reviews to our endpoint one at a time takes a while so we\n",
    "            # only send a small number of reviews\n",
    "            files_read += 1\n",
    "            if files_read == stop:\n",
    "                break\n",
    "            \n",
    "    return ground, results"
   ]
  },
  {
   "cell_type": "code",
   "execution_count": 145,
   "metadata": {},
   "outputs": [
    {
     "name": "stdout",
     "output_type": "stream",
     "text": [
      "Starting  pos  files\n",
      "Starting  neg  files\n"
     ]
    }
   ],
   "source": [
    "ground, results = test_reviews()"
   ]
  },
  {
   "cell_type": "code",
   "execution_count": 146,
   "metadata": {},
   "outputs": [
    {
     "data": {
      "text/plain": [
       "0.89"
      ]
     },
     "execution_count": 146,
     "metadata": {},
     "output_type": "execute_result"
    }
   ],
   "source": [
    "from sklearn.metrics import accuracy_score\n",
    "accuracy_score(ground, results)"
   ]
  },
  {
   "cell_type": "markdown",
   "metadata": {},
   "source": [
    "As an additional test, we can try sending the `test_review` that we looked at earlier."
   ]
  },
  {
   "cell_type": "code",
   "execution_count": 147,
   "metadata": {},
   "outputs": [
    {
     "data": {
      "text/plain": [
       "b'1.0'"
      ]
     },
     "execution_count": 147,
     "metadata": {},
     "output_type": "execute_result"
    }
   ],
   "source": [
    "predictor.predict(test_review)"
   ]
  },
  {
   "cell_type": "markdown",
   "metadata": {},
   "source": [
    "Now that we know our endpoint is working as expected, we can set up the web page that will interact with it. If you don't have time to finish the project now, make sure to skip down to the end of this notebook and shut down your endpoint. You can deploy it again when you come back."
   ]
  },
  {
   "cell_type": "markdown",
   "metadata": {},
   "source": [
    "## Step 7 (again): Use the model for the web app\n",
    "\n",
    "> **TODO:** This entire section and the next contain tasks for you to complete, mostly using the AWS console.\n",
    "\n",
    "So far we have been accessing our model endpoint by constructing a predictor object which uses the endpoint and then just using the predictor object to perform inference. What if we wanted to create a web app which accessed our model? The way things are set up currently makes that not possible since in order to access a SageMaker endpoint the app would first have to authenticate with AWS using an IAM role which included access to SageMaker endpoints. However, there is an easier way! We just need to use some additional AWS services.\n",
    "\n",
    "<img src=\"Web App Diagram.svg\">\n",
    "\n",
    "The diagram above gives an overview of how the various services will work together. On the far right is the model which we trained above and which is deployed using SageMaker. On the far left is our web app that collects a user's movie review, sends it off and expects a positive or negative sentiment in return.\n",
    "\n",
    "In the middle is where some of the magic happens. We will construct a Lambda function, which you can think of as a straightforward Python function that can be executed whenever a specified event occurs. We will give this function permission to send and recieve data from a SageMaker endpoint.\n",
    "\n",
    "Lastly, the method we will use to execute the Lambda function is a new endpoint that we will create using API Gateway. This endpoint will be a url that listens for data to be sent to it. Once it gets some data it will pass that data on to the Lambda function and then return whatever the Lambda function returns. Essentially it will act as an interface that lets our web app communicate with the Lambda function.\n",
    "\n",
    "### Setting up a Lambda function\n",
    "\n",
    "The first thing we are going to do is set up a Lambda function. This Lambda function will be executed whenever our public API has data sent to it. When it is executed it will receive the data, perform any sort of processing that is required, send the data (the review) to the SageMaker endpoint we've created and then return the result.\n",
    "\n",
    "#### Part A: Create an IAM Role for the Lambda function\n",
    "\n",
    "Since we want the Lambda function to call a SageMaker endpoint, we need to make sure that it has permission to do so. To do this, we will construct a role that we can later give the Lambda function.\n",
    "\n",
    "Using the AWS Console, navigate to the **IAM** page and click on **Roles**. Then, click on **Create role**. Make sure that the **AWS service** is the type of trusted entity selected and choose **Lambda** as the service that will use this role, then click **Next: Permissions**.\n",
    "\n",
    "In the search box type `sagemaker` and select the check box next to the **AmazonSageMakerFullAccess** policy. Then, click on **Next: Review**.\n",
    "\n",
    "Lastly, give this role a name. Make sure you use a name that you will remember later on, for example `LambdaSageMakerRole`. Then, click on **Create role**.\n",
    "\n",
    "#### Part B: Create a Lambda function\n",
    "\n",
    "Now it is time to actually create the Lambda function.\n",
    "\n",
    "Using the AWS Console, navigate to the AWS Lambda page and click on **Create a function**. When you get to the next page, make sure that **Author from scratch** is selected. Now, name your Lambda function, using a name that you will remember later on, for example `sentiment_analysis_func`. Make sure that the **Python 3.6** runtime is selected and then choose the role that you created in the previous part. Then, click on **Create Function**.\n",
    "\n",
    "On the next page you will see some information about the Lambda function you've just created. If you scroll down you should see an editor in which you can write the code that will be executed when your Lambda function is triggered. In our example, we will use the code below. \n",
    "\n",
    "```python\n",
    "# We need to use the low-level library to interact with SageMaker since the SageMaker API\n",
    "# is not available natively through Lambda.\n",
    "import boto3\n",
    "\n",
    "def lambda_handler(event, context):\n",
    "\n",
    "    # The SageMaker runtime is what allows us to invoke the endpoint that we've created.\n",
    "    runtime = boto3.Session().client('sagemaker-runtime')\n",
    "\n",
    "    # Now we use the SageMaker runtime to invoke our endpoint, sending the review we were given\n",
    "    response = runtime.invoke_endpoint(EndpointName = '**ENDPOINT NAME HERE**',    # The name of the endpoint we created\n",
    "                                       ContentType = 'text/plain',                 # The data format that is expected\n",
    "                                       Body = event['body'])                       # The actual review\n",
    "\n",
    "    # The response is an HTTP response whose body contains the result of our inference\n",
    "    result = response['Body'].read().decode('utf-8')\n",
    "\n",
    "    return {\n",
    "        'statusCode' : 200,\n",
    "        'headers' : { 'Content-Type' : 'text/plain', 'Access-Control-Allow-Origin' : '*' },\n",
    "        'body' : result\n",
    "    }\n",
    "```\n",
    "\n",
    "Once you have copy and pasted the code above into the Lambda code editor, replace the `**ENDPOINT NAME HERE**` portion with the name of the endpoint that we deployed earlier. You can determine the name of the endpoint using the code cell below."
   ]
  },
  {
   "cell_type": "code",
   "execution_count": 148,
   "metadata": {},
   "outputs": [
    {
     "data": {
      "text/plain": [
       "'sagemaker-pytorch-2020-09-14-06-45-16-523'"
      ]
     },
     "execution_count": 148,
     "metadata": {},
     "output_type": "execute_result"
    }
   ],
   "source": [
    "predictor.endpoint"
   ]
  },
  {
   "cell_type": "markdown",
   "metadata": {},
   "source": [
    "Once you have added the endpoint name to the Lambda function, click on **Save**. Your Lambda function is now up and running. Next we need to create a way for our web app to execute the Lambda function.\n",
    "\n",
    "### Setting up API Gateway\n",
    "\n",
    "Now that our Lambda function is set up, it is time to create a new API using API Gateway that will trigger the Lambda function we have just created.\n",
    "\n",
    "Using AWS Console, navigate to **Amazon API Gateway** and then click on **Get started**.\n",
    "\n",
    "On the next page, make sure that **New API** is selected and give the new api a name, for example, `sentiment_analysis_api`. Then, click on **Create API**.\n",
    "\n",
    "Now we have created an API, however it doesn't currently do anything. What we want it to do is to trigger the Lambda function that we created earlier.\n",
    "\n",
    "Select the **Actions** dropdown menu and click **Create Method**. A new blank method will be created, select its dropdown menu and select **POST**, then click on the check mark beside it.\n",
    "\n",
    "For the integration point, make sure that **Lambda Function** is selected and click on the **Use Lambda Proxy integration**. This option makes sure that the data that is sent to the API is then sent directly to the Lambda function with no processing. It also means that the return value must be a proper response object as it will also not be processed by API Gateway.\n",
    "\n",
    "Type the name of the Lambda function you created earlier into the **Lambda Function** text entry box and then click on **Save**. Click on **OK** in the pop-up box that then appears, giving permission to API Gateway to invoke the Lambda function you created.\n",
    "\n",
    "The last step in creating the API Gateway is to select the **Actions** dropdown and click on **Deploy API**. You will need to create a new Deployment stage and name it anything you like, for example `prod`.\n",
    "\n",
    "You have now successfully set up a public API to access your SageMaker model. Make sure to copy or write down the URL provided to invoke your newly created public API as this will be needed in the next step. This URL can be found at the top of the page, highlighted in blue next to the text **Invoke URL**."
   ]
  },
  {
   "cell_type": "markdown",
   "metadata": {},
   "source": [
    "## Step 4: Deploying our web app\n",
    "\n",
    "Now that we have a publicly available API, we can start using it in a web app. For our purposes, we have provided a simple static html file which can make use of the public api you created earlier.\n",
    "\n",
    "In the `website` folder there should be a file called `index.html`. Download the file to your computer and open that file up in a text editor of your choice. There should be a line which contains **\\*\\*REPLACE WITH PUBLIC API URL\\*\\***. Replace this string with the url that you wrote down in the last step and then save the file.\n",
    "\n",
    "Now, if you open `index.html` on your local computer, your browser will behave as a local web server and you can use the provided site to interact with your SageMaker model.\n",
    "\n",
    "If you'd like to go further, you can host this html file anywhere you'd like, for example using github or hosting a static site on Amazon's S3. Once you have done this you can share the link with anyone you'd like and have them play with it too!\n",
    "\n",
    "> **Important Note** In order for the web app to communicate with the SageMaker endpoint, the endpoint has to actually be deployed and running. This means that you are paying for it. Make sure that the endpoint is running when you want to use the web app but that you shut it down when you don't need it, otherwise you will end up with a surprisingly large AWS bill.\n",
    "\n",
    "**TODO:** Make sure that you include the edited `index.html` file in your project submission."
   ]
  },
  {
   "cell_type": "markdown",
   "metadata": {},
   "source": [
    "Now that your web app is working, trying playing around with it and see how well it works.\n",
    "\n",
    "**Question**: Give an example of a review that you entered into your web app. What was the predicted sentiment of your example review?"
   ]
  },
  {
   "cell_type": "markdown",
   "metadata": {},
   "source": [
    "**Answer:**\n",
    "The movie was good I might go and see it again.\n",
    "Review was positive.\n"
   ]
  },
  {
   "cell_type": "markdown",
   "metadata": {},
   "source": [
    "### Delete the endpoint\n",
    "\n",
    "Remember to always shut down your endpoint if you are no longer using it. You are charged for the length of time that the endpoint is running so if you forget and leave it on you could end up with an unexpectedly large bill."
   ]
  },
  {
   "cell_type": "code",
   "execution_count": 149,
   "metadata": {},
   "outputs": [],
   "source": [
    "predictor.delete_endpoint()"
   ]
  },
  {
   "cell_type": "code",
   "execution_count": null,
   "metadata": {},
   "outputs": [],
   "source": []
  }
 ],
 "metadata": {
  "kernelspec": {
   "display_name": "conda_pytorch_p36",
   "language": "python",
   "name": "conda_pytorch_p36"
  },
  "language_info": {
   "codemirror_mode": {
    "name": "ipython",
    "version": 3
   },
   "file_extension": ".py",
   "mimetype": "text/x-python",
   "name": "python",
   "nbconvert_exporter": "python",
   "pygments_lexer": "ipython3",
   "version": "3.6.10"
  }
 },
 "nbformat": 4,
 "nbformat_minor": 2
}
